{
 "cells": [
  {
   "cell_type": "code",
   "execution_count": 1,
   "id": "8f8c797d",
   "metadata": {},
   "outputs": [
    {
     "data": {
      "application/vnd.microsoft.datawrangler.viewer.v0+json": {
       "columns": [
        {
         "name": "index",
         "rawType": "int64",
         "type": "integer"
        },
        {
         "name": "id",
         "rawType": "object",
         "type": "string"
        },
        {
         "name": "nl_statement",
         "rawType": "object",
         "type": "string"
        },
        {
         "name": "nl_proof",
         "rawType": "object",
         "type": "string"
        },
        {
         "name": "formal_statement",
         "rawType": "object",
         "type": "string"
        },
        {
         "name": "src_header",
         "rawType": "object",
         "type": "string"
        }
       ],
       "ref": "24b89aa4-088c-4ca0-8326-c2c7906b1e4a",
       "rows": [
        [
         "0",
         "Rudin|exercise_1_1a",
         "If $r$ is rational $(r \\neq 0)$ and $x$ is irrational, prove that $r+x$ is irrational.",
         "\\begin{proof}\n\n    If $r$ and $r+x$ were both rational, then $x=r+x-r$ would also be rational.\n\n\\end{proof}",
         "theorem exercise_1_1a\n  (x : ℝ) (y : ℚ) :\n  ( irrational x ) -> irrational ( x + y ) :=",
         "import .common\n\nopen real complex\nopen topological_space\nopen filter\nopen_locale real \nopen_locale topology\nopen_locale big_operators\nopen_locale complex_conjugate\nopen_locale filter\n\n\nnoncomputable theory\n\n"
        ],
        [
         "1",
         "Rudin|exercise_1_2",
         "Prove that there is no rational number whose square is $12$.",
         "\\begin{proof}\n\n    Suppose $m^2=12 n^2$, where $m$ and $n$ have no common factor. It follows that $m$ must be even, and therefore $n$ must be odd. Let $m=2 r$. Then we have $r^2=3 n^2$, so that $r$ is also odd. Let $r=2 s+1$ and $n=2 t+1$. Then\n\n$$\n\n4 s^2+4 s+1=3\\left(4 t^2+4 t+1\\right)=12 t^2+12 t+3,\n\n$$\n\nso that\n\n$$\n\n4\\left(s^2+s-3 t^2-3 t\\right)=2 .\n\n$$\n\nBut this is absurd, since 2 cannot be a multiple of 4 .\n\n\\end{proof}",
         "theorem exercise_1_2 : ¬ ∃ (x : ℚ), ( x ^ 2 = 12 ) :=",
         "import .common\n\nopen real complex\nopen topological_space\nopen filter\nopen_locale real \nopen_locale topology\nopen_locale big_operators\nopen_locale complex_conjugate\nopen_locale filter\n\n\nnoncomputable theory\n\n"
        ],
        [
         "2",
         "Rudin|exercise_1_5",
         "Let $A$ be a nonempty set of real numbers which is bounded below. Let $-A$ be the set of all numbers $-x$, where $x \\in A$. Prove that $\\inf A=-\\sup (-A)$.",
         "\\begin{proof}\n\n    We need to prove that $-\\sup (-A)$ is the greatest lower bound of $A$. For brevity, let $\\alpha=-\\sup (-A)$. We need to show that $\\alpha \\leq x$ for all $x \\in A$ and $\\alpha \\geq \\beta$ if $\\beta$ is any lower bound of $A$.\n\n\n\nSuppose $x \\in A$. Then, $-x \\in-A$, and, hence $-x \\leq \\sup (-A)$. It follows that $x \\geq-\\sup (-A)$, i.e., $\\alpha \\leq x$. Thus $\\alpha$ is a lower bound of $A$.\n\n\n\nNow let $\\beta$ be any lower bound of $A$. This means $\\beta \\leq x$ for all $x$ in $A$. Hence $-x \\leq-\\beta$ for all $x \\in A$, which says $y \\leq-\\beta$ for all $y \\in-A$. This means $-\\beta$ is an upper bound of $-A$. Hence $-\\beta \\geq \\sup (-A)$ by definition of sup, i.e., $\\beta \\leq-\\sup (-A)$, and so $-\\sup (-A)$ is the greatest lower bound of $A$.\n\n\\end{proof}",
         "theorem exercise_1_5 (A minus_A : set ℝ) (hA : A.nonempty) \n  (hA_bdd_below : bdd_below A) (hminus_A : minus_A = {x | -x ∈ A}) :\n  Inf A = Sup minus_A :=",
         "import .common\n\nopen real complex\nopen topological_space\nopen filter\nopen_locale real \nopen_locale topology\nopen_locale big_operators\nopen_locale complex_conjugate\nopen_locale filter\n\n\nnoncomputable theory\n\n"
        ],
        [
         "3",
         "Rudin|exercise_1_11a",
         "If $z$ is a complex number, prove that there exists an $r\\geq 0$ and a complex number $w$ with $| w | = 1$ such that $z = rw$.",
         "\\begin{proof}\n\n    If $z=0$, we take $r=0, w=1$. (In this case $w$ is not unique.) Otherwise we take $r=|z|$ and $w=z /|z|$, and these choices are unique, since if $z=r w$, we must have $r=r|w|=|r w|=|z|, z / r$\n\n\\end{proof}",
         "theorem exercise_1_11a (z : ℂ) : \n  ∃ (r : ℝ) (w : ℂ), abs w = 1 ∧ z = r * w :=",
         "import .common\n\nopen real complex\nopen topological_space\nopen filter\nopen_locale real \nopen_locale topology\nopen_locale big_operators\nopen_locale complex_conjugate\nopen_locale filter\n\n\nnoncomputable theory\n\n"
        ],
        [
         "4",
         "Rudin|exercise_1_13",
         "If $x, y$ are complex, prove that $||x|-|y|| \\leq |x-y|$.",
         "\\begin{proof}\n\n    Since $x=x-y+y$, the triangle inequality gives\n\n$$\n\n|x| \\leq|x-y|+|y|\n\n$$\n\nso that $|x|-|y| \\leq|x-y|$. Similarly $|y|-|x| \\leq|x-y|$. Since $|x|-|y|$ is a real number we have either ||$x|-| y||=|x|-|y|$ or ||$x|-| y||=|y|-|x|$. In either case, we have shown that ||$x|-| y|| \\leq|x-y|$.\n\n\\end{proof}",
         "theorem exercise_1_13 (x y : ℂ) : \n  |(abs x) - (abs y)| ≤ abs (x - y) :=",
         "import .common\n\nopen real complex\nopen topological_space\nopen filter\nopen_locale real \nopen_locale topology\nopen_locale big_operators\nopen_locale complex_conjugate\nopen_locale filter\n\n\nnoncomputable theory\n\n"
        ]
       ],
       "shape": {
        "columns": 5,
        "rows": 5
       }
      },
      "text/html": [
       "<div>\n",
       "<style scoped>\n",
       "    .dataframe tbody tr th:only-of-type {\n",
       "        vertical-align: middle;\n",
       "    }\n",
       "\n",
       "    .dataframe tbody tr th {\n",
       "        vertical-align: top;\n",
       "    }\n",
       "\n",
       "    .dataframe thead th {\n",
       "        text-align: right;\n",
       "    }\n",
       "</style>\n",
       "<table border=\"1\" class=\"dataframe\">\n",
       "  <thead>\n",
       "    <tr style=\"text-align: right;\">\n",
       "      <th></th>\n",
       "      <th>id</th>\n",
       "      <th>nl_statement</th>\n",
       "      <th>nl_proof</th>\n",
       "      <th>formal_statement</th>\n",
       "      <th>src_header</th>\n",
       "    </tr>\n",
       "  </thead>\n",
       "  <tbody>\n",
       "    <tr>\n",
       "      <th>0</th>\n",
       "      <td>Rudin|exercise_1_1a</td>\n",
       "      <td>If $r$ is rational $(r \\neq 0)$ and $x$ is irr...</td>\n",
       "      <td>\\begin{proof}\\n\\n    If $r$ and $r+x$ were bot...</td>\n",
       "      <td>theorem exercise_1_1a\\n  (x : ℝ) (y : ℚ) :\\n  ...</td>\n",
       "      <td>import .common\\n\\nopen real complex\\nopen topo...</td>\n",
       "    </tr>\n",
       "    <tr>\n",
       "      <th>1</th>\n",
       "      <td>Rudin|exercise_1_2</td>\n",
       "      <td>Prove that there is no rational number whose s...</td>\n",
       "      <td>\\begin{proof}\\n\\n    Suppose $m^2=12 n^2$, whe...</td>\n",
       "      <td>theorem exercise_1_2 : ¬ ∃ (x : ℚ), ( x ^ 2 = ...</td>\n",
       "      <td>import .common\\n\\nopen real complex\\nopen topo...</td>\n",
       "    </tr>\n",
       "    <tr>\n",
       "      <th>2</th>\n",
       "      <td>Rudin|exercise_1_5</td>\n",
       "      <td>Let $A$ be a nonempty set of real numbers whic...</td>\n",
       "      <td>\\begin{proof}\\n\\n    We need to prove that $-\\...</td>\n",
       "      <td>theorem exercise_1_5 (A minus_A : set ℝ) (hA :...</td>\n",
       "      <td>import .common\\n\\nopen real complex\\nopen topo...</td>\n",
       "    </tr>\n",
       "    <tr>\n",
       "      <th>3</th>\n",
       "      <td>Rudin|exercise_1_11a</td>\n",
       "      <td>If $z$ is a complex number, prove that there e...</td>\n",
       "      <td>\\begin{proof}\\n\\n    If $z=0$, we take $r=0, w...</td>\n",
       "      <td>theorem exercise_1_11a (z : ℂ) : \\n  ∃ (r : ℝ)...</td>\n",
       "      <td>import .common\\n\\nopen real complex\\nopen topo...</td>\n",
       "    </tr>\n",
       "    <tr>\n",
       "      <th>4</th>\n",
       "      <td>Rudin|exercise_1_13</td>\n",
       "      <td>If $x, y$ are complex, prove that $||x|-|y|| \\...</td>\n",
       "      <td>\\begin{proof}\\n\\n    Since $x=x-y+y$, the tria...</td>\n",
       "      <td>theorem exercise_1_13 (x y : ℂ) : \\n  |(abs x)...</td>\n",
       "      <td>import .common\\n\\nopen real complex\\nopen topo...</td>\n",
       "    </tr>\n",
       "  </tbody>\n",
       "</table>\n",
       "</div>"
      ],
      "text/plain": [
       "                     id                                       nl_statement  \\\n",
       "0   Rudin|exercise_1_1a  If $r$ is rational $(r \\neq 0)$ and $x$ is irr...   \n",
       "1    Rudin|exercise_1_2  Prove that there is no rational number whose s...   \n",
       "2    Rudin|exercise_1_5  Let $A$ be a nonempty set of real numbers whic...   \n",
       "3  Rudin|exercise_1_11a  If $z$ is a complex number, prove that there e...   \n",
       "4   Rudin|exercise_1_13  If $x, y$ are complex, prove that $||x|-|y|| \\...   \n",
       "\n",
       "                                            nl_proof  \\\n",
       "0  \\begin{proof}\\n\\n    If $r$ and $r+x$ were bot...   \n",
       "1  \\begin{proof}\\n\\n    Suppose $m^2=12 n^2$, whe...   \n",
       "2  \\begin{proof}\\n\\n    We need to prove that $-\\...   \n",
       "3  \\begin{proof}\\n\\n    If $z=0$, we take $r=0, w...   \n",
       "4  \\begin{proof}\\n\\n    Since $x=x-y+y$, the tria...   \n",
       "\n",
       "                                    formal_statement  \\\n",
       "0  theorem exercise_1_1a\\n  (x : ℝ) (y : ℚ) :\\n  ...   \n",
       "1  theorem exercise_1_2 : ¬ ∃ (x : ℚ), ( x ^ 2 = ...   \n",
       "2  theorem exercise_1_5 (A minus_A : set ℝ) (hA :...   \n",
       "3  theorem exercise_1_11a (z : ℂ) : \\n  ∃ (r : ℝ)...   \n",
       "4  theorem exercise_1_13 (x y : ℂ) : \\n  |(abs x)...   \n",
       "\n",
       "                                          src_header  \n",
       "0  import .common\\n\\nopen real complex\\nopen topo...  \n",
       "1  import .common\\n\\nopen real complex\\nopen topo...  \n",
       "2  import .common\\n\\nopen real complex\\nopen topo...  \n",
       "3  import .common\\n\\nopen real complex\\nopen topo...  \n",
       "4  import .common\\n\\nopen real complex\\nopen topo...  "
      ]
     },
     "execution_count": 1,
     "metadata": {},
     "output_type": "execute_result"
    }
   ],
   "source": [
    "import pandas as pd\n",
    "proofnet = pd.read_csv('/Users/aditya/neural-proof-assistant/backend/data/proofnet_train.csv')\n",
    "proofnet.head()"
   ]
  },
  {
   "cell_type": "code",
   "execution_count": 2,
   "id": "78d82baa",
   "metadata": {},
   "outputs": [],
   "source": [
    "useful_cols = ['nl_statement', 'nl_proof']"
   ]
  },
  {
   "cell_type": "code",
   "execution_count": 3,
   "id": "8a2f7fc1",
   "metadata": {},
   "outputs": [],
   "source": [
    "proofnet_data = proofnet[useful_cols]"
   ]
  },
  {
   "cell_type": "code",
   "execution_count": 4,
   "id": "98af172f",
   "metadata": {},
   "outputs": [
    {
     "data": {
      "text/plain": [
       "185"
      ]
     },
     "execution_count": 4,
     "metadata": {},
     "output_type": "execute_result"
    }
   ],
   "source": [
    "len(proofnet_data)"
   ]
  },
  {
   "cell_type": "code",
   "execution_count": 5,
   "id": "28a555da",
   "metadata": {},
   "outputs": [
    {
     "data": {
      "application/vnd.microsoft.datawrangler.viewer.v0+json": {
       "columns": [
        {
         "name": "index",
         "rawType": "object",
         "type": "string"
        },
        {
         "name": "0",
         "rawType": "int64",
         "type": "integer"
        }
       ],
       "ref": "05114646-d6fc-40fa-b7cd-992520375814",
       "rows": [
        [
         "nl_statement",
         "0"
        ],
        [
         "nl_proof",
         "1"
        ]
       ],
       "shape": {
        "columns": 1,
        "rows": 2
       }
      },
      "text/plain": [
       "nl_statement    0\n",
       "nl_proof        1\n",
       "dtype: int64"
      ]
     },
     "execution_count": 5,
     "metadata": {},
     "output_type": "execute_result"
    }
   ],
   "source": [
    "proofnet_data.isnull().sum()"
   ]
  },
  {
   "cell_type": "code",
   "execution_count": 6,
   "id": "376e4296",
   "metadata": {},
   "outputs": [],
   "source": [
    "proofnet_data = proofnet_data.dropna()"
   ]
  },
  {
   "cell_type": "code",
   "execution_count": 7,
   "id": "18df8358",
   "metadata": {},
   "outputs": [
    {
     "data": {
      "application/vnd.microsoft.datawrangler.viewer.v0+json": {
       "columns": [
        {
         "name": "index",
         "rawType": "object",
         "type": "string"
        },
        {
         "name": "0",
         "rawType": "int64",
         "type": "integer"
        }
       ],
       "ref": "160547c5-bc84-4285-a6ec-2b749e1d2c95",
       "rows": [
        [
         "nl_statement",
         "0"
        ],
        [
         "nl_proof",
         "0"
        ]
       ],
       "shape": {
        "columns": 1,
        "rows": 2
       }
      },
      "text/plain": [
       "nl_statement    0\n",
       "nl_proof        0\n",
       "dtype: int64"
      ]
     },
     "execution_count": 7,
     "metadata": {},
     "output_type": "execute_result"
    }
   ],
   "source": [
    "proofnet_data.isnull().sum()"
   ]
  },
  {
   "cell_type": "code",
   "execution_count": 8,
   "id": "b06e3a66",
   "metadata": {},
   "outputs": [
    {
     "data": {
      "application/vnd.microsoft.datawrangler.viewer.v0+json": {
       "columns": [
        {
         "name": "index",
         "rawType": "int64",
         "type": "integer"
        },
        {
         "name": "nl_statement",
         "rawType": "object",
         "type": "string"
        },
        {
         "name": "nl_proof",
         "rawType": "object",
         "type": "string"
        }
       ],
       "ref": "a0b973ed-bd74-4812-87b4-54f8e2ff15c7",
       "rows": [
        [
         "0",
         "If $r$ is rational $(r \\neq 0)$ and $x$ is irrational, prove that $r+x$ is irrational.",
         "\\begin{proof}\n\n    If $r$ and $r+x$ were both rational, then $x=r+x-r$ would also be rational.\n\n\\end{proof}"
        ],
        [
         "1",
         "Prove that there is no rational number whose square is $12$.",
         "\\begin{proof}\n\n    Suppose $m^2=12 n^2$, where $m$ and $n$ have no common factor. It follows that $m$ must be even, and therefore $n$ must be odd. Let $m=2 r$. Then we have $r^2=3 n^2$, so that $r$ is also odd. Let $r=2 s+1$ and $n=2 t+1$. Then\n\n$$\n\n4 s^2+4 s+1=3\\left(4 t^2+4 t+1\\right)=12 t^2+12 t+3,\n\n$$\n\nso that\n\n$$\n\n4\\left(s^2+s-3 t^2-3 t\\right)=2 .\n\n$$\n\nBut this is absurd, since 2 cannot be a multiple of 4 .\n\n\\end{proof}"
        ],
        [
         "2",
         "Let $A$ be a nonempty set of real numbers which is bounded below. Let $-A$ be the set of all numbers $-x$, where $x \\in A$. Prove that $\\inf A=-\\sup (-A)$.",
         "\\begin{proof}\n\n    We need to prove that $-\\sup (-A)$ is the greatest lower bound of $A$. For brevity, let $\\alpha=-\\sup (-A)$. We need to show that $\\alpha \\leq x$ for all $x \\in A$ and $\\alpha \\geq \\beta$ if $\\beta$ is any lower bound of $A$.\n\n\n\nSuppose $x \\in A$. Then, $-x \\in-A$, and, hence $-x \\leq \\sup (-A)$. It follows that $x \\geq-\\sup (-A)$, i.e., $\\alpha \\leq x$. Thus $\\alpha$ is a lower bound of $A$.\n\n\n\nNow let $\\beta$ be any lower bound of $A$. This means $\\beta \\leq x$ for all $x$ in $A$. Hence $-x \\leq-\\beta$ for all $x \\in A$, which says $y \\leq-\\beta$ for all $y \\in-A$. This means $-\\beta$ is an upper bound of $-A$. Hence $-\\beta \\geq \\sup (-A)$ by definition of sup, i.e., $\\beta \\leq-\\sup (-A)$, and so $-\\sup (-A)$ is the greatest lower bound of $A$.\n\n\\end{proof}"
        ],
        [
         "3",
         "If $z$ is a complex number, prove that there exists an $r\\geq 0$ and a complex number $w$ with $| w | = 1$ such that $z = rw$.",
         "\\begin{proof}\n\n    If $z=0$, we take $r=0, w=1$. (In this case $w$ is not unique.) Otherwise we take $r=|z|$ and $w=z /|z|$, and these choices are unique, since if $z=r w$, we must have $r=r|w|=|r w|=|z|, z / r$\n\n\\end{proof}"
        ],
        [
         "4",
         "If $x, y$ are complex, prove that $||x|-|y|| \\leq |x-y|$.",
         "\\begin{proof}\n\n    Since $x=x-y+y$, the triangle inequality gives\n\n$$\n\n|x| \\leq|x-y|+|y|\n\n$$\n\nso that $|x|-|y| \\leq|x-y|$. Similarly $|y|-|x| \\leq|x-y|$. Since $|x|-|y|$ is a real number we have either ||$x|-| y||=|x|-|y|$ or ||$x|-| y||=|y|-|x|$. In either case, we have shown that ||$x|-| y|| \\leq|x-y|$.\n\n\\end{proof}"
        ],
        [
         "5",
         "Suppose $k \\geq 3, x, y \\in \\mathbb{R}^k, |x - y| = d > 0$, and $r > 0$. Prove that if $2r > d$, there are infinitely many $z \\in \\mathbb{R}^k$ such that $|z-x|=|z-y|=r$.",
         "\\begin{proof}\n\n    (a) Let w be any vector satisfying the following two equations:\n\n$$\n\n\\begin{aligned}\n\n\\mathbf{w} \\cdot(\\mathbf{x}-\\mathbf{y}) &=0, \\\\\n\n|\\mathbf{w}|^2 &=r^2-\\frac{d^2}{4} .\n\n\\end{aligned}\n\n$$\n\nFrom linear algebra it is known that all but one of the components of a solution $\\mathbf{w}$ of the first equation can be arbitrary. The remaining component is then uniquely determined. Also, if $w$ is any non-zero solution of the first equation, there is a unique positive number $t$ such that $t$ w satisfies both equations. (For example, if $x_1 \\neq y_1$, the first equation is satisfied whenever\n\n$$\n\nz_1=\\frac{z_2\\left(x_2-y_2\\right)+\\cdots+z_k\\left(x_k-y_k\\right)}{y_1-x_1} .\n\n$$\n\nIf $\\left(z_1, z_2, \\ldots, z_k\\right)$ satisfies this equation, so does $\\left(t z_1, t z_2, \\ldots, t z_k\\right)$ for any real number $t$.) Since at least two of these components can vary independently, we can find a solution with these components having any prescribed ratio. This ratio does not change when we multiply by the positive number $t$ to obtain a solution of both equations. Since there are infinitely many ratios, there are infinitely many distinct solutions. For each such solution $\\mathbf{w}$ the vector $\\mathbf{z}=$ $\\frac{1}{2} \\mathrm{x}+\\frac{1}{2} \\mathrm{y}+\\mathrm{w}$ is a solution of the required equation. For\n\n$$\n\n\\begin{aligned}\n\n|\\mathrm{z}-\\mathbf{x}|^2 &=\\left|\\frac{\\mathbf{y}-\\mathbf{x}}{2}+\\mathbf{w}\\right|^2 \\\\\n\n&=\\left|\\frac{\\mathbf{y}-\\mathbf{x}}{2}\\right|^2+2 \\mathbf{w} \\cdot \\frac{\\mathbf{x}-\\mathbf{y}}{2}+|\\mathbf{w}|^2 \\\\\n\n&=\\frac{d^2}{4}+0+r^2-\\frac{d^2}{4} \\\\\n\n&=r^2\n\n\\end{aligned}\n\n$$\n\nand a similar relation holds for $|z-y|^2$.\n\n\\end{proof}"
        ],
        [
         "6",
         "If $k \\geq 2$ and $\\mathbf{x} \\in R^{k}$, prove that there exists $\\mathbf{y} \\in R^{k}$ such that $\\mathbf{y} \\neq 0$ but $\\mathbf{x} \\cdot \\mathbf{y}=0$",
         "\\begin{proof}\n\n    If $\\mathbf{x}$ has any components equal to 0 , then $\\mathbf{y}$ can be taken to have the corresponding components equal to 1 and all others equal to 0 . If all the components of $\\mathbf{x}$ are nonzero, $\\mathbf{y}$ can be taken as $\\left(-x_2, x_1, 0, \\ldots, 0\\right)$. This is, of course, not true when $k=1$, since the product of two nonzero real numbers is nonzero.\n\n\\end{proof}"
        ],
        [
         "7",
         "Suppose $a, b \\in R^k$. Find $c \\in R^k$ and $r > 0$ such that $|x-a|=2|x-b|$ if and only if $| x - c | = r$. Prove that $3c = 4b - a$ and $3r = 2 |b - a|$.",
         "\\begin{proof}\n\n    Since the solution is given to us, all we have to do is verify it, i.e., we need to show that the equation\n\n$$\n\n|\\mathrm{x}-\\mathrm{a}|=2|\\mathrm{x}-\\mathrm{b}|\n\n$$\n\nis equivalent to $|\\mathrm{x}-\\mathbf{c}|=r$, which says\n\n$$\n\n\\left|\\mathbf{x}-\\frac{4}{3} \\mathbf{b}+\\frac{1}{3} \\mathbf{a}\\right|=\\frac{2}{3}|\\mathbf{b}-\\mathbf{a}| .\n\n$$\n\nIf we square both sides of both equations, we an equivalent pair of equations, the first of which reduces to\n\n$$\n\n3|\\mathbf{x}|^2+2 \\mathbf{a} \\cdot \\mathbf{x}-8 \\mathbf{b} \\cdot \\mathbf{x}-|\\mathbf{a}|^2+4|\\mathbf{b}|^2=0,\n\n$$\n\nand the second of which reduces to this equation divided by 3 . Hence these equations are indeed equivalent.\n\n\\end{proof}"
        ],
        [
         "8",
         "Let $X$ be a metric space in which every infinite subset has a limit point. Prove that $X$ is separable.",
         "\\begin{proof}\n\n    We observe that if the process of constructing $x_j$ did not terminate, the result would be an infinite set of points $x_j, j=1,2, \\ldots$, such that $d\\left(x_i, x_j\\right) \\geq \\delta$ for $i \\neq j$. It would then follow that for any $x \\in X$, the open ball $B_{\\frac{\\delta}{2}}(x)$ contains at most one point of the infinite set, hence that no point could be a limit point of this set, contrary to hypothesis. Hence $X$ is totally bounded, i.e., for each $\\delta>0$ there is a finite set $x_1, \\ldots, x_{N\\delta}$such that $X=\\bigcup_{j / 1}^{N\\delta} B_\\delta\\left(x_j\\right)$\n\n\n\nLet $x_{n_1}, \\ldots, x_{n N_n}$ be such that $X=\\bigcup_{j / 1}^{N_n} B_{\\frac{1}{n}}\\left(x_{n j}\\right), n=1,2, \\ldots$ We claim that $\\left\\{x_{n j}: 1 \\leq j \\leq N_n ; n=1,2, \\ldots\\right\\}$ is a countable dense subset of $X$. Indeed\n\n25\n\nif $x \\in X$ and $\\delta>0$, then $x \\in B_{\\frac{1}{n}}\\left(x_{n j}\\right)$ for some $x_{n j}$ for some $n>\\frac{1}{\\delta}$, and hence $d\\left(x, x_{n j}\\right)<\\delta$. By definition, this means that $\\left\\{x_{n j}\\right\\}$ is dense in $X$.\n\n\\end{proof}"
        ],
        [
         "9",
         "Suppose $E\\subset\\mathbb{R}^k$ is uncountable, and let $P$ be the set of condensation points of $E$. Prove that $P$ is perfect.",
         "\\begin{proof}\n\n    We see that $E \\cap W$ is at most countable, being a countable union of at-most-countable sets. It remains to show that $P=W^c$, and that $P$ is perfect.\n\n\\end{proof}"
        ],
        [
         "10",
         "Prove that every closed set in a separable metric space is the union of a (possibly empty) perfect set and a set which is at most countable.",
         "\\begin{proof}\n\n    If $E$ is closed, it contains all its limit points, and hence certainly all its condensation points. Thus $E=P \\cup(E \\backslash P)$, where $P$ is perfect (the set of all condensation points of $E$ ), and $E \\backslash P$ is at most countable.\n\n\n\nSince a perfect set in a separable metric space has the same cardinality as the real numbers, the set $P$ must be empty if $E$ is countable. The at-mostcountable set $E \\backslash P$ cannot be perfect, hence must have isolated points if it is nonempty.\n\n\\end{proof}"
        ],
        [
         "11",
         "Prove that convergence of $\\left\\{s_{n}\\right\\}$ implies convergence of $\\left\\{\\left|s_{n}\\right|\\right\\}$.",
         "\\begin{proof}\n\n    Let $\\varepsilon>0$. Since the sequence $\\left\\{s_n\\right\\}$ is a Cauchy sequence, there exists $N$ such that $\\left|s_m-s_n\\right|<\\varepsilon$ for all $m>N$ and $n>N$. We then have $\\left| |s_m| - |s_n| \\right| \\leq\\left|s_m-s_n\\right|<\\varepsilon$ for all $m>N$ and $n>N$. Hence the sequence $\\left\\{\\left|s_n\\right|\\right\\}$ is also a Cauchy sequence, and therefore must converge.\n\n\\end{proof}"
        ],
        [
         "12",
         "If $s_{1}=\\sqrt{2}$, and $s_{n+1}=\\sqrt{2+\\sqrt{s_{n}}} \\quad(n=1,2,3, \\ldots),$ prove that $\\left\\{s_{n}\\right\\}$ converges, and that $s_{n}<2$ for $n=1,2,3, \\ldots$.",
         "\\begin{proof}\n\n    Since $\\sqrt{2}<2$, it is manifest that if $s_n<2$, then $s_{n+1}<\\sqrt{2+2}=2$. Hence it follows by induction that $\\sqrt{2}<s_n<2$ for all $n$. In view of this fact,it also follows that $\\left(s_n-2\\right)\\left(s_n+1\\right)<0$ for all $n>1$, i.e., $s_n>s_n^2-2=s_{n-1}$. Hence the sequence is an increasing sequence that is bounded above (by 2 ) and so converges. Since the limit $s$ satisfies $s^2-s-2=0$, it follows that the limit is 2.\n\n\\end{proof}"
        ],
        [
         "13",
         "Prove that $\\lim_{n \\rightarrow \\infty} \\sum_{i<n} a_i = \\infty$, where $a_i = \\sqrt{i + 1} -\\sqrt{i}$.",
         "\\begin{proof}\n\n    (a) Multiplying and dividing $a_n$ by $\\sqrt{n+1}+\\sqrt{n}$, we find that $a_n=\\frac{1}{\\sqrt{n+1}+\\sqrt{n}}$, which is larger than $\\frac{1}{2 \\sqrt{n+1}}$. The series $\\sum a_n$ therefore diverges by comparison with the $p$ series $\\left(p=\\frac{1}{2}\\right)$.\n\n\\end{proof}"
        ],
        [
         "14",
         "If $\\Sigma a_{n}$ converges, and if $\\left\\{b_{n}\\right\\}$ is monotonic and bounded, prove that $\\Sigma a_{n} b_{n}$ converges.",
         "\\begin{proof}\n\n    We shall show that the partial sums of this series form a Cauchy sequence, i.e., given $\\varepsilon>0$ there exists $N$ such that $\\left|\\sum_{k=m+1}^n a_k b_k\\right|\\langle\\varepsilon$ if $n\\rangle$ $m \\geq N$. To do this, let $S_n=\\sum_{k=1}^n a_k\\left(S_0=0\\right)$, so that $a_k=S_k-S_{k-1}$ for $k=1,2, \\ldots$ Let $M$ be an uppper bound for both $\\left|b_n\\right|$ and $\\left|S_n\\right|$, and let $S=\\sum a_n$ and $b=\\lim b_n$. Choose $N$ so large that the following three inequalities hold for all $m>N$ and $n>N$ :\n\n$$\n\n\\left|b_n S_n-b S\\right|<\\frac{\\varepsilon}{3} ; \\quad\\left|b_m S_m-b S\\right|<\\frac{\\varepsilon}{3} ; \\quad\\left|b_m-b_n\\right|<\\frac{\\varepsilon}{3 M} .\n\n$$\n\nThen if $n>m>N$, we have, from the formula for summation by parts,\n\n$$\n\n\\sum_{k=m+1}^n a_n b_n=b_n S_n-b_m S_m+\\sum_{k=m}^{n-1}\\left(b_k-b_{k+1}\\right) S_k\n\n$$\n\nOur assumptions yield immediately that $\\left|b_n S_n-b_m S_m\\right|<\\frac{2 \\varepsilon}{3}$, and\n\n$$\n\n\\left|\\sum_{k=m}^{n-1}\\left(b_k-b_{k+1}\\right) S_k\\right| \\leq M \\sum_{k=m}^{n-1}\\left|b_k-b_{k+1}\\right| .\n\n$$\n\nSince the sequence $\\left\\{b_n\\right\\}$ is monotonic, we have\n\n$$\n\n\\sum_{k=m}^{n-1}\\left|b_k-b_{k+1}\\right|=\\left|\\sum_{k=m}^{n-1}\\left(b_k-b_{k+1}\\right)\\right|=\\left|b_m-b_n\\right|<\\frac{\\varepsilon}{3 M},\n\n$$\n\nfrom which the desired inequality follows.\n\n\\end{proof}"
        ],
        [
         "15",
         "Suppose $\\left\\{p_{n}\\right\\}$ is a Cauchy sequence in a metric space $X$, and some sequence $\\left\\{p_{n l}\\right\\}$ converges to a point $p \\in X$. Prove that the full sequence $\\left\\{p_{n}\\right\\}$ converges to $p$.",
         "\\begin{proof}\n\n    Let $\\varepsilon>0$. Choose $N_1$ so large that $d\\left(p_m, p_n\\right)<\\frac{\\varepsilon}{2}$ if $m>N_1$ and $n>N_1$. Then choose $N \\geq N_1$ so large that $d\\left(p_{n_k}, p\\right)<\\frac{\\varepsilon}{2}$ if $k>N$. Then if $n>N$, we have\n\n$$\n\nd\\left(p_n, p\\right) \\leq d\\left(p_n, p_{n_{N+1}}\\right)+d\\left(p_{n_{N+1}}, p\\right)<\\varepsilon\n\n$$\n\nFor the first term on the right is less than $\\frac{\\varepsilon}{2}$ since $n>N_1$ and $n_{N+1}>N+1>$ $N_1$. The second term is less than $\\frac{\\varepsilon}{2}$ by the choice of $N$.\n\n\\end{proof}"
        ],
        [
         "16",
         "Suppose $X$ is a nonempty complete metric space, and $\\left\\{G_{n}\\right\\}$ is a sequence of dense open sets of $X$. Prove Baire's theorem, namely, that $\\bigcap_{1}^{\\infty} G_{n}$ is not empty.",
         "\\begin{proof}\n\n    Let $F_n$ be the complement of $G_n$, so that $F_n$ is closed and contains no open sets. We shall prove that any nonempty open set $U$ contains a point not in any $F_n$, hence in all $G_n$. To this end, we note that $U$ is not contained in $F_1$, so that there is a point $x_1 \\in U \\backslash F_1$. Since $U \\backslash F_1$ is open, there exists $r_1>0$ such that $B_1$, defined as the open ball of radius $r_1$ about $x_1$, is contained in $U \\backslash F_1$. Let $E_1$ be the open ball of radius $\\frac{r_1}{2}$ about $x_1$, so that the closure of $E_1$ is contained in $B_1$. Now $F_2$ does not contain $E_1$, and so we can find a point $x_2 \\in E_1 \\backslash F_2$. Since $E_1 \\backslash F_2$ is an open set, there exists a positive number $r_2$ such that $B_2$, the open ball of radius $R_2$ about $x_2$, is contained in $E_1 \\backslash F_2$, which in turn is contained in $U \\backslash\\left(F_1 \\cup F_2\\right)$. We let $E_2$ be the open ball of radius $\\frac{r_2}{2}$ about $x_2$, so that $\\bar{E}_2 \\subseteq B_2$. Proceeding in this way, we construct a sequence of open balls $E_j$, such that $E_j \\supseteq \\bar{E}_{j+1}$, and the diameter of $E_j$ tends to zero. By the previous exercise, there is a point $x$ belonging to all the sets $\\bar{E}_j$, hence to all the sets $U \\backslash\\left(F_1 \\cup F_2 \\cup \\cdots \\cup F_n\\right)$. Thus the point $x$ belongs to $U \\cap\\left(\\cap_1^{\\infty} G_n\\right)$.\n\n\\end{proof}"
        ],
        [
         "17",
         "If $f$ is a continuous mapping of a metric space $X$ into a metric space $Y$, prove that $f(\\overline{E}) \\subset \\overline{f(E)}$ for every set $E \\subset X$. ($\\overline{E}$ denotes the closure of $E$).",
         "\\begin{proof}\n\n    Let $x \\in \\bar{E}$. We need to show that $f(x) \\in \\overline{f(E)}$. To this end, let $O$ be any neighborhood of $f(x)$. Since $f$ is continuous, $f^{-1}(O)$ contains (is) a neighborhood of $x$. Since $x \\in \\bar{E}$, there is a point $u$ of $E$ in $f^{-1}(O)$. Hence $\\frac{f(u)}{f(E)} \\in O \\cap f(E)$. Since $O$ was any neighborhood of $f(x)$, it follows that $f(x) \\in \\overline{f(E)}$\n\n\\end{proof}"
        ],
        [
         "18",
         "Let $f$ and $g$ be continuous mappings of a metric space $X$ into a metric space $Y$, and let $E$ be a dense subset of $X$. Prove that $f(E)$ is dense in $f(X)$.",
         "\\begin{proof}\n\n    To prove that $f(E)$ is dense in $f(X)$, simply use that $f(X)=f(\\bar{E}) \\subseteq \\overline{f(E)}$.\n\n\\end{proof}"
        ],
        [
         "19",
         "If $f$ is a real continuous function defined on a closed set $E \\subset \\mathbb{R}$, prove that there exist continuous real functions $g$ on $\\mathbb{R}$ such that $g(x)=f(x)$ for all $x \\in E$.",
         "\\begin{proof}\n\nFollowing the hint, let the complement of $E$ consist of a countable collection of finite open intervals $\\left(a_k, b_k\\right)$ together with possibly one or both of the the semi-infinite intervals $(b,+\\infty)$ and $(-\\infty, a)$. The function $f(x)$ is already defined at $a_k$ and $b_k$, as well as at $a$ and $b$ (if these last two points exist). Define $g(x)$ to be $f(b)$ for $x>b$ and $f(a)$ for $x<a$ if $a$ and $b$ exist. On the interval $\\left(a_k, b_k\\right)$ let\n\n$$\n\ng(x)=f\\left(a_k\\right)+\\frac{x-a_k}{b_k-a_k}\\left(f\\left(b_k\\right)-f\\left(a_k\\right)\\right) .\n\n$$\n\nOf course we let $g(x)=f(x)$ for $x \\in E$. It is now fairly clear that $g(x)$ is continuous. A rigorous proof proceeds as follows. Let $\\varepsilon>0$. To choose $\\delta>0$ such that $|x-u|<\\delta$ implies $|g(x)-g(u)|<\\varepsilon$, we consider three cases.\n\ni. If $x>b$, let $\\delta=x-b$. Then if $|x-u|<\\delta$, it follows that $u>b$ also, so that $g(u)=f(b)=g(x)$, and $|g(u)-g(x)|=0<\\varepsilon$. Similarly if $x<a$, let $\\delta=a-x$\n\nii. If $a_k<x<b_k$ and $f\\left(a_k\\right)=f\\left(b_k\\right)$, let $\\delta=\\min \\left(x-a_k, b_k-x\\right)$. Since $|x-u|<\\delta$ implies $a_k<u<b_k$, so that $g(u)=f\\left(a_k\\right)=f\\left(b_k\\right)=g(x)$, we again have $|g(x)-g(u)|=0<\\varepsilon$. If $a_k<x<b_k$ and $f\\left(a_k\\right) \\neq f\\left(b_k\\right)$, let $\\delta=\\min \\left(x-a_k, b_k-x, \\frac{\\left(b_k-a_k\\right) \\varepsilon}{\\left|f\\left(b_k\\right)-f\\left(a_k\\right)\\right|}\\right)$. Then if $|x-u|<\\delta$, we again have $a_k<u<b_k$ and so\n\n$$\n\n|g(x)-g(u)|=\\frac{|x-u|}{b_k-a_k}\\left|f\\left(b_k\\right)-f\\left(a_k\\right)\\right|<\\varepsilon .\n\n$$\n\niii. If $x \\in E$, let $\\delta_1$ be such that $|f(u)-f(x)|<\\varepsilon$ if $u \\in E$ and $|x-u|<\\delta_1$. (Subcase a). If there are points $x_1 \\in E \\cap\\left(x-\\delta_1, x\\right)$ and $x_2 \\in E \\cap\\left(x, x+\\delta_1\\right)$, let $\\delta=\\min \\left(x-x_1, x_2-x\\right)$. If $|u-x|<\\delta$ and $u \\in E$, then $|f(u)-f(x)|<\\varepsilon$ by definition of $\\delta_1$. if $u \\notin E$, then, since $x_1, x$, and $x_2$ are all in $E$, it follows that $u \\in\\left(a_k, b_k\\right)$, where $a_k \\in E, b_k \\in E$, and $\\left|a_k-x\\right|<\\delta$ and $\\left|b_k-x\\right|<\\delta$, so that $\\left|f\\left(a_k\\right)-f(x)\\right|<\\varepsilon$ and $\\left|f\\left(b_k\\right)-f(x)\\right|<\\varepsilon$. If $f\\left(a_k\\right)=f\\left(b_k\\right)$, then $f(u)=f\\left(a_k\\right)$ also, and we have $|f(u)-f(x)|<\\varepsilon$. If $f\\left(a_k\\right) \\neq f\\left(b_k\\right)$, then\n\n$$\n\n\\begin{aligned}\n\n|f(u)-f(x)| & =\\left|f\\left(a_k\\right)-f(x)+\\frac{u-a_k}{b_k-a_k}\\left(f\\left(b_k\\right)-f\\left(a_k\\right)\\right)\\right| \\\\\n\n& =\\left|\\frac{b_k-u}{b_k-a_k}\\left(f\\left(a_k\\right)-f(x)\\right)+\\frac{u-a_k}{b_k-a_k}\\left(f\\left(b_k\\right)-f(x)\\right)\\right| \\\\\n\n& <\\frac{b_k-u}{b_k-a_k} \\varepsilon+\\frac{u-a_k}{b_k-a_k} \\varepsilon \\\\\n\n& =\\varepsilon\n\n\\end{aligned}\n\n$$\n\n(Subcase b). Suppose $x_2$ does not exist, i.e., either $x=a_k$ or $x=a_k$ and $b_k>a_k+\\delta_1$. Let us consider the second of these cases and show how to get $|f(u)-f(x)|<\\varepsilon$ for $x<u<x+\\delta$. If $f\\left(a_k\\right)=f\\left(b_k\\right)$, let $\\delta=\\delta_1$. If $u>x$ we have $a_k<u<b_k$ and $f(u)=f\\left(a_k\\right)=f(x)$. If $f\\left(a_k\\right) \\neq f\\left(b_k\\right)$, let $\\delta=$ $\\min \\left(\\delta_1, \\frac{\\left(b_k-a_k\\right) \\varepsilon}{\\left|f\\left(b_k\\right)-f\\left(a_k\\right)\\right|}\\right)$. Then, just as in Subcase a, we have $|f(u)-f(x)|<\\varepsilon$.\n\nThe case when $x=b_k$ for some $k$ and $a_k<x-\\delta_1$ is handled in exactly the same way.\n\n\\end{proof}"
        ],
        [
         "20",
         "If $f$ is defined on $E$, the graph of $f$ is the set of points $(x, f(x))$, for $x \\in E$. In particular, if $E$ is a set of real numbers, and $f$ is real-valued, the graph of $f$ is a subset of the plane. Suppose $E$ is compact, and prove that $f$ is continuous on $E$ if and only if its graph is compact.",
         "\\begin{proof}\n\n    Let $Y$ be the co-domain of the function $f$. We invent a new metric space $E \\times Y$ as the set of pairs of points $(x, y), x \\in E, y \\in Y$, with the metric $\\rho\\left(\\left(x_1, y_1\\right),\\left(x_2, y_2\\right)\\right)=d_E\\left(x_1, x_2\\right)+d_Y\\left(y_1, y_2\\right)$. The function $\\varphi(x)=(x, f(x))$ is then a mapping of $E$ into $E \\times Y$.\n\n\n\nWe claim that the mapping $\\varphi$ is continuous if $f$ is continuous. Indeed, let $x \\in X$ and $\\varepsilon>0$ be given. Choose $\\eta>0$ so that $d_Y(f(x), f(u))<\\frac{\\varepsilon}{2}$ if $d_E(x, y)<\\eta$. Then let $\\delta=\\min \\left(\\eta, \\frac{\\varepsilon}{2}\\right)$. It is easy to see that $\\rho(\\varphi(x), \\varphi(u))<\\varepsilon$ if $d_E(x, u)<\\delta$. Conversely if $\\varphi$ is continuous, it is obvious from the inequality $\\rho(\\varphi(x), \\varphi(u)) \\geq d_Y(f(x), f(u))$ that $f$ is continuous.\n\n\n\nFrom these facts we deduce immediately that the graph of a continuous function $f$ on a compact set $E$ is compact, being the image of $E$ under the continuous mapping $\\varphi$. Conversely, if $f$ is not continuous at some point $x$, there is a sequence of points $x_n$ converging to $x$ such that $f\\left(x_n\\right)$ does not converge to $f(x)$. If no subsequence of $f\\left(x_n\\right)$ converges, then the sequence $\\left\\{\\left(x_n, f\\left(x_n\\right)\\right\\}_{n=1}^{\\infty}\\right.$ has no convergent subsequence, and so the graph is not compact. If some subsequence of $f\\left(x_n\\right)$ converges, say $f\\left(x_{n_k}\\right) \\rightarrow z$, but $z \\neq f(x)$, then the graph of $f$ fails to contain the limit point $(x, z)$, and hence is not closed. A fortiori it is not compact.\n\n\\end{proof}"
        ],
        [
         "21",
         "Let $E$ be a bounded set in $R^{1}$. Prove that there exists a real function $f$ such that $f$ is uniformly continuous and is not bounded on $E$.",
         "\\begin{proof}\n\n    The function $f(x)=x$ is uniformly continuous on the entire line, but not bounded.\n\n\\end{proof}"
        ],
        [
         "22",
         "A uniformly continuous function of a uniformly continuous function is uniformly continuous.",
         "\\begin{proof}\n\n    Let $f: X \\rightarrow Y$ and $g: Y \\rightarrow Z$ be uniformly continuous. Then $g \\circ f: X \\rightarrow Z$ is uniformly continuous, where $g \\circ f(x)=g(f(x))$ for all $x \\in X$.\n\nTo prove this fact, let $\\varepsilon>0$ be given. Then, since $g$ is uniformly continuous, there exists $\\eta>0$ such that $d_Z(g(u), g(v))<\\varepsilon$ if $d_Y(u, v)<\\eta$. Since $f$ is uniformly continuous, there exists $\\delta>0$ such that $d_Y(f(x), f(y))<\\eta$ if $d_X(x, y)<\\delta$\n\n\n\nIt is then obvious that $d_Z(g(f(x)), g(f(y)))<\\varepsilon$ if $d_X(x, y)<\\delta$, so that $g \\circ f$ is uniformly continuous.\n\n\\end{proof}"
        ],
        [
         "23",
         "Suppose $f$ is a real function with domain $R^{1}$ which has the intermediate value property: if $f(a)<c<f(b)$, then $f(x)=c$ for some $x$ between $a$ and $b$. Suppose also, for every rational $r$, that the set of all $x$ with $f(x)=r$ is closed. Prove that $f$ is continuous.",
         "\\begin{proof}\n\n    The contradiction is evidently that $x_0$ is a limit point of the set of $t$ such that $f(t)=r$, yet, $x_0$ does not belong to this set. This contradicts the hypothesis that the set is closed.\n\n\\end{proof}"
        ],
        [
         "24",
         "Assume that $f$ is a continuous real function defined in $(a, b)$ such that $f\\left(\\frac{x+y}{2}\\right) \\leq \\frac{f(x)+f(y)}{2}$ for all $x, y \\in(a, b)$. Prove that $f$ is convex.",
         "\\begin{proof}\n\n    We shall prove that\n\n$$\n\nf(\\lambda x+(1-\\lambda) y) \\leq \\lambda f(x)+(1-\\lambda) f(y)\n\n$$\n\nfor all \"dyadic rational\" numbers, i.e., all numbers of the form $\\lambda=\\frac{k}{2^n}$, where $k$ is a nonnegative integer not larger than $2^n$. We do this by induction on $n$. The case $n=0$ is trivial (since $\\lambda=0$ or $\\lambda=1$ ). In the case $n=1$ we have $\\lambda=0$ or $\\lambda=1$ or $\\lambda=\\frac{1}{2}$. The first two cases are again trivial, and the third is precisely the hypothesis of the theorem. Suppose the result is proved for $n \\leq r$, and consider $\\lambda=\\frac{k}{2^{r+1}}$. If $k$ is even, say $k=2 l$, then $\\frac{k}{2^{r+1}}=\\frac{l}{2^r}$, and we can appeal to the induction hypothesis. Now suppose $k$ is odd. Then $1 \\leq k \\leq 2^{r+1}-1$, and so the numbers $l=\\frac{k-1}{2}$ and $m=\\frac{k+1}{2}$ are integers with $0 \\leq l<m \\leq 2^r$. We can now write\n\n$$\n\n\\lambda=\\frac{s+t}{2},\n\n$$\n\nwhere $s=\\frac{k-1}{2^{r+1}}=\\frac{l}{2^r}$ and $t=\\frac{k+1}{2^{r+1}}=\\frac{m}{2^r}$. We then have\n\n$$\n\n\\lambda x+(1-\\lambda) y=\\frac{[s x+(1-s) y]+[t x+(1-t) y]}{2}\n\n$$\n\nHence by the hypothesis of the theorem and the induction hypothesis we have\n\n$$\n\n\\begin{aligned}\n\nf(\\lambda x+(1-\\lambda) y) & \\leq \\frac{f(s x+(1-s) y)+f(t x+(1-t) y)}{2} \\\\\n\n& \\leq \\frac{s f(x)+(1-s) f(y)+t f(x)+(1-t) f(y)}{2} \\\\\n\n&=\\left(\\frac{s+t}{2}\\right) f(x)+\\left(1-\\frac{s+t}{2}\\right) f(y) \\\\\n\n&=\\lambda f(x)+(1-\\lambda) f(y)\n\n\\end{aligned}\n\n$$\n\nThis completes the induction.\n\nNow for each fixed $x$ and $y$ both sides of the inequality\n\n$$\n\nf(\\lambda x+(1-\\lambda) y) \\leq \\lambda f(x)+(1-\\lambda) f(y)\n\n$$\n\nare continuous functions of $\\lambda$. Hence the set on which this inequality holds (the inverse image of the closed set $[0, \\infty)$ under the mapping $\\lambda \\mapsto \\lambda f(x)+(1-$ $\\lambda) f(y)-f(\\lambda x+(1-\\lambda) y))$ is a closed set. Since it contains all the points $\\frac{k}{2^n}$, $0 \\leq k \\leq n, n=1,2, \\ldots$, it must contain the closure of this set of points, i.e., it must contain all of $[0,1]$. Thus $f$ is convex.\n\n\\end{proof}"
        ],
        [
         "25",
         "Suppose $f^{\\prime}(x)>0$ in $(a, b)$. Prove that $f$ is strictly increasing in $(a, b)$, and let $g$ be its inverse function. Prove that $g$ is differentiable, and that $g^{\\prime}(f(x))=\\frac{1}{f^{\\prime}(x)} \\quad(a<x<b)$.",
         "\\begin{proof}\n\n   For any $c, d$ with $a<c<d<b$ there exists a point $p \\in(c, d)$ such that $f(d)-f(c)=f^{\\prime}(p)(d-c)>0$. Hence $f(c)<f(d)$\n\n\n\nWe know from Theorem $4.17$ that the inverse function $g$ is continuous. (Its restriction to each closed subinterval $[c, d]$ is continuous, and that is sufficient.) Now observe that if $f(x)=y$ and $f(x+h)=y+k$, we have\n\n$$\n\n\\frac{g(y+k)-g(y)}{k}-\\frac{1}{f^{\\prime}(x)}=\\frac{1}{\\frac{f(x+h)-f(x)}{h}}-\\frac{1}{f^{\\prime}(x)}\n\n$$\n\nSince we know $\\lim \\frac{1}{\\varphi(t)}=\\frac{1}{\\lim \\varphi(t)}$ provided $\\lim \\varphi(t) \\neq 0$, it follows that for any $\\varepsilon>0$ there exists $\\eta>0$ such that\n\n$$\n\n\\left|\\frac{1}{\\frac{f(x+h)-f(x)}{h}}-\\frac{1}{f^{\\prime}(x)}\\right|<\\varepsilon\n\n$$\n\nif $0<|h|<\\eta$. Since $h=g(y+k)-g(y)$, there exists $\\delta>0$ such that $0<|h|<\\eta$ if $0<|k|<\\delta$. The proof is now complete. \n\n\\end{proof}"
        ],
        [
         "26",
         "If $C_{0}+\\frac{C_{1}}{2}+\\cdots+\\frac{C_{n-1}}{n}+\\frac{C_{n}}{n+1}=0,$ where $C_{0}, \\ldots, C_{n}$ are real constants, prove that the equation $C_{0}+C_{1} x+\\cdots+C_{n-1} x^{n-1}+C_{n} x^{n}=0$ has at least one real root between 0 and 1.",
         "\\begin{proof}\n\n    Consider the polynomial\n\n$$\n\np(x)=C_0 x+\\frac{C_1}{2} x^2+\\cdots+\\frac{C_{n-1}}{n} x^n+\\frac{C_n}{n+1} x^{n+1},\n\n$$\n\nwhose derivative is\n\n$$\n\np^{\\prime}(x)=C_0+C_1 x+\\cdots+C_{n-1} x^{n-1}+C_n x^n .\n\n$$\n\nIt is obvious that $p(0)=0$, and the hypothesis of the problem is that $p(1)=0$. Hence Rolle's theorem implies that $p^{\\prime}(x)=0$ for some $x$ between 0 and 1 .\n\n\\end{proof}"
        ],
        [
         "27",
         "Suppose (a) $f$ is continuous for $x \\geq 0$, (b) $f^{\\prime}(x)$ exists for $x>0$, (c) $f(0)=0$, (d) $f^{\\prime}$ is monotonically increasing. Put $g(x)=\\frac{f(x)}{x} \\quad(x>0)$ and prove that $g$ is monotonically increasing.",
         "\\begin{proof}\n\n    Put\n\n$$\n\ng(x)=\\frac{f(x)}{x} \\quad(x>0)\n\n$$\n\nand prove that $g$ is monotonically increasing.\n\nBy the mean-value theorem\n\n$$\n\nf(x)=f(x)-f(0)=f^{\\prime}(c) x\n\n$$\n\nfor some $c \\in(0, x)$. Since $f^{\\prime}$ is monotonically increasing, this result implies that $f(x)<x f^{\\prime}(x)$. It therefore follows that\n\n$$\n\ng^{\\prime}(x)=\\frac{x f^{\\prime}(x)-f(x)}{x^2}>0,\n\n$$\n\nso that $g$ is also monotonically increasing.\n\n\\end{proof}"
        ],
        [
         "28",
         "Suppose $a \\in R^{1}, f$ is a twice-differentiable real function on $(a, \\infty)$, and $M_{0}, M_{1}, M_{2}$ are the least upper bounds of $|f(x)|,\\left|f^{\\prime}(x)\\right|,\\left|f^{\\prime \\prime}(x)\\right|$, respectively, on $(a, \\infty)$. Prove that $M_{1}^{2} \\leq 4 M_{0} M_{2} .$",
         "\\begin{proof}\n\n    The inequality is obvious if $M_0=+\\infty$ or $M_2=+\\infty$, so we shall assume that $M_0$ and $M_2$ are both finite. We need to show that\n\n$$\n\n\\left|f^{\\prime}(x)\\right| \\leq 2 \\sqrt{M_0 M_2}\n\n$$\n\nfor all $x>a$. We note that this is obvious if $M_2=0$, since in that case $f^{\\prime}(x)$ is constant, $f(x)$ is a linear function, and the only bounded linear function is a constant, whose derivative is zero. Hence we shall assume from now on that $0<M_2<+\\infty$ and $0<M_0<+\\infty$.\n\nFollowing the hint, we need only choose $h=\\sqrt{\\frac{M_0}{M_2}}$, and we obtain\n\n$$\n\n\\left|f^{\\prime}(x)\\right| \\leq 2 \\sqrt{M_0 M_2},\n\n$$\n\nwhich is precisely the desired inequality.\n\nThe case of equality follows, since the example proposed satisfies\n\n$$\n\nf(x)=1-\\frac{2}{x^2+1}\n\n$$\n\nfor $x \\geq 0$. We see easily that $|f(x)| \\leq 1$ for all $x>-1$. Now $f^{\\prime}(x)=\\frac{4 x}{\\left(x^2+1\\right)^2}$ for $x>0$ and $f^{\\prime}(x)=4 x$ for $x<0$. It thus follows from Exercise 9 above that $f^{\\prime}(0)=0$, and that $f^{\\prime}(x)$ is continuous. Likewise $f^{\\prime \\prime}(x)=4$ for $x<0$ and $f^{\\prime \\prime}(x)=\\frac{4-4 x^2}{\\left(x^2+1\\right)^3}=-4 \\frac{x^2-1}{\\left(x^2+1\\right)^3}$. This shows that $\\left|f^{\\prime \\prime}(x)\\right|<4$ for $x>0$ and also that $\\lim _{x \\rightarrow 0} f^{\\prime \\prime}(x)=4$. Hence Exercise 9 again implies that $f^{\\prime \\prime}(x)$ is continuous and $f^{\\prime \\prime}(0)=4$.\n\n\n\nOn $n$-dimensional space let $\\mathbf{f}(x)=\\left(f_1(x), \\ldots, f_n(x)\\right), M_0=\\sup |\\mathbf{f}(x)|$, $M_1=\\sup \\left|\\mathbf{f}^{\\prime}(x)\\right|$, and $M_2=\\sup \\left|\\mathbf{f}^{\\prime \\prime}(x)\\right|$. Just as in the numerical case, there is nothing to prove if $M_2=0$ or $M_0=+\\infty$ or $M_2=+\\infty$, and so we assume $0<M_0<+\\infty$ and $0<M_2<\\infty$. Let $a$ be any positive number less than $M_1$, let $x_0$ be such that $\\left|\\mathbf{f}^{\\prime}\\left(x_0\\right)\\right|>a$, and let $\\mathbf{u}=\\frac{1}{\\left|\\mathbf{f}^{\\prime}\\left(x_0\\right)\\right|} \\mathbf{f}^{\\prime}\\left(x_0\\right)$. Consider the real-valued function $\\varphi(x)=\\mathrm{u} \\cdot \\mathrm{f}(x)$. Let $N_0, N_1$, and $N_2$ be the suprema of $|\\varphi(x)|,\\left|\\varphi^{\\prime}(x)\\right|$, and $\\left|\\varphi^{\\prime \\prime}(x)\\right|$ respectively. By the Schwarz inequality we have (since $|\\mathbf{u}|=1) N_0 \\leq M_0$ and $N_2 \\leq M_2$, while $N_1 \\geq \\varphi\\left(x_0\\right)=\\left|\\mathbf{f}^{\\prime}\\left(x_0\\right)\\right|>a$. We therefore have $a^2<4 N_0 N_2 \\leq 4 M_0 M_2$. Since $a$ was any positive number less than $M_1$, we have $M_1^2 \\leq 4 M_0 M_2$, i.e., the result holds also for vector-valued functions.\n\n\n\nEquality can hold on any $R^n$, as we see by taking $\\mathbf{f}(x)=(f(x), 0, \\ldots, 0)$ or $\\mathbf{f}(x)=(f(x), f(x), \\ldots, f(x))$, where $f(x)$ is a real-valued function for which equality holds.\n\n\n\n\\end{proof}"
        ],
        [
         "29",
         "Let $X$ be a topological space; let $A$ be a subset of $X$. Suppose that for each $x \\in A$ there is an open set $U$ containing $x$ such that $U \\subset A$. Show that $A$ is open in $X$.",
         "\\begin{proof}\n\n    Since, from the given hypothesis given any $x \\in A$ there exists an open set containing $x$ say, $U_x$ such that $U_x \\subset A$. Thus, we claim that\n\n$$\n\nA=\\bigcup_{x \\in A} U_x\n\n$$\n\nObserve that if we prove the above claim, then $A$ will be open, being a union of arbitrary open sets. Since, for each $x \\in A, U_x \\subset A \\Longrightarrow \\cup U_x \\subset A$. For the converse, observe that given any $x \\in A, x \\in U_x$ and hence in the union. Thus we proved our claim, and hence $A$ is an open set.\n\n\\end{proof}"
        ],
        [
         "30",
         "If $\\mathcal{T}_\\alpha$ is a family of topologies on $X$, show that $\\bigcap \\mathcal{T}_\\alpha$ is a topology on $X$.",
         "\\begin{proof}\n\n    Since $\\emptyset$ and $X$ belong to $\\mathcal{T}_\\alpha$ for each $\\alpha$, they belong to $\\bigcap_\\alpha \\mathcal{T}_\\alpha$. Let $\\left\\{V_\\beta\\right\\}_\\beta$ be a collection of open sets in $\\bigcap_\\alpha \\mathcal{T}_\\alpha$. For any fixed $\\alpha$ we have $\\cup_\\beta V_\\beta \\in \\mathcal{T}_\\alpha$ since $\\mathcal{T}_\\alpha$ is a topology on $X$, so $\\bigcup_\\beta V_\\beta \\in \\bigcap_\\alpha \\mathcal{T}_\\alpha$. Similarly, if $U_1, \\ldots, U_n$ are elements of $\\bigcap_\\alpha \\mathcal{T}_\\alpha$, then for each $\\alpha$ we have $\\bigcup_{i=1}^n U_i \\in \\mathcal{T}_\\alpha$ and therefore $\\bigcup_{i=1}^n U_i \\in \\bigcap_\\alpha \\mathcal{T}_\\alpha$. It follows that $\\bigcap_\\alpha \\mathcal{T}_\\alpha$ is a topology on $X$.\n\n\\end{proof}"
        ],
        [
         "31",
         "Let $\\mathcal{T}_\\alpha$ be a family of topologies on $X$. Show that there is a unique smallest topology on $X$ containing all the collections $\\mathcal{T}_\\alpha$.",
         "\\begin{proof}\n\n    (b) First we prove that there is a unique smallest topology on $X$ containing all the collections $\\mathcal{T}_\\alpha$. Uniqueness of such topology is clear. For each $\\alpha$ let $\\mathcal{B}_\\alpha$ be a basis for $\\mathcal{T}_\\alpha$. Let $\\mathcal{T}$ be the topology generated by the subbasis $\\mathcal{S}=\\bigcup_\\alpha \\mathcal{B}_\\alpha$. Then the collection $\\mathcal{B}$ of all finite intersections of elements of $\\mathcal{S}$ is a basis for $\\mathcal{T}$. Clearly $\\mathcal{T}_\\alpha \\subset \\mathcal{T}$ for all $\\alpha$. We now prove that if $\\mathcal{O}$ is a topology on $X$ such that $\\mathcal{T}_\\alpha \\subset \\mathcal{O}$ for all $\\alpha$, then $\\mathcal{T} \\subset \\mathcal{O}$. Given such $\\mathcal{O}$, we have $\\mathcal{B}_\\alpha \\subset \\mathcal{O}$ for all $\\alpha$, so $\\mathcal{S} \\subset \\mathcal{O}$. Since $\\mathcal{O}$ is a topology, it must contain all finite intersections of elements of $\\mathcal{S}$, so $\\mathcal{B} \\subset \\mathcal{O}$ and hence $\\mathcal{T} \\subset \\mathcal{O}$. We conclude that the topology $\\mathcal{T}$ generated by the subbasis $\\mathcal{S}=\\cup_\\alpha \\mathcal{B}_\\alpha$ is the unique smallest topology on $X$ containing all the collections $\\mathcal{T}_\\alpha$.\n\n\\end{proof}"
        ],
        [
         "32",
         "Show that if $\\mathcal{A}$ is a basis for a topology on $X$, then the topology generated by $\\mathcal{A}$ equals the intersection of all topologies on $X$ that contain $\\mathcal{A}$.",
         "\\begin{proof}\n\n    Let $\\mathcal{T}$ be the topology generated by $\\mathcal{A}$ and let $\\mathcal{O}$ be the intersection of all topologies on $X$ that contains $\\mathcal{A}$. Clearly $\\mathcal{O} \\subset \\mathcal{T}$ since $\\mathcal{T}$ is a topology on $X$ that contain $\\mathcal{A}$. Conversely, let $U \\in \\mathcal{T}$, so that $U$ is a union of elements of $\\mathcal{A}$. Since each of this elements is also an element of $\\mathcal{O}$, their union $U$ belongs to $\\mathcal{O}$. Thus $\\mathcal{T} \\subset \\mathcal{O}$ and the equality holds.\n\n\\end{proof}"
        ],
        [
         "33",
         "Show that the lower limit topology $\\mathbb{R}_l$ and $K$-topology $\\mathbb{R}_K$ are not comparable.",
         "\\begin{proof}\n\n    Let $\\mathcal{T}_{\\ell}$ and $\\mathcal{T}_K$ denote the topologies of $\\mathbb{R}_{\\ell}$ and $\\mathbb{R}_K$ respectively. Given the basis element $[0,1)$ for $\\mathcal{T}_{\\ell}$, there is no basis element for $\\mathcal{T}_K$ containing 0 and contained in $[0,1)$, so $\\mathcal{T}_{\\ell} \\not \\subset \\mathcal{T}_K$. Similarly, given the basis element $(-1,1) \\backslash K$ for $\\mathcal{T}_K$, there is no basis element for $\\mathcal{T}_{\\ell}$ containing 0 contained in $(-1,1) \\backslash K$, so $\\mathcal{T}_K \\not \\subset \\mathcal{T}_{\\ell}$.\n\n\\end{proof}"
        ],
        [
         "34",
         "Show that the collection $\\{(a,b) \\mid a < b, a \\text{ and } b \\text{ rational}\\}$ is a basis that generates a topology different from the lower limit topology on $\\mathbb{R}$.",
         "\\begin{proof}\n\n    (b) $\\mathcal{C}$ is a basis for a topology on $\\mathbb{R}$ since the union of its elements is $\\mathbb{R}$ and the intersection of two elements of $\\mathcal{C}$ is either empty or another element of $\\mathcal{C}$. Now consider $[r, s)$ where $r$ is any irrational number and $s$ is any real number greater than $r$. Then $[r, s)$ is a basis element for the topology of $\\mathbb{R}_{\\ell}$, but $[r, s)$ is not a union of elements of $\\mathcal{C}$. Indeed, suppose that $[r, s)=\\cup_\\alpha\\left[a_\\alpha, b_\\alpha\\right)$ for rationals $a_\\alpha, b_\\alpha$. Then $r \\in\\left[a_\\alpha, b_\\alpha\\right)$ for some $\\alpha$. Since $r$ is irrational we must have $a_\\alpha<r$, but then $a_\\alpha \\notin[r, s)$, a contradiction. It follows that the topology generated by $\\mathcal{C}$ is strictly coarser than the lower limit topology on $\\mathbb{R}$.\n\n\\end{proof}"
        ],
        [
         "35",
         "A map $f: X \\rightarrow Y$ is said to be an open map if for every open set $U$ of $X$, the set $f(U)$ is open in $Y$. Show that $\\pi_{1}: X \\times Y \\rightarrow X$ and $\\pi_{2}: X \\times Y \\rightarrow Y$ are open maps.",
         "\\begin{proof}\n\n    Exercise 16.4. Let $U \\times V$ be a (standard) basis element for $X \\times Y$, so that $U$ is open in $X$ and $V$ is open in $Y$. Then $\\pi_1(U \\times V)=U$ is open in $X$ and $\\pi_2(U \\times V)=V$ is open in $Y$. Since arbitrary maps and unions satisfy $f\\left(\\bigcup_\\alpha W_\\alpha\\right)=\\bigcup_\\alpha f\\left(W_\\alpha\\right)$, it follows that $\\pi_1$ and $\\pi_2$ are open maps.\n\n\\end{proof}"
        ],
        [
         "36",
         "Show that if $U$ is open in $X$ and $A$ is closed in $X$, then $U-A$ is open in $X$, and $A-U$ is closed in $X$.",
         "\\begin{proof}\n\nSince\n\n$$\n\nX \\backslash(U \\backslash A)=(X \\backslash U) \\cup A \\text { and } \\quad X \\backslash(A \\backslash U)=(X \\backslash A) \\cup U,\n\n$$\n\nit follows that $X \\backslash(U \\backslash A)$ is closed in $X$ and $X \\backslash(A \\backslash U)$ is open in $X$.\n\n\\end{proof}"
        ],
        [
         "37",
         "Let $Y$ be an ordered set in the order topology. Let $f, g: X \\rightarrow Y$ be continuous. Let $h: X \\rightarrow Y$ be the function $h(x)=\\min \\{f(x), g(x)\\}.$ Show that $h$ is continuous.",
         "\\begin{proof}\n\n    Let $A=\\{x \\mid f(x) \\leq g(x)\\}$ and $B=\\{x \\mid g(x) \\leq f(x)\\}$. Then $A$ and $B$ are closed in $X$ by (a), $A \\cap B=\\{x \\mid f(x)=g(x)\\}$, and $X=A \\cup B$. Since $f$ and $g$ are continuous, their restrictions $f^{\\prime}: A \\rightarrow Y$ and $g^{\\prime}: B \\rightarrow Y$ are continuous. It follows from the pasting lemma that\n\n$$\n\nh: X \\rightarrow Y, \\quad h(x)=\\min \\{f(x), g(x)\\}= \\begin{cases}f^{\\prime}(x) & \\text { if } x \\in A \\\\ g^{\\prime}(x) & \\text { if } x \\in B\\end{cases}\n\n$$\n\nis continuous\n\n\\end{proof}"
        ],
        [
         "38",
         "Let $\\mathbf{x}_1, \\mathbf{x}_2, \\ldots$ be a sequence of the points of the product space $\\prod X_\\alpha$.  Show that this sequence converges to the point $\\mathbf{x}$ if and only if the sequence $\\pi_\\alpha(\\mathbf{x}_i)$ converges to $\\pi_\\alpha(\\mathbf{x})$ for each $\\alpha$.",
         "\\begin{proof}\n\n    For each $n \\in \\mathbb{Z}_{+}$, we write $\\mathbf{x}_n=\\left(x_n^\\alpha\\right)_\\alpha$, so that $\\pi_\\alpha\\left(\\mathbf{x}_n\\right)=x_n^\\alpha$ for each $\\alpha$.\n\nFirst assume that the sequence $\\mathbf{x}_1, \\mathbf{x}_2, \\ldots$ converges to $\\mathbf{x}=\\left(x_\\alpha\\right)_\\alpha$ in the product space $\\prod_\\alpha X_\\alpha$. Fix an index $\\beta$ and let $U$ be a neighbourhood of $\\pi_\\beta(\\mathbf{x})=x_\\beta$. Let $V=\\prod_\\alpha U_\\alpha$, where $U_\\alpha=X_\\alpha$ for each $\\alpha \\neq \\beta$ and $U_\\beta=U$. Then $V$ is a neighbourhood of $\\mathbf{x}$, so there exists $N \\in \\mathbb{Z}_{+}$such that $\\mathbf{x}_n \\in V$ for all $n \\geq N$. Therefore $\\pi_\\beta\\left(\\mathbf{x}_n\\right)=x_n^\\beta \\in U$ for all $n \\geq N$. Since $U$ was arbitrary, it follows that $\\pi_\\beta\\left(\\mathbf{x}_1\\right), \\pi_\\beta\\left(\\mathbf{x}_2\\right), \\ldots$ converges to $\\pi_\\beta(\\mathbf{x})$. Since $\\beta$ was arbitrary, this holds for all indices $\\alpha$.\n\n\\end{proof}"
        ],
        [
         "39",
         "Define $f_{n}:[0,1] \\rightarrow \\mathbb{R}$ by the equation $f_{n}(x)=x^{n}$. Show that the sequence $\\left(f_{n}(x)\\right)$ converges for each $x \\in[0,1]$.",
         "\\begin{proof}\n\nIf $0 \\leq x<1$ is fixed, then $f_n(x) \\rightarrow 0$ as $n \\rightarrow \\infty$. As $f_n(1)=1$ for all $n, f_n(1) \\rightarrow 1$. Thus $\\left(f_n\\right)_n$ converges to $f:[0,1] \\rightarrow \\mathbb{R}$ given by $f(x)=0$ if $x=0$ and $f(1)=1$. The sequence\n\n\\end{proof}"
        ],
        [
         "40",
         "Let $X$ be a topological space and let $Y$ be a metric space. Let $f_{n}: X \\rightarrow Y$ be a sequence of continuous functions. Let $x_{n}$ be a sequence of points of $X$ converging to $x$. Show that if the sequence $\\left(f_{n}\\right)$ converges uniformly to $f$, then $\\left(f_{n}\\left(x_{n}\\right)\\right)$ converges to $f(x)$.",
         "\\begin{proof}\n\n    Let $d$ be the metric on $Y$. Let $V$ be a neighbourhood of $f(x)$, and let $\\varepsilon>0$ be such that $f(x) \\in B_d(f(x), \\varepsilon) \\subset V$. Since $\\left(f_n\\right)_n$ converges uniformly to $f$, there exists $N_1 \\in \\mathbb{Z}_{+}$such that $d\\left(f_n(x), f(x)\\right)<\\varepsilon / 2$ for all $x \\in X$ and all $n \\geq N_1$, so that $d\\left(f_n\\left(x_n\\right), f\\left(x_n\\right)\\right)<\\varepsilon / 2$ for all $n \\geq N_1$. Moreover, $f$ is continuous, so there exists $N_2 \\in \\mathbb{Z}_{+}$such that $d\\left(f\\left(x_n\\right), f(x)\\right)<\\varepsilon / 2$ for all $n \\geq N_2$. Thus, if $N>\\max \\left\\{N_1, N_2\\right\\}$, then\n\n$$\n\nd\\left(f_n\\left(x_n\\right), f(x)\\right) \\leq d\\left(f_n\\left(x_n\\right), f\\left(x_n\\right)\\right)+d\\left(f\\left(x_n\\right), f(x)\\right)<\\frac{\\varepsilon}{2}+\\frac{\\varepsilon}{2}=\\varepsilon\n\n$$\n\nfor all $n \\geq N$, so $f_n\\left(x_n\\right) \\in V$ for all $n \\geq N$. It follows that $\\left(f_n\\left(x_n\\right)\\right)_n$ converges to $f(x)$.\n\n\\end{proof}"
        ],
        [
         "41",
         "If $A \\subset X$, a retraction of $X$ onto $A$ is a continuous map $r: X \\rightarrow A$ such that $r(a)=a$ for each $a \\in A$. Show that a retraction is a quotient map.",
         "\\begin{proof}\n\nThe inclusion map $i: A \\rightarrow X$ is continuous and $r \\circ i=1_A$ is the identity. Thus $r$ is a quotient map by (a).\n\n\\end{proof}"
        ],
        [
         "42",
         "Let $\\left\\{A_{n}\\right\\}$ be a sequence of connected subspaces of $X$, such that $A_{n} \\cap A_{n+1} \\neq \\varnothing$ for all $n$. Show that $\\bigcup A_{n}$ is connected.",
         "\\begin{proof}\n\n    Suppose that $\\bigcup_n A_n=B \\cup C$, where $B$ and $C$ are disjoint open subsets of $\\bigcup_n A_n$. Since $A_1$ is connected and a subset of $B \\cup C$, by Lemma $23.2$ it lies entirely within either $B$ or $C$. Without any loss of generality, we may assume $A_1 \\subset B$. Note that given $n$, if $A_n \\subset B$ then $A_{n+1} \\subset B$, for if $A_{n+1} \\subset C$ then $A_n \\cap A_{n+1} \\subset B \\cap C=\\emptyset$, in contradiction with the assumption. By induction, $A_n \\subset B$ for all $n \\in \\mathbb{Z}_{+}$, so that $\\bigcup_n A_n \\subset B$. It follows that $\\bigcup_n A_n$ is connected.\n\n\\end{proof}"
        ],
        [
         "43",
         "Show that if $X$ is an infinite set, it is connected in the finite complement topology.",
         "\\begin{proof}\n\n    Suppose that $A$ is a non-empty subset of $X$ that is both open and closed, i.e., $A$ and $X \\backslash A$ are finite or all of $X$. Since $A$ is non-empty, $X \\backslash A$ is finite. Thus $A$ cannot be finite as $X \\backslash A$ is infinite, so $A$ is all of $X$. Therefore $X$ is connected.\n\n\\end{proof}"
        ],
        [
         "44",
         "Let $A$ be a proper subset of $X$, and let $B$ be a proper subset of $Y$. If $X$ and $Y$ are connected, show that $(X \\times Y)-(A \\times B)$ is connected.",
         "\\begin{proof}\n\nThis is similar to the proof of Theorem 23.6. Take $c \\times d \\in(X \\backslash A) \\times(Y \\backslash B)$. For each $x \\in X \\backslash A$, the set\n\n$$\n\nU_x=(X \\times\\{d\\}) \\cup(\\{x\\} \\times Y)\n\n$$\n\nis connected since $X \\times\\{d\\}$ and $\\{x\\} \\times Y$ are connected and have the common point $x \\times d$. Then $U=\\bigcup_{x \\in X \\backslash A} U_x$ is connected because it is the union of the connected spaces $U_x$ which have the point $c \\times d$ in common. Similarly, for each $y \\in Y \\backslash B$ the set\n\n$$\n\nV_y=(X \\times\\{y\\}) \\cup(\\{c\\} \\times Y)\n\n$$\n\nis connected, so $V=\\bigcup_{y \\in Y \\backslash B} V_y$ is connected. Thus $(X \\times Y) \\backslash(A \\times B)=U \\cup V$ is connected since $c \\times d$ is a common point of $U$ and $V$.\n\n\\end{proof}"
        ],
        [
         "45",
         "Let $f: S^{1} \\rightarrow \\mathbb{R}$ be a continuous map. Show there exists a point $x$ of $S^{1}$ such that $f(x)=f(-x)$.",
         "\\begin{proof}\n\n    Let $f: S^1 \\rightarrow \\mathbb{R}$ be continuous. Let $x \\in S^1$. If $f(x)=f(-x)$ we are done, so assume $f(x) \\neq f(-x)$. Define $g: S^1 \\rightarrow \\mathbb{R}$ by setting $g(x)=f(x)-f(-x)$. Then $g$ is continuous. Suppose $f(x)>f(-x)$, so that $g(x)>0$. Then $-x \\in S^1$ and $g(-x)<0$. By the intermediate value theorem, since $S^1$ is connected and $g(-x)<0<g(x)$, there exists $y \\in S^1$ such that $g(y)=0$. i.e, $f(y)=f(-y)$. Similarly, if $f(x)<f(-x)$, then $g(x)<0<g(-x)$ and again the intermediate value theorem gives the result.\n\n\\end{proof}"
        ],
        [
         "46",
         "Let $X$ be locally path connected. Show that every connected open set in $X$ is path connected.",
         "\\begin{proof}\n\n    Let $U$ be a open connected set in $X$. By Theorem 25.4, each path component of $U$ is open in $X$, hence open in $U$. Thus, each path component in $U$ is both open and closed in $U$, so must be empty or all of $U$. It follows that $U$ is path-connected.\n\n\\end{proof}"
        ],
        [
         "47",
         "Let $X$ be a compact Hausdorff space. Let $\\mathcal{A}$ be a collection of closed connected subsets of $X$ that is simply ordered by proper inclusion. Then $Y=\\bigcap_{A \\in \\mathcal{A}} A$ is connected.",
         "\\begin{proof}\n\n Since each $A \\in \\mathcal{A}$ is closed, $Y$ is closed. Suppose that $C$ and $D$ form a separation of $Y$. Then $C$ and $D$ are closed in $Y$, hence closed in $X$. Since $X$ is compact, $C$ and $D$ are compact by Theorem 26.2. Since $X$ is Hausdorff, by Exercise 26.5, there exist $U$ and $V$ open in $X$ and disjoint containing $C$ and $D$, respectively. We show that\n\n$$\n\n\\bigcap_{A \\in \\mathcal{A}}(A \\backslash(U \\cup V))\n\n$$\n\nis not empty. Let $\\left\\{A_1, \\ldots, A_n\\right\\}$ be a finite subcollection of elements of $\\mathcal{A}$. We may assume that $A_i \\subsetneq A_{i+1}$ for all $i=1, \\ldots, n-1$. Then\n\n$$\n\n\\bigcap_{i=1}^n\\left(A_i \\backslash(U \\cup V)\\right)=A_1 \\backslash(U \\cup V) \\text {. }\n\n$$\n\nSuppose that $A_1 \\backslash(U \\cup V)=\\emptyset$. Then $A_1 \\subset U \\cup V$. Since $A_1$ is connected and $U \\cap V=\\emptyset, A_1$ lies within either $U$ or $V$, say $A_1 \\subset U$. Then $Y \\subset A_1 \\subset U$, so that $C=Y \\cap C \\subset Y \\cap V=\\emptyset$, contradicting the fact that $C$ and $D$ form a separation of $Y$. Hence, $\\bigcap_{i=1}^n\\left(A_i \\backslash(U \\cup V)\\right)$ is non-empty. Therefore, the collection $\\{A \\backslash(U \\cup V) \\mid A \\in \\mathcal{A}\\}$ has the finite intersection property, so\n\n$$\n\n\\bigcap_{A \\in \\mathcal{A}}(A \\backslash(U \\cup V))=\\left(\\bigcap_{A \\in \\mathcal{A}} A\\right) \\backslash(U \\cup V)=Y \\backslash(U \\cup V)\n\n$$\n\nis non-empty. So there exists $y \\in Y$ such that $y \\notin U \\cup V \\supset C \\cup D$, contradicting the fact that $C$ and $D$ form a separation of $Y$. We conclude that there is no such separation, so that $Y$ is connected.\n\n\\end{proof}"
        ],
        [
         "48",
         "Show that a connected metric space having more than one point is uncountable.",
         "\\begin{proof}\n\n    The distance function $d: X \\times X \\rightarrow \\mathbb{R}$ is continuous by Exercise 20.3(a), so given $x \\in X$, the function $d_x: X \\rightarrow \\mathbb{R}$ given by $d_x(y)=d(x, y)$ is continuous by Exercise 19.11. Since $X$ is connected, the image $d_x(X)$ is a connected subspace of $\\mathbb{R}$, and contains 0 since $d_x(x)=0$. Thus, if $y \\in X$ and $y \\neq x$, then $d_x(X)$ contains the set $[0, \\delta]$, where $\\delta=d_x(y)>0$. Therefore $X$ must be uncountable.\n\n\\end{proof}"
        ],
        [
         "49",
         "Show that X is countably compact if and only if every nested sequence $C_1 \\supset C_2 \\supset \\cdots$ of closed nonempty sets of X has a nonempty intersection.",
         "\\begin{proof}\n\nWe could imitate the proof of Theorem 26.9, but we prove directly each direction. First let $X$ be countable compact and let $C_1 \\supset C_2 \\supset \\cdots$ be a nested sequence of closed nonempty sets of $X$. For each $n \\in \\mathbb{Z}_{+}, U_n=X \\backslash C_n$ is open in $X$. Then $\\left\\{U_n\\right\\}_{n \\in \\mathbb{Z}_{+}}$is a countable collection of open sets with no finite subcollection covering $X$, for if $U_{i_1} \\cup \\cdots \\cup U_{1_n}$ covers $X$, then $C_{i_1} \\cap \\cdots \\cap C_{i_n}$ is empty, contrary to the assumption. Hence $\\left\\{U_n\\right\\}_{n \\in \\mathbb{Z}_{+}}$does not cover $X$, so there exist $x \\in X \\backslash \\bigcup_{n \\in \\mathbb{Z}_{+}} U_n=\\bigcap_{n \\in Z_{+}}\\left(X \\backslash U_n\\right)=\\bigcap_{n \\in Z_{+}} C_n$.\n\n\n\nConversely, assume that every nested sequence $C_1 \\supset C_2 \\supset \\cdots$ of closed non-empty sets of $X$ has a non-empty intersection and let $\\left\\{U_n\\right\\}_{n \\in \\mathbb{Z}_{+}}$be a countable open covering of $X$. For each $n$, let $V_n=U_1 \\cup \\cdots \\cup U_n$ and $C_n=X \\backslash V_n$. Suppose that no finite subcollection of $\\left\\{U_n\\right\\}_{n \\in \\mathbb{Z}_{+}}$covers $X$. Then each $C_n$ is non-empty, so $C_1 \\supset C_2 \\supset \\cdots$ is a nested sequence of non-empty closed sets and $\\bigcap_{n \\in \\mathbb{Z}_{+}} C_n$ is non-empty by assumption. Then there exists $x \\in \\bigcap_{n \\in \\mathbb{Z}_{+}} C_n$, so that $x \\notin V_n$ for all $n$, contradicting the fact that $\\left\\{U_n\\right\\}_{n \\in \\mathbb{Z}_{+}}$covers $X$. It follows that there exists $N \\in \\mathbb{Z}_{+}$such that $C_N=\\emptyset$, so that $X=V_N$ and hence some finite subcollection of $\\left\\{U_n\\right\\}_{n \\in \\mathbb{Z}_{+}}$covers $X$. We deduce that $X$ is countable compact.\n\n\\end{proof}"
        ]
       ],
       "shape": {
        "columns": 2,
        "rows": 184
       }
      },
      "text/html": [
       "<div>\n",
       "<style scoped>\n",
       "    .dataframe tbody tr th:only-of-type {\n",
       "        vertical-align: middle;\n",
       "    }\n",
       "\n",
       "    .dataframe tbody tr th {\n",
       "        vertical-align: top;\n",
       "    }\n",
       "\n",
       "    .dataframe thead th {\n",
       "        text-align: right;\n",
       "    }\n",
       "</style>\n",
       "<table border=\"1\" class=\"dataframe\">\n",
       "  <thead>\n",
       "    <tr style=\"text-align: right;\">\n",
       "      <th></th>\n",
       "      <th>nl_statement</th>\n",
       "      <th>nl_proof</th>\n",
       "    </tr>\n",
       "  </thead>\n",
       "  <tbody>\n",
       "    <tr>\n",
       "      <th>0</th>\n",
       "      <td>If $r$ is rational $(r \\neq 0)$ and $x$ is irr...</td>\n",
       "      <td>\\begin{proof}\\n\\n    If $r$ and $r+x$ were bot...</td>\n",
       "    </tr>\n",
       "    <tr>\n",
       "      <th>1</th>\n",
       "      <td>Prove that there is no rational number whose s...</td>\n",
       "      <td>\\begin{proof}\\n\\n    Suppose $m^2=12 n^2$, whe...</td>\n",
       "    </tr>\n",
       "    <tr>\n",
       "      <th>2</th>\n",
       "      <td>Let $A$ be a nonempty set of real numbers whic...</td>\n",
       "      <td>\\begin{proof}\\n\\n    We need to prove that $-\\...</td>\n",
       "    </tr>\n",
       "    <tr>\n",
       "      <th>3</th>\n",
       "      <td>If $z$ is a complex number, prove that there e...</td>\n",
       "      <td>\\begin{proof}\\n\\n    If $z=0$, we take $r=0, w...</td>\n",
       "    </tr>\n",
       "    <tr>\n",
       "      <th>4</th>\n",
       "      <td>If $x, y$ are complex, prove that $||x|-|y|| \\...</td>\n",
       "      <td>\\begin{proof}\\n\\n    Since $x=x-y+y$, the tria...</td>\n",
       "    </tr>\n",
       "    <tr>\n",
       "      <th>...</th>\n",
       "      <td>...</td>\n",
       "      <td>...</td>\n",
       "    </tr>\n",
       "    <tr>\n",
       "      <th>180</th>\n",
       "      <td>Prove that $(x, y)$ is not a principal ideal i...</td>\n",
       "      <td>\\begin{proof}\\n\\n    Suppose, to the contrary,...</td>\n",
       "    </tr>\n",
       "    <tr>\n",
       "      <th>181</th>\n",
       "      <td>Prove that if $f(x)$ and $g(x)$ are polynomial...</td>\n",
       "      <td>\\begin{proof}\\n\\n    Let $f(x), g(x) \\in \\math...</td>\n",
       "    </tr>\n",
       "    <tr>\n",
       "      <th>182</th>\n",
       "      <td>Prove that $x^6+30x^5-15x^3 + 6x-120$ is irred...</td>\n",
       "      <td>\\begin{proof}\\n\\n    $$\\n\\nx^6+30 x^5-15 x^3+6...</td>\n",
       "    </tr>\n",
       "    <tr>\n",
       "      <th>183</th>\n",
       "      <td>Prove that $\\frac{(x+2)^p-2^p}{x}$, where $p$ ...</td>\n",
       "      <td>\\begin{proof}\\n\\n$\\frac{(x+2)^p-2^p}{x} \\quad ...</td>\n",
       "    </tr>\n",
       "    <tr>\n",
       "      <th>184</th>\n",
       "      <td>Prove that $x^2+y^2-1$ is irreducible in $\\mat...</td>\n",
       "      <td>\\begin{proof}\\n\\n$$\\n\\np(x)=x^2+y^2-1 \\in Q[y]...</td>\n",
       "    </tr>\n",
       "  </tbody>\n",
       "</table>\n",
       "<p>184 rows × 2 columns</p>\n",
       "</div>"
      ],
      "text/plain": [
       "                                          nl_statement  \\\n",
       "0    If $r$ is rational $(r \\neq 0)$ and $x$ is irr...   \n",
       "1    Prove that there is no rational number whose s...   \n",
       "2    Let $A$ be a nonempty set of real numbers whic...   \n",
       "3    If $z$ is a complex number, prove that there e...   \n",
       "4    If $x, y$ are complex, prove that $||x|-|y|| \\...   \n",
       "..                                                 ...   \n",
       "180  Prove that $(x, y)$ is not a principal ideal i...   \n",
       "181  Prove that if $f(x)$ and $g(x)$ are polynomial...   \n",
       "182  Prove that $x^6+30x^5-15x^3 + 6x-120$ is irred...   \n",
       "183  Prove that $\\frac{(x+2)^p-2^p}{x}$, where $p$ ...   \n",
       "184  Prove that $x^2+y^2-1$ is irreducible in $\\mat...   \n",
       "\n",
       "                                              nl_proof  \n",
       "0    \\begin{proof}\\n\\n    If $r$ and $r+x$ were bot...  \n",
       "1    \\begin{proof}\\n\\n    Suppose $m^2=12 n^2$, whe...  \n",
       "2    \\begin{proof}\\n\\n    We need to prove that $-\\...  \n",
       "3    \\begin{proof}\\n\\n    If $z=0$, we take $r=0, w...  \n",
       "4    \\begin{proof}\\n\\n    Since $x=x-y+y$, the tria...  \n",
       "..                                                 ...  \n",
       "180  \\begin{proof}\\n\\n    Suppose, to the contrary,...  \n",
       "181  \\begin{proof}\\n\\n    Let $f(x), g(x) \\in \\math...  \n",
       "182  \\begin{proof}\\n\\n    $$\\n\\nx^6+30 x^5-15 x^3+6...  \n",
       "183  \\begin{proof}\\n\\n$\\frac{(x+2)^p-2^p}{x} \\quad ...  \n",
       "184  \\begin{proof}\\n\\n$$\\n\\np(x)=x^2+y^2-1 \\in Q[y]...  \n",
       "\n",
       "[184 rows x 2 columns]"
      ]
     },
     "execution_count": 8,
     "metadata": {},
     "output_type": "execute_result"
    }
   ],
   "source": [
    "proofnet_data"
   ]
  },
  {
   "cell_type": "code",
   "execution_count": 9,
   "id": "2dc12da0",
   "metadata": {},
   "outputs": [
    {
     "data": {
      "text/plain": [
       "184"
      ]
     },
     "execution_count": 9,
     "metadata": {},
     "output_type": "execute_result"
    }
   ],
   "source": [
    "len(proofnet_data)"
   ]
  },
  {
   "cell_type": "code",
   "execution_count": 10,
   "id": "9b21043f",
   "metadata": {},
   "outputs": [],
   "source": [
    "def extract_first_step(proof):\n",
    "    '''\n",
    "    extracts the first meaningful sentence from the proof.\n",
    "    '''\n",
    "    lines = proof.splitlines()\n",
    "    for line in lines:\n",
    "        line = line.replace(\"\\\\begin{proof}\", \"\").replace(\"\\\\end{proof}\", \"\").strip()\n",
    "        if line:\n",
    "            return line\n",
    "    return \"\"\n",
    "\n",
    "\n",
    "proofnet_data['first_step'] = proofnet_data['nl_proof'].apply(extract_first_step)"
   ]
  },
  {
   "cell_type": "code",
   "execution_count": 11,
   "id": "6b3a5fa5",
   "metadata": {},
   "outputs": [
    {
     "data": {
      "application/vnd.microsoft.datawrangler.viewer.v0+json": {
       "columns": [
        {
         "name": "index",
         "rawType": "int64",
         "type": "integer"
        },
        {
         "name": "nl_statement",
         "rawType": "object",
         "type": "string"
        },
        {
         "name": "nl_proof",
         "rawType": "object",
         "type": "string"
        },
        {
         "name": "first_step",
         "rawType": "object",
         "type": "string"
        }
       ],
       "ref": "b3ec2dbc-4c28-4750-9a3d-68153c4a7839",
       "rows": [
        [
         "0",
         "If $r$ is rational $(r \\neq 0)$ and $x$ is irrational, prove that $r+x$ is irrational.",
         "\\begin{proof}\n\n    If $r$ and $r+x$ were both rational, then $x=r+x-r$ would also be rational.\n\n\\end{proof}",
         "If $r$ and $r+x$ were both rational, then $x=r+x-r$ would also be rational."
        ],
        [
         "1",
         "Prove that there is no rational number whose square is $12$.",
         "\\begin{proof}\n\n    Suppose $m^2=12 n^2$, where $m$ and $n$ have no common factor. It follows that $m$ must be even, and therefore $n$ must be odd. Let $m=2 r$. Then we have $r^2=3 n^2$, so that $r$ is also odd. Let $r=2 s+1$ and $n=2 t+1$. Then\n\n$$\n\n4 s^2+4 s+1=3\\left(4 t^2+4 t+1\\right)=12 t^2+12 t+3,\n\n$$\n\nso that\n\n$$\n\n4\\left(s^2+s-3 t^2-3 t\\right)=2 .\n\n$$\n\nBut this is absurd, since 2 cannot be a multiple of 4 .\n\n\\end{proof}",
         "Suppose $m^2=12 n^2$, where $m$ and $n$ have no common factor. It follows that $m$ must be even, and therefore $n$ must be odd. Let $m=2 r$. Then we have $r^2=3 n^2$, so that $r$ is also odd. Let $r=2 s+1$ and $n=2 t+1$. Then"
        ],
        [
         "2",
         "Let $A$ be a nonempty set of real numbers which is bounded below. Let $-A$ be the set of all numbers $-x$, where $x \\in A$. Prove that $\\inf A=-\\sup (-A)$.",
         "\\begin{proof}\n\n    We need to prove that $-\\sup (-A)$ is the greatest lower bound of $A$. For brevity, let $\\alpha=-\\sup (-A)$. We need to show that $\\alpha \\leq x$ for all $x \\in A$ and $\\alpha \\geq \\beta$ if $\\beta$ is any lower bound of $A$.\n\n\n\nSuppose $x \\in A$. Then, $-x \\in-A$, and, hence $-x \\leq \\sup (-A)$. It follows that $x \\geq-\\sup (-A)$, i.e., $\\alpha \\leq x$. Thus $\\alpha$ is a lower bound of $A$.\n\n\n\nNow let $\\beta$ be any lower bound of $A$. This means $\\beta \\leq x$ for all $x$ in $A$. Hence $-x \\leq-\\beta$ for all $x \\in A$, which says $y \\leq-\\beta$ for all $y \\in-A$. This means $-\\beta$ is an upper bound of $-A$. Hence $-\\beta \\geq \\sup (-A)$ by definition of sup, i.e., $\\beta \\leq-\\sup (-A)$, and so $-\\sup (-A)$ is the greatest lower bound of $A$.\n\n\\end{proof}",
         "We need to prove that $-\\sup (-A)$ is the greatest lower bound of $A$. For brevity, let $\\alpha=-\\sup (-A)$. We need to show that $\\alpha \\leq x$ for all $x \\in A$ and $\\alpha \\geq \\beta$ if $\\beta$ is any lower bound of $A$."
        ],
        [
         "3",
         "If $z$ is a complex number, prove that there exists an $r\\geq 0$ and a complex number $w$ with $| w | = 1$ such that $z = rw$.",
         "\\begin{proof}\n\n    If $z=0$, we take $r=0, w=1$. (In this case $w$ is not unique.) Otherwise we take $r=|z|$ and $w=z /|z|$, and these choices are unique, since if $z=r w$, we must have $r=r|w|=|r w|=|z|, z / r$\n\n\\end{proof}",
         "If $z=0$, we take $r=0, w=1$. (In this case $w$ is not unique.) Otherwise we take $r=|z|$ and $w=z /|z|$, and these choices are unique, since if $z=r w$, we must have $r=r|w|=|r w|=|z|, z / r$"
        ],
        [
         "4",
         "If $x, y$ are complex, prove that $||x|-|y|| \\leq |x-y|$.",
         "\\begin{proof}\n\n    Since $x=x-y+y$, the triangle inequality gives\n\n$$\n\n|x| \\leq|x-y|+|y|\n\n$$\n\nso that $|x|-|y| \\leq|x-y|$. Similarly $|y|-|x| \\leq|x-y|$. Since $|x|-|y|$ is a real number we have either ||$x|-| y||=|x|-|y|$ or ||$x|-| y||=|y|-|x|$. In either case, we have shown that ||$x|-| y|| \\leq|x-y|$.\n\n\\end{proof}",
         "Since $x=x-y+y$, the triangle inequality gives"
        ],
        [
         "5",
         "Suppose $k \\geq 3, x, y \\in \\mathbb{R}^k, |x - y| = d > 0$, and $r > 0$. Prove that if $2r > d$, there are infinitely many $z \\in \\mathbb{R}^k$ such that $|z-x|=|z-y|=r$.",
         "\\begin{proof}\n\n    (a) Let w be any vector satisfying the following two equations:\n\n$$\n\n\\begin{aligned}\n\n\\mathbf{w} \\cdot(\\mathbf{x}-\\mathbf{y}) &=0, \\\\\n\n|\\mathbf{w}|^2 &=r^2-\\frac{d^2}{4} .\n\n\\end{aligned}\n\n$$\n\nFrom linear algebra it is known that all but one of the components of a solution $\\mathbf{w}$ of the first equation can be arbitrary. The remaining component is then uniquely determined. Also, if $w$ is any non-zero solution of the first equation, there is a unique positive number $t$ such that $t$ w satisfies both equations. (For example, if $x_1 \\neq y_1$, the first equation is satisfied whenever\n\n$$\n\nz_1=\\frac{z_2\\left(x_2-y_2\\right)+\\cdots+z_k\\left(x_k-y_k\\right)}{y_1-x_1} .\n\n$$\n\nIf $\\left(z_1, z_2, \\ldots, z_k\\right)$ satisfies this equation, so does $\\left(t z_1, t z_2, \\ldots, t z_k\\right)$ for any real number $t$.) Since at least two of these components can vary independently, we can find a solution with these components having any prescribed ratio. This ratio does not change when we multiply by the positive number $t$ to obtain a solution of both equations. Since there are infinitely many ratios, there are infinitely many distinct solutions. For each such solution $\\mathbf{w}$ the vector $\\mathbf{z}=$ $\\frac{1}{2} \\mathrm{x}+\\frac{1}{2} \\mathrm{y}+\\mathrm{w}$ is a solution of the required equation. For\n\n$$\n\n\\begin{aligned}\n\n|\\mathrm{z}-\\mathbf{x}|^2 &=\\left|\\frac{\\mathbf{y}-\\mathbf{x}}{2}+\\mathbf{w}\\right|^2 \\\\\n\n&=\\left|\\frac{\\mathbf{y}-\\mathbf{x}}{2}\\right|^2+2 \\mathbf{w} \\cdot \\frac{\\mathbf{x}-\\mathbf{y}}{2}+|\\mathbf{w}|^2 \\\\\n\n&=\\frac{d^2}{4}+0+r^2-\\frac{d^2}{4} \\\\\n\n&=r^2\n\n\\end{aligned}\n\n$$\n\nand a similar relation holds for $|z-y|^2$.\n\n\\end{proof}",
         "(a) Let w be any vector satisfying the following two equations:"
        ],
        [
         "6",
         "If $k \\geq 2$ and $\\mathbf{x} \\in R^{k}$, prove that there exists $\\mathbf{y} \\in R^{k}$ such that $\\mathbf{y} \\neq 0$ but $\\mathbf{x} \\cdot \\mathbf{y}=0$",
         "\\begin{proof}\n\n    If $\\mathbf{x}$ has any components equal to 0 , then $\\mathbf{y}$ can be taken to have the corresponding components equal to 1 and all others equal to 0 . If all the components of $\\mathbf{x}$ are nonzero, $\\mathbf{y}$ can be taken as $\\left(-x_2, x_1, 0, \\ldots, 0\\right)$. This is, of course, not true when $k=1$, since the product of two nonzero real numbers is nonzero.\n\n\\end{proof}",
         "If $\\mathbf{x}$ has any components equal to 0 , then $\\mathbf{y}$ can be taken to have the corresponding components equal to 1 and all others equal to 0 . If all the components of $\\mathbf{x}$ are nonzero, $\\mathbf{y}$ can be taken as $\\left(-x_2, x_1, 0, \\ldots, 0\\right)$. This is, of course, not true when $k=1$, since the product of two nonzero real numbers is nonzero."
        ],
        [
         "7",
         "Suppose $a, b \\in R^k$. Find $c \\in R^k$ and $r > 0$ such that $|x-a|=2|x-b|$ if and only if $| x - c | = r$. Prove that $3c = 4b - a$ and $3r = 2 |b - a|$.",
         "\\begin{proof}\n\n    Since the solution is given to us, all we have to do is verify it, i.e., we need to show that the equation\n\n$$\n\n|\\mathrm{x}-\\mathrm{a}|=2|\\mathrm{x}-\\mathrm{b}|\n\n$$\n\nis equivalent to $|\\mathrm{x}-\\mathbf{c}|=r$, which says\n\n$$\n\n\\left|\\mathbf{x}-\\frac{4}{3} \\mathbf{b}+\\frac{1}{3} \\mathbf{a}\\right|=\\frac{2}{3}|\\mathbf{b}-\\mathbf{a}| .\n\n$$\n\nIf we square both sides of both equations, we an equivalent pair of equations, the first of which reduces to\n\n$$\n\n3|\\mathbf{x}|^2+2 \\mathbf{a} \\cdot \\mathbf{x}-8 \\mathbf{b} \\cdot \\mathbf{x}-|\\mathbf{a}|^2+4|\\mathbf{b}|^2=0,\n\n$$\n\nand the second of which reduces to this equation divided by 3 . Hence these equations are indeed equivalent.\n\n\\end{proof}",
         "Since the solution is given to us, all we have to do is verify it, i.e., we need to show that the equation"
        ],
        [
         "8",
         "Let $X$ be a metric space in which every infinite subset has a limit point. Prove that $X$ is separable.",
         "\\begin{proof}\n\n    We observe that if the process of constructing $x_j$ did not terminate, the result would be an infinite set of points $x_j, j=1,2, \\ldots$, such that $d\\left(x_i, x_j\\right) \\geq \\delta$ for $i \\neq j$. It would then follow that for any $x \\in X$, the open ball $B_{\\frac{\\delta}{2}}(x)$ contains at most one point of the infinite set, hence that no point could be a limit point of this set, contrary to hypothesis. Hence $X$ is totally bounded, i.e., for each $\\delta>0$ there is a finite set $x_1, \\ldots, x_{N\\delta}$such that $X=\\bigcup_{j / 1}^{N\\delta} B_\\delta\\left(x_j\\right)$\n\n\n\nLet $x_{n_1}, \\ldots, x_{n N_n}$ be such that $X=\\bigcup_{j / 1}^{N_n} B_{\\frac{1}{n}}\\left(x_{n j}\\right), n=1,2, \\ldots$ We claim that $\\left\\{x_{n j}: 1 \\leq j \\leq N_n ; n=1,2, \\ldots\\right\\}$ is a countable dense subset of $X$. Indeed\n\n25\n\nif $x \\in X$ and $\\delta>0$, then $x \\in B_{\\frac{1}{n}}\\left(x_{n j}\\right)$ for some $x_{n j}$ for some $n>\\frac{1}{\\delta}$, and hence $d\\left(x, x_{n j}\\right)<\\delta$. By definition, this means that $\\left\\{x_{n j}\\right\\}$ is dense in $X$.\n\n\\end{proof}",
         "We observe that if the process of constructing $x_j$ did not terminate, the result would be an infinite set of points $x_j, j=1,2, \\ldots$, such that $d\\left(x_i, x_j\\right) \\geq \\delta$ for $i \\neq j$. It would then follow that for any $x \\in X$, the open ball $B_{\\frac{\\delta}{2}}(x)$ contains at most one point of the infinite set, hence that no point could be a limit point of this set, contrary to hypothesis. Hence $X$ is totally bounded, i.e., for each $\\delta>0$ there is a finite set $x_1, \\ldots, x_{N\\delta}$such that $X=\\bigcup_{j / 1}^{N\\delta} B_\\delta\\left(x_j\\right)$"
        ],
        [
         "9",
         "Suppose $E\\subset\\mathbb{R}^k$ is uncountable, and let $P$ be the set of condensation points of $E$. Prove that $P$ is perfect.",
         "\\begin{proof}\n\n    We see that $E \\cap W$ is at most countable, being a countable union of at-most-countable sets. It remains to show that $P=W^c$, and that $P$ is perfect.\n\n\\end{proof}",
         "We see that $E \\cap W$ is at most countable, being a countable union of at-most-countable sets. It remains to show that $P=W^c$, and that $P$ is perfect."
        ],
        [
         "10",
         "Prove that every closed set in a separable metric space is the union of a (possibly empty) perfect set and a set which is at most countable.",
         "\\begin{proof}\n\n    If $E$ is closed, it contains all its limit points, and hence certainly all its condensation points. Thus $E=P \\cup(E \\backslash P)$, where $P$ is perfect (the set of all condensation points of $E$ ), and $E \\backslash P$ is at most countable.\n\n\n\nSince a perfect set in a separable metric space has the same cardinality as the real numbers, the set $P$ must be empty if $E$ is countable. The at-mostcountable set $E \\backslash P$ cannot be perfect, hence must have isolated points if it is nonempty.\n\n\\end{proof}",
         "If $E$ is closed, it contains all its limit points, and hence certainly all its condensation points. Thus $E=P \\cup(E \\backslash P)$, where $P$ is perfect (the set of all condensation points of $E$ ), and $E \\backslash P$ is at most countable."
        ],
        [
         "11",
         "Prove that convergence of $\\left\\{s_{n}\\right\\}$ implies convergence of $\\left\\{\\left|s_{n}\\right|\\right\\}$.",
         "\\begin{proof}\n\n    Let $\\varepsilon>0$. Since the sequence $\\left\\{s_n\\right\\}$ is a Cauchy sequence, there exists $N$ such that $\\left|s_m-s_n\\right|<\\varepsilon$ for all $m>N$ and $n>N$. We then have $\\left| |s_m| - |s_n| \\right| \\leq\\left|s_m-s_n\\right|<\\varepsilon$ for all $m>N$ and $n>N$. Hence the sequence $\\left\\{\\left|s_n\\right|\\right\\}$ is also a Cauchy sequence, and therefore must converge.\n\n\\end{proof}",
         "Let $\\varepsilon>0$. Since the sequence $\\left\\{s_n\\right\\}$ is a Cauchy sequence, there exists $N$ such that $\\left|s_m-s_n\\right|<\\varepsilon$ for all $m>N$ and $n>N$. We then have $\\left| |s_m| - |s_n| \\right| \\leq\\left|s_m-s_n\\right|<\\varepsilon$ for all $m>N$ and $n>N$. Hence the sequence $\\left\\{\\left|s_n\\right|\\right\\}$ is also a Cauchy sequence, and therefore must converge."
        ],
        [
         "12",
         "If $s_{1}=\\sqrt{2}$, and $s_{n+1}=\\sqrt{2+\\sqrt{s_{n}}} \\quad(n=1,2,3, \\ldots),$ prove that $\\left\\{s_{n}\\right\\}$ converges, and that $s_{n}<2$ for $n=1,2,3, \\ldots$.",
         "\\begin{proof}\n\n    Since $\\sqrt{2}<2$, it is manifest that if $s_n<2$, then $s_{n+1}<\\sqrt{2+2}=2$. Hence it follows by induction that $\\sqrt{2}<s_n<2$ for all $n$. In view of this fact,it also follows that $\\left(s_n-2\\right)\\left(s_n+1\\right)<0$ for all $n>1$, i.e., $s_n>s_n^2-2=s_{n-1}$. Hence the sequence is an increasing sequence that is bounded above (by 2 ) and so converges. Since the limit $s$ satisfies $s^2-s-2=0$, it follows that the limit is 2.\n\n\\end{proof}",
         "Since $\\sqrt{2}<2$, it is manifest that if $s_n<2$, then $s_{n+1}<\\sqrt{2+2}=2$. Hence it follows by induction that $\\sqrt{2}<s_n<2$ for all $n$. In view of this fact,it also follows that $\\left(s_n-2\\right)\\left(s_n+1\\right)<0$ for all $n>1$, i.e., $s_n>s_n^2-2=s_{n-1}$. Hence the sequence is an increasing sequence that is bounded above (by 2 ) and so converges. Since the limit $s$ satisfies $s^2-s-2=0$, it follows that the limit is 2."
        ],
        [
         "13",
         "Prove that $\\lim_{n \\rightarrow \\infty} \\sum_{i<n} a_i = \\infty$, where $a_i = \\sqrt{i + 1} -\\sqrt{i}$.",
         "\\begin{proof}\n\n    (a) Multiplying and dividing $a_n$ by $\\sqrt{n+1}+\\sqrt{n}$, we find that $a_n=\\frac{1}{\\sqrt{n+1}+\\sqrt{n}}$, which is larger than $\\frac{1}{2 \\sqrt{n+1}}$. The series $\\sum a_n$ therefore diverges by comparison with the $p$ series $\\left(p=\\frac{1}{2}\\right)$.\n\n\\end{proof}",
         "(a) Multiplying and dividing $a_n$ by $\\sqrt{n+1}+\\sqrt{n}$, we find that $a_n=\\frac{1}{\\sqrt{n+1}+\\sqrt{n}}$, which is larger than $\\frac{1}{2 \\sqrt{n+1}}$. The series $\\sum a_n$ therefore diverges by comparison with the $p$ series $\\left(p=\\frac{1}{2}\\right)$."
        ],
        [
         "14",
         "If $\\Sigma a_{n}$ converges, and if $\\left\\{b_{n}\\right\\}$ is monotonic and bounded, prove that $\\Sigma a_{n} b_{n}$ converges.",
         "\\begin{proof}\n\n    We shall show that the partial sums of this series form a Cauchy sequence, i.e., given $\\varepsilon>0$ there exists $N$ such that $\\left|\\sum_{k=m+1}^n a_k b_k\\right|\\langle\\varepsilon$ if $n\\rangle$ $m \\geq N$. To do this, let $S_n=\\sum_{k=1}^n a_k\\left(S_0=0\\right)$, so that $a_k=S_k-S_{k-1}$ for $k=1,2, \\ldots$ Let $M$ be an uppper bound for both $\\left|b_n\\right|$ and $\\left|S_n\\right|$, and let $S=\\sum a_n$ and $b=\\lim b_n$. Choose $N$ so large that the following three inequalities hold for all $m>N$ and $n>N$ :\n\n$$\n\n\\left|b_n S_n-b S\\right|<\\frac{\\varepsilon}{3} ; \\quad\\left|b_m S_m-b S\\right|<\\frac{\\varepsilon}{3} ; \\quad\\left|b_m-b_n\\right|<\\frac{\\varepsilon}{3 M} .\n\n$$\n\nThen if $n>m>N$, we have, from the formula for summation by parts,\n\n$$\n\n\\sum_{k=m+1}^n a_n b_n=b_n S_n-b_m S_m+\\sum_{k=m}^{n-1}\\left(b_k-b_{k+1}\\right) S_k\n\n$$\n\nOur assumptions yield immediately that $\\left|b_n S_n-b_m S_m\\right|<\\frac{2 \\varepsilon}{3}$, and\n\n$$\n\n\\left|\\sum_{k=m}^{n-1}\\left(b_k-b_{k+1}\\right) S_k\\right| \\leq M \\sum_{k=m}^{n-1}\\left|b_k-b_{k+1}\\right| .\n\n$$\n\nSince the sequence $\\left\\{b_n\\right\\}$ is monotonic, we have\n\n$$\n\n\\sum_{k=m}^{n-1}\\left|b_k-b_{k+1}\\right|=\\left|\\sum_{k=m}^{n-1}\\left(b_k-b_{k+1}\\right)\\right|=\\left|b_m-b_n\\right|<\\frac{\\varepsilon}{3 M},\n\n$$\n\nfrom which the desired inequality follows.\n\n\\end{proof}",
         "We shall show that the partial sums of this series form a Cauchy sequence, i.e., given $\\varepsilon>0$ there exists $N$ such that $\\left|\\sum_{k=m+1}^n a_k b_k\\right|\\langle\\varepsilon$ if $n\\rangle$ $m \\geq N$. To do this, let $S_n=\\sum_{k=1}^n a_k\\left(S_0=0\\right)$, so that $a_k=S_k-S_{k-1}$ for $k=1,2, \\ldots$ Let $M$ be an uppper bound for both $\\left|b_n\\right|$ and $\\left|S_n\\right|$, and let $S=\\sum a_n$ and $b=\\lim b_n$. Choose $N$ so large that the following three inequalities hold for all $m>N$ and $n>N$ :"
        ],
        [
         "15",
         "Suppose $\\left\\{p_{n}\\right\\}$ is a Cauchy sequence in a metric space $X$, and some sequence $\\left\\{p_{n l}\\right\\}$ converges to a point $p \\in X$. Prove that the full sequence $\\left\\{p_{n}\\right\\}$ converges to $p$.",
         "\\begin{proof}\n\n    Let $\\varepsilon>0$. Choose $N_1$ so large that $d\\left(p_m, p_n\\right)<\\frac{\\varepsilon}{2}$ if $m>N_1$ and $n>N_1$. Then choose $N \\geq N_1$ so large that $d\\left(p_{n_k}, p\\right)<\\frac{\\varepsilon}{2}$ if $k>N$. Then if $n>N$, we have\n\n$$\n\nd\\left(p_n, p\\right) \\leq d\\left(p_n, p_{n_{N+1}}\\right)+d\\left(p_{n_{N+1}}, p\\right)<\\varepsilon\n\n$$\n\nFor the first term on the right is less than $\\frac{\\varepsilon}{2}$ since $n>N_1$ and $n_{N+1}>N+1>$ $N_1$. The second term is less than $\\frac{\\varepsilon}{2}$ by the choice of $N$.\n\n\\end{proof}",
         "Let $\\varepsilon>0$. Choose $N_1$ so large that $d\\left(p_m, p_n\\right)<\\frac{\\varepsilon}{2}$ if $m>N_1$ and $n>N_1$. Then choose $N \\geq N_1$ so large that $d\\left(p_{n_k}, p\\right)<\\frac{\\varepsilon}{2}$ if $k>N$. Then if $n>N$, we have"
        ],
        [
         "16",
         "Suppose $X$ is a nonempty complete metric space, and $\\left\\{G_{n}\\right\\}$ is a sequence of dense open sets of $X$. Prove Baire's theorem, namely, that $\\bigcap_{1}^{\\infty} G_{n}$ is not empty.",
         "\\begin{proof}\n\n    Let $F_n$ be the complement of $G_n$, so that $F_n$ is closed and contains no open sets. We shall prove that any nonempty open set $U$ contains a point not in any $F_n$, hence in all $G_n$. To this end, we note that $U$ is not contained in $F_1$, so that there is a point $x_1 \\in U \\backslash F_1$. Since $U \\backslash F_1$ is open, there exists $r_1>0$ such that $B_1$, defined as the open ball of radius $r_1$ about $x_1$, is contained in $U \\backslash F_1$. Let $E_1$ be the open ball of radius $\\frac{r_1}{2}$ about $x_1$, so that the closure of $E_1$ is contained in $B_1$. Now $F_2$ does not contain $E_1$, and so we can find a point $x_2 \\in E_1 \\backslash F_2$. Since $E_1 \\backslash F_2$ is an open set, there exists a positive number $r_2$ such that $B_2$, the open ball of radius $R_2$ about $x_2$, is contained in $E_1 \\backslash F_2$, which in turn is contained in $U \\backslash\\left(F_1 \\cup F_2\\right)$. We let $E_2$ be the open ball of radius $\\frac{r_2}{2}$ about $x_2$, so that $\\bar{E}_2 \\subseteq B_2$. Proceeding in this way, we construct a sequence of open balls $E_j$, such that $E_j \\supseteq \\bar{E}_{j+1}$, and the diameter of $E_j$ tends to zero. By the previous exercise, there is a point $x$ belonging to all the sets $\\bar{E}_j$, hence to all the sets $U \\backslash\\left(F_1 \\cup F_2 \\cup \\cdots \\cup F_n\\right)$. Thus the point $x$ belongs to $U \\cap\\left(\\cap_1^{\\infty} G_n\\right)$.\n\n\\end{proof}",
         "Let $F_n$ be the complement of $G_n$, so that $F_n$ is closed and contains no open sets. We shall prove that any nonempty open set $U$ contains a point not in any $F_n$, hence in all $G_n$. To this end, we note that $U$ is not contained in $F_1$, so that there is a point $x_1 \\in U \\backslash F_1$. Since $U \\backslash F_1$ is open, there exists $r_1>0$ such that $B_1$, defined as the open ball of radius $r_1$ about $x_1$, is contained in $U \\backslash F_1$. Let $E_1$ be the open ball of radius $\\frac{r_1}{2}$ about $x_1$, so that the closure of $E_1$ is contained in $B_1$. Now $F_2$ does not contain $E_1$, and so we can find a point $x_2 \\in E_1 \\backslash F_2$. Since $E_1 \\backslash F_2$ is an open set, there exists a positive number $r_2$ such that $B_2$, the open ball of radius $R_2$ about $x_2$, is contained in $E_1 \\backslash F_2$, which in turn is contained in $U \\backslash\\left(F_1 \\cup F_2\\right)$. We let $E_2$ be the open ball of radius $\\frac{r_2}{2}$ about $x_2$, so that $\\bar{E}_2 \\subseteq B_2$. Proceeding in this way, we construct a sequence of open balls $E_j$, such that $E_j \\supseteq \\bar{E}_{j+1}$, and the diameter of $E_j$ tends to zero. By the previous exercise, there is a point $x$ belonging to all the sets $\\bar{E}_j$, hence to all the sets $U \\backslash\\left(F_1 \\cup F_2 \\cup \\cdots \\cup F_n\\right)$. Thus the point $x$ belongs to $U \\cap\\left(\\cap_1^{\\infty} G_n\\right)$."
        ],
        [
         "17",
         "If $f$ is a continuous mapping of a metric space $X$ into a metric space $Y$, prove that $f(\\overline{E}) \\subset \\overline{f(E)}$ for every set $E \\subset X$. ($\\overline{E}$ denotes the closure of $E$).",
         "\\begin{proof}\n\n    Let $x \\in \\bar{E}$. We need to show that $f(x) \\in \\overline{f(E)}$. To this end, let $O$ be any neighborhood of $f(x)$. Since $f$ is continuous, $f^{-1}(O)$ contains (is) a neighborhood of $x$. Since $x \\in \\bar{E}$, there is a point $u$ of $E$ in $f^{-1}(O)$. Hence $\\frac{f(u)}{f(E)} \\in O \\cap f(E)$. Since $O$ was any neighborhood of $f(x)$, it follows that $f(x) \\in \\overline{f(E)}$\n\n\\end{proof}",
         "Let $x \\in \\bar{E}$. We need to show that $f(x) \\in \\overline{f(E)}$. To this end, let $O$ be any neighborhood of $f(x)$. Since $f$ is continuous, $f^{-1}(O)$ contains (is) a neighborhood of $x$. Since $x \\in \\bar{E}$, there is a point $u$ of $E$ in $f^{-1}(O)$. Hence $\\frac{f(u)}{f(E)} \\in O \\cap f(E)$. Since $O$ was any neighborhood of $f(x)$, it follows that $f(x) \\in \\overline{f(E)}$"
        ],
        [
         "18",
         "Let $f$ and $g$ be continuous mappings of a metric space $X$ into a metric space $Y$, and let $E$ be a dense subset of $X$. Prove that $f(E)$ is dense in $f(X)$.",
         "\\begin{proof}\n\n    To prove that $f(E)$ is dense in $f(X)$, simply use that $f(X)=f(\\bar{E}) \\subseteq \\overline{f(E)}$.\n\n\\end{proof}",
         "To prove that $f(E)$ is dense in $f(X)$, simply use that $f(X)=f(\\bar{E}) \\subseteq \\overline{f(E)}$."
        ],
        [
         "19",
         "If $f$ is a real continuous function defined on a closed set $E \\subset \\mathbb{R}$, prove that there exist continuous real functions $g$ on $\\mathbb{R}$ such that $g(x)=f(x)$ for all $x \\in E$.",
         "\\begin{proof}\n\nFollowing the hint, let the complement of $E$ consist of a countable collection of finite open intervals $\\left(a_k, b_k\\right)$ together with possibly one or both of the the semi-infinite intervals $(b,+\\infty)$ and $(-\\infty, a)$. The function $f(x)$ is already defined at $a_k$ and $b_k$, as well as at $a$ and $b$ (if these last two points exist). Define $g(x)$ to be $f(b)$ for $x>b$ and $f(a)$ for $x<a$ if $a$ and $b$ exist. On the interval $\\left(a_k, b_k\\right)$ let\n\n$$\n\ng(x)=f\\left(a_k\\right)+\\frac{x-a_k}{b_k-a_k}\\left(f\\left(b_k\\right)-f\\left(a_k\\right)\\right) .\n\n$$\n\nOf course we let $g(x)=f(x)$ for $x \\in E$. It is now fairly clear that $g(x)$ is continuous. A rigorous proof proceeds as follows. Let $\\varepsilon>0$. To choose $\\delta>0$ such that $|x-u|<\\delta$ implies $|g(x)-g(u)|<\\varepsilon$, we consider three cases.\n\ni. If $x>b$, let $\\delta=x-b$. Then if $|x-u|<\\delta$, it follows that $u>b$ also, so that $g(u)=f(b)=g(x)$, and $|g(u)-g(x)|=0<\\varepsilon$. Similarly if $x<a$, let $\\delta=a-x$\n\nii. If $a_k<x<b_k$ and $f\\left(a_k\\right)=f\\left(b_k\\right)$, let $\\delta=\\min \\left(x-a_k, b_k-x\\right)$. Since $|x-u|<\\delta$ implies $a_k<u<b_k$, so that $g(u)=f\\left(a_k\\right)=f\\left(b_k\\right)=g(x)$, we again have $|g(x)-g(u)|=0<\\varepsilon$. If $a_k<x<b_k$ and $f\\left(a_k\\right) \\neq f\\left(b_k\\right)$, let $\\delta=\\min \\left(x-a_k, b_k-x, \\frac{\\left(b_k-a_k\\right) \\varepsilon}{\\left|f\\left(b_k\\right)-f\\left(a_k\\right)\\right|}\\right)$. Then if $|x-u|<\\delta$, we again have $a_k<u<b_k$ and so\n\n$$\n\n|g(x)-g(u)|=\\frac{|x-u|}{b_k-a_k}\\left|f\\left(b_k\\right)-f\\left(a_k\\right)\\right|<\\varepsilon .\n\n$$\n\niii. If $x \\in E$, let $\\delta_1$ be such that $|f(u)-f(x)|<\\varepsilon$ if $u \\in E$ and $|x-u|<\\delta_1$. (Subcase a). If there are points $x_1 \\in E \\cap\\left(x-\\delta_1, x\\right)$ and $x_2 \\in E \\cap\\left(x, x+\\delta_1\\right)$, let $\\delta=\\min \\left(x-x_1, x_2-x\\right)$. If $|u-x|<\\delta$ and $u \\in E$, then $|f(u)-f(x)|<\\varepsilon$ by definition of $\\delta_1$. if $u \\notin E$, then, since $x_1, x$, and $x_2$ are all in $E$, it follows that $u \\in\\left(a_k, b_k\\right)$, where $a_k \\in E, b_k \\in E$, and $\\left|a_k-x\\right|<\\delta$ and $\\left|b_k-x\\right|<\\delta$, so that $\\left|f\\left(a_k\\right)-f(x)\\right|<\\varepsilon$ and $\\left|f\\left(b_k\\right)-f(x)\\right|<\\varepsilon$. If $f\\left(a_k\\right)=f\\left(b_k\\right)$, then $f(u)=f\\left(a_k\\right)$ also, and we have $|f(u)-f(x)|<\\varepsilon$. If $f\\left(a_k\\right) \\neq f\\left(b_k\\right)$, then\n\n$$\n\n\\begin{aligned}\n\n|f(u)-f(x)| & =\\left|f\\left(a_k\\right)-f(x)+\\frac{u-a_k}{b_k-a_k}\\left(f\\left(b_k\\right)-f\\left(a_k\\right)\\right)\\right| \\\\\n\n& =\\left|\\frac{b_k-u}{b_k-a_k}\\left(f\\left(a_k\\right)-f(x)\\right)+\\frac{u-a_k}{b_k-a_k}\\left(f\\left(b_k\\right)-f(x)\\right)\\right| \\\\\n\n& <\\frac{b_k-u}{b_k-a_k} \\varepsilon+\\frac{u-a_k}{b_k-a_k} \\varepsilon \\\\\n\n& =\\varepsilon\n\n\\end{aligned}\n\n$$\n\n(Subcase b). Suppose $x_2$ does not exist, i.e., either $x=a_k$ or $x=a_k$ and $b_k>a_k+\\delta_1$. Let us consider the second of these cases and show how to get $|f(u)-f(x)|<\\varepsilon$ for $x<u<x+\\delta$. If $f\\left(a_k\\right)=f\\left(b_k\\right)$, let $\\delta=\\delta_1$. If $u>x$ we have $a_k<u<b_k$ and $f(u)=f\\left(a_k\\right)=f(x)$. If $f\\left(a_k\\right) \\neq f\\left(b_k\\right)$, let $\\delta=$ $\\min \\left(\\delta_1, \\frac{\\left(b_k-a_k\\right) \\varepsilon}{\\left|f\\left(b_k\\right)-f\\left(a_k\\right)\\right|}\\right)$. Then, just as in Subcase a, we have $|f(u)-f(x)|<\\varepsilon$.\n\nThe case when $x=b_k$ for some $k$ and $a_k<x-\\delta_1$ is handled in exactly the same way.\n\n\\end{proof}",
         "Following the hint, let the complement of $E$ consist of a countable collection of finite open intervals $\\left(a_k, b_k\\right)$ together with possibly one or both of the the semi-infinite intervals $(b,+\\infty)$ and $(-\\infty, a)$. The function $f(x)$ is already defined at $a_k$ and $b_k$, as well as at $a$ and $b$ (if these last two points exist). Define $g(x)$ to be $f(b)$ for $x>b$ and $f(a)$ for $x<a$ if $a$ and $b$ exist. On the interval $\\left(a_k, b_k\\right)$ let"
        ],
        [
         "20",
         "If $f$ is defined on $E$, the graph of $f$ is the set of points $(x, f(x))$, for $x \\in E$. In particular, if $E$ is a set of real numbers, and $f$ is real-valued, the graph of $f$ is a subset of the plane. Suppose $E$ is compact, and prove that $f$ is continuous on $E$ if and only if its graph is compact.",
         "\\begin{proof}\n\n    Let $Y$ be the co-domain of the function $f$. We invent a new metric space $E \\times Y$ as the set of pairs of points $(x, y), x \\in E, y \\in Y$, with the metric $\\rho\\left(\\left(x_1, y_1\\right),\\left(x_2, y_2\\right)\\right)=d_E\\left(x_1, x_2\\right)+d_Y\\left(y_1, y_2\\right)$. The function $\\varphi(x)=(x, f(x))$ is then a mapping of $E$ into $E \\times Y$.\n\n\n\nWe claim that the mapping $\\varphi$ is continuous if $f$ is continuous. Indeed, let $x \\in X$ and $\\varepsilon>0$ be given. Choose $\\eta>0$ so that $d_Y(f(x), f(u))<\\frac{\\varepsilon}{2}$ if $d_E(x, y)<\\eta$. Then let $\\delta=\\min \\left(\\eta, \\frac{\\varepsilon}{2}\\right)$. It is easy to see that $\\rho(\\varphi(x), \\varphi(u))<\\varepsilon$ if $d_E(x, u)<\\delta$. Conversely if $\\varphi$ is continuous, it is obvious from the inequality $\\rho(\\varphi(x), \\varphi(u)) \\geq d_Y(f(x), f(u))$ that $f$ is continuous.\n\n\n\nFrom these facts we deduce immediately that the graph of a continuous function $f$ on a compact set $E$ is compact, being the image of $E$ under the continuous mapping $\\varphi$. Conversely, if $f$ is not continuous at some point $x$, there is a sequence of points $x_n$ converging to $x$ such that $f\\left(x_n\\right)$ does not converge to $f(x)$. If no subsequence of $f\\left(x_n\\right)$ converges, then the sequence $\\left\\{\\left(x_n, f\\left(x_n\\right)\\right\\}_{n=1}^{\\infty}\\right.$ has no convergent subsequence, and so the graph is not compact. If some subsequence of $f\\left(x_n\\right)$ converges, say $f\\left(x_{n_k}\\right) \\rightarrow z$, but $z \\neq f(x)$, then the graph of $f$ fails to contain the limit point $(x, z)$, and hence is not closed. A fortiori it is not compact.\n\n\\end{proof}",
         "Let $Y$ be the co-domain of the function $f$. We invent a new metric space $E \\times Y$ as the set of pairs of points $(x, y), x \\in E, y \\in Y$, with the metric $\\rho\\left(\\left(x_1, y_1\\right),\\left(x_2, y_2\\right)\\right)=d_E\\left(x_1, x_2\\right)+d_Y\\left(y_1, y_2\\right)$. The function $\\varphi(x)=(x, f(x))$ is then a mapping of $E$ into $E \\times Y$."
        ],
        [
         "21",
         "Let $E$ be a bounded set in $R^{1}$. Prove that there exists a real function $f$ such that $f$ is uniformly continuous and is not bounded on $E$.",
         "\\begin{proof}\n\n    The function $f(x)=x$ is uniformly continuous on the entire line, but not bounded.\n\n\\end{proof}",
         "The function $f(x)=x$ is uniformly continuous on the entire line, but not bounded."
        ],
        [
         "22",
         "A uniformly continuous function of a uniformly continuous function is uniformly continuous.",
         "\\begin{proof}\n\n    Let $f: X \\rightarrow Y$ and $g: Y \\rightarrow Z$ be uniformly continuous. Then $g \\circ f: X \\rightarrow Z$ is uniformly continuous, where $g \\circ f(x)=g(f(x))$ for all $x \\in X$.\n\nTo prove this fact, let $\\varepsilon>0$ be given. Then, since $g$ is uniformly continuous, there exists $\\eta>0$ such that $d_Z(g(u), g(v))<\\varepsilon$ if $d_Y(u, v)<\\eta$. Since $f$ is uniformly continuous, there exists $\\delta>0$ such that $d_Y(f(x), f(y))<\\eta$ if $d_X(x, y)<\\delta$\n\n\n\nIt is then obvious that $d_Z(g(f(x)), g(f(y)))<\\varepsilon$ if $d_X(x, y)<\\delta$, so that $g \\circ f$ is uniformly continuous.\n\n\\end{proof}",
         "Let $f: X \\rightarrow Y$ and $g: Y \\rightarrow Z$ be uniformly continuous. Then $g \\circ f: X \\rightarrow Z$ is uniformly continuous, where $g \\circ f(x)=g(f(x))$ for all $x \\in X$."
        ],
        [
         "23",
         "Suppose $f$ is a real function with domain $R^{1}$ which has the intermediate value property: if $f(a)<c<f(b)$, then $f(x)=c$ for some $x$ between $a$ and $b$. Suppose also, for every rational $r$, that the set of all $x$ with $f(x)=r$ is closed. Prove that $f$ is continuous.",
         "\\begin{proof}\n\n    The contradiction is evidently that $x_0$ is a limit point of the set of $t$ such that $f(t)=r$, yet, $x_0$ does not belong to this set. This contradicts the hypothesis that the set is closed.\n\n\\end{proof}",
         "The contradiction is evidently that $x_0$ is a limit point of the set of $t$ such that $f(t)=r$, yet, $x_0$ does not belong to this set. This contradicts the hypothesis that the set is closed."
        ],
        [
         "24",
         "Assume that $f$ is a continuous real function defined in $(a, b)$ such that $f\\left(\\frac{x+y}{2}\\right) \\leq \\frac{f(x)+f(y)}{2}$ for all $x, y \\in(a, b)$. Prove that $f$ is convex.",
         "\\begin{proof}\n\n    We shall prove that\n\n$$\n\nf(\\lambda x+(1-\\lambda) y) \\leq \\lambda f(x)+(1-\\lambda) f(y)\n\n$$\n\nfor all \"dyadic rational\" numbers, i.e., all numbers of the form $\\lambda=\\frac{k}{2^n}$, where $k$ is a nonnegative integer not larger than $2^n$. We do this by induction on $n$. The case $n=0$ is trivial (since $\\lambda=0$ or $\\lambda=1$ ). In the case $n=1$ we have $\\lambda=0$ or $\\lambda=1$ or $\\lambda=\\frac{1}{2}$. The first two cases are again trivial, and the third is precisely the hypothesis of the theorem. Suppose the result is proved for $n \\leq r$, and consider $\\lambda=\\frac{k}{2^{r+1}}$. If $k$ is even, say $k=2 l$, then $\\frac{k}{2^{r+1}}=\\frac{l}{2^r}$, and we can appeal to the induction hypothesis. Now suppose $k$ is odd. Then $1 \\leq k \\leq 2^{r+1}-1$, and so the numbers $l=\\frac{k-1}{2}$ and $m=\\frac{k+1}{2}$ are integers with $0 \\leq l<m \\leq 2^r$. We can now write\n\n$$\n\n\\lambda=\\frac{s+t}{2},\n\n$$\n\nwhere $s=\\frac{k-1}{2^{r+1}}=\\frac{l}{2^r}$ and $t=\\frac{k+1}{2^{r+1}}=\\frac{m}{2^r}$. We then have\n\n$$\n\n\\lambda x+(1-\\lambda) y=\\frac{[s x+(1-s) y]+[t x+(1-t) y]}{2}\n\n$$\n\nHence by the hypothesis of the theorem and the induction hypothesis we have\n\n$$\n\n\\begin{aligned}\n\nf(\\lambda x+(1-\\lambda) y) & \\leq \\frac{f(s x+(1-s) y)+f(t x+(1-t) y)}{2} \\\\\n\n& \\leq \\frac{s f(x)+(1-s) f(y)+t f(x)+(1-t) f(y)}{2} \\\\\n\n&=\\left(\\frac{s+t}{2}\\right) f(x)+\\left(1-\\frac{s+t}{2}\\right) f(y) \\\\\n\n&=\\lambda f(x)+(1-\\lambda) f(y)\n\n\\end{aligned}\n\n$$\n\nThis completes the induction.\n\nNow for each fixed $x$ and $y$ both sides of the inequality\n\n$$\n\nf(\\lambda x+(1-\\lambda) y) \\leq \\lambda f(x)+(1-\\lambda) f(y)\n\n$$\n\nare continuous functions of $\\lambda$. Hence the set on which this inequality holds (the inverse image of the closed set $[0, \\infty)$ under the mapping $\\lambda \\mapsto \\lambda f(x)+(1-$ $\\lambda) f(y)-f(\\lambda x+(1-\\lambda) y))$ is a closed set. Since it contains all the points $\\frac{k}{2^n}$, $0 \\leq k \\leq n, n=1,2, \\ldots$, it must contain the closure of this set of points, i.e., it must contain all of $[0,1]$. Thus $f$ is convex.\n\n\\end{proof}",
         "We shall prove that"
        ],
        [
         "25",
         "Suppose $f^{\\prime}(x)>0$ in $(a, b)$. Prove that $f$ is strictly increasing in $(a, b)$, and let $g$ be its inverse function. Prove that $g$ is differentiable, and that $g^{\\prime}(f(x))=\\frac{1}{f^{\\prime}(x)} \\quad(a<x<b)$.",
         "\\begin{proof}\n\n   For any $c, d$ with $a<c<d<b$ there exists a point $p \\in(c, d)$ such that $f(d)-f(c)=f^{\\prime}(p)(d-c)>0$. Hence $f(c)<f(d)$\n\n\n\nWe know from Theorem $4.17$ that the inverse function $g$ is continuous. (Its restriction to each closed subinterval $[c, d]$ is continuous, and that is sufficient.) Now observe that if $f(x)=y$ and $f(x+h)=y+k$, we have\n\n$$\n\n\\frac{g(y+k)-g(y)}{k}-\\frac{1}{f^{\\prime}(x)}=\\frac{1}{\\frac{f(x+h)-f(x)}{h}}-\\frac{1}{f^{\\prime}(x)}\n\n$$\n\nSince we know $\\lim \\frac{1}{\\varphi(t)}=\\frac{1}{\\lim \\varphi(t)}$ provided $\\lim \\varphi(t) \\neq 0$, it follows that for any $\\varepsilon>0$ there exists $\\eta>0$ such that\n\n$$\n\n\\left|\\frac{1}{\\frac{f(x+h)-f(x)}{h}}-\\frac{1}{f^{\\prime}(x)}\\right|<\\varepsilon\n\n$$\n\nif $0<|h|<\\eta$. Since $h=g(y+k)-g(y)$, there exists $\\delta>0$ such that $0<|h|<\\eta$ if $0<|k|<\\delta$. The proof is now complete. \n\n\\end{proof}",
         "For any $c, d$ with $a<c<d<b$ there exists a point $p \\in(c, d)$ such that $f(d)-f(c)=f^{\\prime}(p)(d-c)>0$. Hence $f(c)<f(d)$"
        ],
        [
         "26",
         "If $C_{0}+\\frac{C_{1}}{2}+\\cdots+\\frac{C_{n-1}}{n}+\\frac{C_{n}}{n+1}=0,$ where $C_{0}, \\ldots, C_{n}$ are real constants, prove that the equation $C_{0}+C_{1} x+\\cdots+C_{n-1} x^{n-1}+C_{n} x^{n}=0$ has at least one real root between 0 and 1.",
         "\\begin{proof}\n\n    Consider the polynomial\n\n$$\n\np(x)=C_0 x+\\frac{C_1}{2} x^2+\\cdots+\\frac{C_{n-1}}{n} x^n+\\frac{C_n}{n+1} x^{n+1},\n\n$$\n\nwhose derivative is\n\n$$\n\np^{\\prime}(x)=C_0+C_1 x+\\cdots+C_{n-1} x^{n-1}+C_n x^n .\n\n$$\n\nIt is obvious that $p(0)=0$, and the hypothesis of the problem is that $p(1)=0$. Hence Rolle's theorem implies that $p^{\\prime}(x)=0$ for some $x$ between 0 and 1 .\n\n\\end{proof}",
         "Consider the polynomial"
        ],
        [
         "27",
         "Suppose (a) $f$ is continuous for $x \\geq 0$, (b) $f^{\\prime}(x)$ exists for $x>0$, (c) $f(0)=0$, (d) $f^{\\prime}$ is monotonically increasing. Put $g(x)=\\frac{f(x)}{x} \\quad(x>0)$ and prove that $g$ is monotonically increasing.",
         "\\begin{proof}\n\n    Put\n\n$$\n\ng(x)=\\frac{f(x)}{x} \\quad(x>0)\n\n$$\n\nand prove that $g$ is monotonically increasing.\n\nBy the mean-value theorem\n\n$$\n\nf(x)=f(x)-f(0)=f^{\\prime}(c) x\n\n$$\n\nfor some $c \\in(0, x)$. Since $f^{\\prime}$ is monotonically increasing, this result implies that $f(x)<x f^{\\prime}(x)$. It therefore follows that\n\n$$\n\ng^{\\prime}(x)=\\frac{x f^{\\prime}(x)-f(x)}{x^2}>0,\n\n$$\n\nso that $g$ is also monotonically increasing.\n\n\\end{proof}",
         "Put"
        ],
        [
         "28",
         "Suppose $a \\in R^{1}, f$ is a twice-differentiable real function on $(a, \\infty)$, and $M_{0}, M_{1}, M_{2}$ are the least upper bounds of $|f(x)|,\\left|f^{\\prime}(x)\\right|,\\left|f^{\\prime \\prime}(x)\\right|$, respectively, on $(a, \\infty)$. Prove that $M_{1}^{2} \\leq 4 M_{0} M_{2} .$",
         "\\begin{proof}\n\n    The inequality is obvious if $M_0=+\\infty$ or $M_2=+\\infty$, so we shall assume that $M_0$ and $M_2$ are both finite. We need to show that\n\n$$\n\n\\left|f^{\\prime}(x)\\right| \\leq 2 \\sqrt{M_0 M_2}\n\n$$\n\nfor all $x>a$. We note that this is obvious if $M_2=0$, since in that case $f^{\\prime}(x)$ is constant, $f(x)$ is a linear function, and the only bounded linear function is a constant, whose derivative is zero. Hence we shall assume from now on that $0<M_2<+\\infty$ and $0<M_0<+\\infty$.\n\nFollowing the hint, we need only choose $h=\\sqrt{\\frac{M_0}{M_2}}$, and we obtain\n\n$$\n\n\\left|f^{\\prime}(x)\\right| \\leq 2 \\sqrt{M_0 M_2},\n\n$$\n\nwhich is precisely the desired inequality.\n\nThe case of equality follows, since the example proposed satisfies\n\n$$\n\nf(x)=1-\\frac{2}{x^2+1}\n\n$$\n\nfor $x \\geq 0$. We see easily that $|f(x)| \\leq 1$ for all $x>-1$. Now $f^{\\prime}(x)=\\frac{4 x}{\\left(x^2+1\\right)^2}$ for $x>0$ and $f^{\\prime}(x)=4 x$ for $x<0$. It thus follows from Exercise 9 above that $f^{\\prime}(0)=0$, and that $f^{\\prime}(x)$ is continuous. Likewise $f^{\\prime \\prime}(x)=4$ for $x<0$ and $f^{\\prime \\prime}(x)=\\frac{4-4 x^2}{\\left(x^2+1\\right)^3}=-4 \\frac{x^2-1}{\\left(x^2+1\\right)^3}$. This shows that $\\left|f^{\\prime \\prime}(x)\\right|<4$ for $x>0$ and also that $\\lim _{x \\rightarrow 0} f^{\\prime \\prime}(x)=4$. Hence Exercise 9 again implies that $f^{\\prime \\prime}(x)$ is continuous and $f^{\\prime \\prime}(0)=4$.\n\n\n\nOn $n$-dimensional space let $\\mathbf{f}(x)=\\left(f_1(x), \\ldots, f_n(x)\\right), M_0=\\sup |\\mathbf{f}(x)|$, $M_1=\\sup \\left|\\mathbf{f}^{\\prime}(x)\\right|$, and $M_2=\\sup \\left|\\mathbf{f}^{\\prime \\prime}(x)\\right|$. Just as in the numerical case, there is nothing to prove if $M_2=0$ or $M_0=+\\infty$ or $M_2=+\\infty$, and so we assume $0<M_0<+\\infty$ and $0<M_2<\\infty$. Let $a$ be any positive number less than $M_1$, let $x_0$ be such that $\\left|\\mathbf{f}^{\\prime}\\left(x_0\\right)\\right|>a$, and let $\\mathbf{u}=\\frac{1}{\\left|\\mathbf{f}^{\\prime}\\left(x_0\\right)\\right|} \\mathbf{f}^{\\prime}\\left(x_0\\right)$. Consider the real-valued function $\\varphi(x)=\\mathrm{u} \\cdot \\mathrm{f}(x)$. Let $N_0, N_1$, and $N_2$ be the suprema of $|\\varphi(x)|,\\left|\\varphi^{\\prime}(x)\\right|$, and $\\left|\\varphi^{\\prime \\prime}(x)\\right|$ respectively. By the Schwarz inequality we have (since $|\\mathbf{u}|=1) N_0 \\leq M_0$ and $N_2 \\leq M_2$, while $N_1 \\geq \\varphi\\left(x_0\\right)=\\left|\\mathbf{f}^{\\prime}\\left(x_0\\right)\\right|>a$. We therefore have $a^2<4 N_0 N_2 \\leq 4 M_0 M_2$. Since $a$ was any positive number less than $M_1$, we have $M_1^2 \\leq 4 M_0 M_2$, i.e., the result holds also for vector-valued functions.\n\n\n\nEquality can hold on any $R^n$, as we see by taking $\\mathbf{f}(x)=(f(x), 0, \\ldots, 0)$ or $\\mathbf{f}(x)=(f(x), f(x), \\ldots, f(x))$, where $f(x)$ is a real-valued function for which equality holds.\n\n\n\n\\end{proof}",
         "The inequality is obvious if $M_0=+\\infty$ or $M_2=+\\infty$, so we shall assume that $M_0$ and $M_2$ are both finite. We need to show that"
        ],
        [
         "29",
         "Let $X$ be a topological space; let $A$ be a subset of $X$. Suppose that for each $x \\in A$ there is an open set $U$ containing $x$ such that $U \\subset A$. Show that $A$ is open in $X$.",
         "\\begin{proof}\n\n    Since, from the given hypothesis given any $x \\in A$ there exists an open set containing $x$ say, $U_x$ such that $U_x \\subset A$. Thus, we claim that\n\n$$\n\nA=\\bigcup_{x \\in A} U_x\n\n$$\n\nObserve that if we prove the above claim, then $A$ will be open, being a union of arbitrary open sets. Since, for each $x \\in A, U_x \\subset A \\Longrightarrow \\cup U_x \\subset A$. For the converse, observe that given any $x \\in A, x \\in U_x$ and hence in the union. Thus we proved our claim, and hence $A$ is an open set.\n\n\\end{proof}",
         "Since, from the given hypothesis given any $x \\in A$ there exists an open set containing $x$ say, $U_x$ such that $U_x \\subset A$. Thus, we claim that"
        ],
        [
         "30",
         "If $\\mathcal{T}_\\alpha$ is a family of topologies on $X$, show that $\\bigcap \\mathcal{T}_\\alpha$ is a topology on $X$.",
         "\\begin{proof}\n\n    Since $\\emptyset$ and $X$ belong to $\\mathcal{T}_\\alpha$ for each $\\alpha$, they belong to $\\bigcap_\\alpha \\mathcal{T}_\\alpha$. Let $\\left\\{V_\\beta\\right\\}_\\beta$ be a collection of open sets in $\\bigcap_\\alpha \\mathcal{T}_\\alpha$. For any fixed $\\alpha$ we have $\\cup_\\beta V_\\beta \\in \\mathcal{T}_\\alpha$ since $\\mathcal{T}_\\alpha$ is a topology on $X$, so $\\bigcup_\\beta V_\\beta \\in \\bigcap_\\alpha \\mathcal{T}_\\alpha$. Similarly, if $U_1, \\ldots, U_n$ are elements of $\\bigcap_\\alpha \\mathcal{T}_\\alpha$, then for each $\\alpha$ we have $\\bigcup_{i=1}^n U_i \\in \\mathcal{T}_\\alpha$ and therefore $\\bigcup_{i=1}^n U_i \\in \\bigcap_\\alpha \\mathcal{T}_\\alpha$. It follows that $\\bigcap_\\alpha \\mathcal{T}_\\alpha$ is a topology on $X$.\n\n\\end{proof}",
         "Since $\\emptyset$ and $X$ belong to $\\mathcal{T}_\\alpha$ for each $\\alpha$, they belong to $\\bigcap_\\alpha \\mathcal{T}_\\alpha$. Let $\\left\\{V_\\beta\\right\\}_\\beta$ be a collection of open sets in $\\bigcap_\\alpha \\mathcal{T}_\\alpha$. For any fixed $\\alpha$ we have $\\cup_\\beta V_\\beta \\in \\mathcal{T}_\\alpha$ since $\\mathcal{T}_\\alpha$ is a topology on $X$, so $\\bigcup_\\beta V_\\beta \\in \\bigcap_\\alpha \\mathcal{T}_\\alpha$. Similarly, if $U_1, \\ldots, U_n$ are elements of $\\bigcap_\\alpha \\mathcal{T}_\\alpha$, then for each $\\alpha$ we have $\\bigcup_{i=1}^n U_i \\in \\mathcal{T}_\\alpha$ and therefore $\\bigcup_{i=1}^n U_i \\in \\bigcap_\\alpha \\mathcal{T}_\\alpha$. It follows that $\\bigcap_\\alpha \\mathcal{T}_\\alpha$ is a topology on $X$."
        ],
        [
         "31",
         "Let $\\mathcal{T}_\\alpha$ be a family of topologies on $X$. Show that there is a unique smallest topology on $X$ containing all the collections $\\mathcal{T}_\\alpha$.",
         "\\begin{proof}\n\n    (b) First we prove that there is a unique smallest topology on $X$ containing all the collections $\\mathcal{T}_\\alpha$. Uniqueness of such topology is clear. For each $\\alpha$ let $\\mathcal{B}_\\alpha$ be a basis for $\\mathcal{T}_\\alpha$. Let $\\mathcal{T}$ be the topology generated by the subbasis $\\mathcal{S}=\\bigcup_\\alpha \\mathcal{B}_\\alpha$. Then the collection $\\mathcal{B}$ of all finite intersections of elements of $\\mathcal{S}$ is a basis for $\\mathcal{T}$. Clearly $\\mathcal{T}_\\alpha \\subset \\mathcal{T}$ for all $\\alpha$. We now prove that if $\\mathcal{O}$ is a topology on $X$ such that $\\mathcal{T}_\\alpha \\subset \\mathcal{O}$ for all $\\alpha$, then $\\mathcal{T} \\subset \\mathcal{O}$. Given such $\\mathcal{O}$, we have $\\mathcal{B}_\\alpha \\subset \\mathcal{O}$ for all $\\alpha$, so $\\mathcal{S} \\subset \\mathcal{O}$. Since $\\mathcal{O}$ is a topology, it must contain all finite intersections of elements of $\\mathcal{S}$, so $\\mathcal{B} \\subset \\mathcal{O}$ and hence $\\mathcal{T} \\subset \\mathcal{O}$. We conclude that the topology $\\mathcal{T}$ generated by the subbasis $\\mathcal{S}=\\cup_\\alpha \\mathcal{B}_\\alpha$ is the unique smallest topology on $X$ containing all the collections $\\mathcal{T}_\\alpha$.\n\n\\end{proof}",
         "(b) First we prove that there is a unique smallest topology on $X$ containing all the collections $\\mathcal{T}_\\alpha$. Uniqueness of such topology is clear. For each $\\alpha$ let $\\mathcal{B}_\\alpha$ be a basis for $\\mathcal{T}_\\alpha$. Let $\\mathcal{T}$ be the topology generated by the subbasis $\\mathcal{S}=\\bigcup_\\alpha \\mathcal{B}_\\alpha$. Then the collection $\\mathcal{B}$ of all finite intersections of elements of $\\mathcal{S}$ is a basis for $\\mathcal{T}$. Clearly $\\mathcal{T}_\\alpha \\subset \\mathcal{T}$ for all $\\alpha$. We now prove that if $\\mathcal{O}$ is a topology on $X$ such that $\\mathcal{T}_\\alpha \\subset \\mathcal{O}$ for all $\\alpha$, then $\\mathcal{T} \\subset \\mathcal{O}$. Given such $\\mathcal{O}$, we have $\\mathcal{B}_\\alpha \\subset \\mathcal{O}$ for all $\\alpha$, so $\\mathcal{S} \\subset \\mathcal{O}$. Since $\\mathcal{O}$ is a topology, it must contain all finite intersections of elements of $\\mathcal{S}$, so $\\mathcal{B} \\subset \\mathcal{O}$ and hence $\\mathcal{T} \\subset \\mathcal{O}$. We conclude that the topology $\\mathcal{T}$ generated by the subbasis $\\mathcal{S}=\\cup_\\alpha \\mathcal{B}_\\alpha$ is the unique smallest topology on $X$ containing all the collections $\\mathcal{T}_\\alpha$."
        ],
        [
         "32",
         "Show that if $\\mathcal{A}$ is a basis for a topology on $X$, then the topology generated by $\\mathcal{A}$ equals the intersection of all topologies on $X$ that contain $\\mathcal{A}$.",
         "\\begin{proof}\n\n    Let $\\mathcal{T}$ be the topology generated by $\\mathcal{A}$ and let $\\mathcal{O}$ be the intersection of all topologies on $X$ that contains $\\mathcal{A}$. Clearly $\\mathcal{O} \\subset \\mathcal{T}$ since $\\mathcal{T}$ is a topology on $X$ that contain $\\mathcal{A}$. Conversely, let $U \\in \\mathcal{T}$, so that $U$ is a union of elements of $\\mathcal{A}$. Since each of this elements is also an element of $\\mathcal{O}$, their union $U$ belongs to $\\mathcal{O}$. Thus $\\mathcal{T} \\subset \\mathcal{O}$ and the equality holds.\n\n\\end{proof}",
         "Let $\\mathcal{T}$ be the topology generated by $\\mathcal{A}$ and let $\\mathcal{O}$ be the intersection of all topologies on $X$ that contains $\\mathcal{A}$. Clearly $\\mathcal{O} \\subset \\mathcal{T}$ since $\\mathcal{T}$ is a topology on $X$ that contain $\\mathcal{A}$. Conversely, let $U \\in \\mathcal{T}$, so that $U$ is a union of elements of $\\mathcal{A}$. Since each of this elements is also an element of $\\mathcal{O}$, their union $U$ belongs to $\\mathcal{O}$. Thus $\\mathcal{T} \\subset \\mathcal{O}$ and the equality holds."
        ],
        [
         "33",
         "Show that the lower limit topology $\\mathbb{R}_l$ and $K$-topology $\\mathbb{R}_K$ are not comparable.",
         "\\begin{proof}\n\n    Let $\\mathcal{T}_{\\ell}$ and $\\mathcal{T}_K$ denote the topologies of $\\mathbb{R}_{\\ell}$ and $\\mathbb{R}_K$ respectively. Given the basis element $[0,1)$ for $\\mathcal{T}_{\\ell}$, there is no basis element for $\\mathcal{T}_K$ containing 0 and contained in $[0,1)$, so $\\mathcal{T}_{\\ell} \\not \\subset \\mathcal{T}_K$. Similarly, given the basis element $(-1,1) \\backslash K$ for $\\mathcal{T}_K$, there is no basis element for $\\mathcal{T}_{\\ell}$ containing 0 contained in $(-1,1) \\backslash K$, so $\\mathcal{T}_K \\not \\subset \\mathcal{T}_{\\ell}$.\n\n\\end{proof}",
         "Let $\\mathcal{T}_{\\ell}$ and $\\mathcal{T}_K$ denote the topologies of $\\mathbb{R}_{\\ell}$ and $\\mathbb{R}_K$ respectively. Given the basis element $[0,1)$ for $\\mathcal{T}_{\\ell}$, there is no basis element for $\\mathcal{T}_K$ containing 0 and contained in $[0,1)$, so $\\mathcal{T}_{\\ell} \\not \\subset \\mathcal{T}_K$. Similarly, given the basis element $(-1,1) \\backslash K$ for $\\mathcal{T}_K$, there is no basis element for $\\mathcal{T}_{\\ell}$ containing 0 contained in $(-1,1) \\backslash K$, so $\\mathcal{T}_K \\not \\subset \\mathcal{T}_{\\ell}$."
        ],
        [
         "34",
         "Show that the collection $\\{(a,b) \\mid a < b, a \\text{ and } b \\text{ rational}\\}$ is a basis that generates a topology different from the lower limit topology on $\\mathbb{R}$.",
         "\\begin{proof}\n\n    (b) $\\mathcal{C}$ is a basis for a topology on $\\mathbb{R}$ since the union of its elements is $\\mathbb{R}$ and the intersection of two elements of $\\mathcal{C}$ is either empty or another element of $\\mathcal{C}$. Now consider $[r, s)$ where $r$ is any irrational number and $s$ is any real number greater than $r$. Then $[r, s)$ is a basis element for the topology of $\\mathbb{R}_{\\ell}$, but $[r, s)$ is not a union of elements of $\\mathcal{C}$. Indeed, suppose that $[r, s)=\\cup_\\alpha\\left[a_\\alpha, b_\\alpha\\right)$ for rationals $a_\\alpha, b_\\alpha$. Then $r \\in\\left[a_\\alpha, b_\\alpha\\right)$ for some $\\alpha$. Since $r$ is irrational we must have $a_\\alpha<r$, but then $a_\\alpha \\notin[r, s)$, a contradiction. It follows that the topology generated by $\\mathcal{C}$ is strictly coarser than the lower limit topology on $\\mathbb{R}$.\n\n\\end{proof}",
         "(b) $\\mathcal{C}$ is a basis for a topology on $\\mathbb{R}$ since the union of its elements is $\\mathbb{R}$ and the intersection of two elements of $\\mathcal{C}$ is either empty or another element of $\\mathcal{C}$. Now consider $[r, s)$ where $r$ is any irrational number and $s$ is any real number greater than $r$. Then $[r, s)$ is a basis element for the topology of $\\mathbb{R}_{\\ell}$, but $[r, s)$ is not a union of elements of $\\mathcal{C}$. Indeed, suppose that $[r, s)=\\cup_\\alpha\\left[a_\\alpha, b_\\alpha\\right)$ for rationals $a_\\alpha, b_\\alpha$. Then $r \\in\\left[a_\\alpha, b_\\alpha\\right)$ for some $\\alpha$. Since $r$ is irrational we must have $a_\\alpha<r$, but then $a_\\alpha \\notin[r, s)$, a contradiction. It follows that the topology generated by $\\mathcal{C}$ is strictly coarser than the lower limit topology on $\\mathbb{R}$."
        ],
        [
         "35",
         "A map $f: X \\rightarrow Y$ is said to be an open map if for every open set $U$ of $X$, the set $f(U)$ is open in $Y$. Show that $\\pi_{1}: X \\times Y \\rightarrow X$ and $\\pi_{2}: X \\times Y \\rightarrow Y$ are open maps.",
         "\\begin{proof}\n\n    Exercise 16.4. Let $U \\times V$ be a (standard) basis element for $X \\times Y$, so that $U$ is open in $X$ and $V$ is open in $Y$. Then $\\pi_1(U \\times V)=U$ is open in $X$ and $\\pi_2(U \\times V)=V$ is open in $Y$. Since arbitrary maps and unions satisfy $f\\left(\\bigcup_\\alpha W_\\alpha\\right)=\\bigcup_\\alpha f\\left(W_\\alpha\\right)$, it follows that $\\pi_1$ and $\\pi_2$ are open maps.\n\n\\end{proof}",
         "Exercise 16.4. Let $U \\times V$ be a (standard) basis element for $X \\times Y$, so that $U$ is open in $X$ and $V$ is open in $Y$. Then $\\pi_1(U \\times V)=U$ is open in $X$ and $\\pi_2(U \\times V)=V$ is open in $Y$. Since arbitrary maps and unions satisfy $f\\left(\\bigcup_\\alpha W_\\alpha\\right)=\\bigcup_\\alpha f\\left(W_\\alpha\\right)$, it follows that $\\pi_1$ and $\\pi_2$ are open maps."
        ],
        [
         "36",
         "Show that if $U$ is open in $X$ and $A$ is closed in $X$, then $U-A$ is open in $X$, and $A-U$ is closed in $X$.",
         "\\begin{proof}\n\nSince\n\n$$\n\nX \\backslash(U \\backslash A)=(X \\backslash U) \\cup A \\text { and } \\quad X \\backslash(A \\backslash U)=(X \\backslash A) \\cup U,\n\n$$\n\nit follows that $X \\backslash(U \\backslash A)$ is closed in $X$ and $X \\backslash(A \\backslash U)$ is open in $X$.\n\n\\end{proof}",
         "Since"
        ],
        [
         "37",
         "Let $Y$ be an ordered set in the order topology. Let $f, g: X \\rightarrow Y$ be continuous. Let $h: X \\rightarrow Y$ be the function $h(x)=\\min \\{f(x), g(x)\\}.$ Show that $h$ is continuous.",
         "\\begin{proof}\n\n    Let $A=\\{x \\mid f(x) \\leq g(x)\\}$ and $B=\\{x \\mid g(x) \\leq f(x)\\}$. Then $A$ and $B$ are closed in $X$ by (a), $A \\cap B=\\{x \\mid f(x)=g(x)\\}$, and $X=A \\cup B$. Since $f$ and $g$ are continuous, their restrictions $f^{\\prime}: A \\rightarrow Y$ and $g^{\\prime}: B \\rightarrow Y$ are continuous. It follows from the pasting lemma that\n\n$$\n\nh: X \\rightarrow Y, \\quad h(x)=\\min \\{f(x), g(x)\\}= \\begin{cases}f^{\\prime}(x) & \\text { if } x \\in A \\\\ g^{\\prime}(x) & \\text { if } x \\in B\\end{cases}\n\n$$\n\nis continuous\n\n\\end{proof}",
         "Let $A=\\{x \\mid f(x) \\leq g(x)\\}$ and $B=\\{x \\mid g(x) \\leq f(x)\\}$. Then $A$ and $B$ are closed in $X$ by (a), $A \\cap B=\\{x \\mid f(x)=g(x)\\}$, and $X=A \\cup B$. Since $f$ and $g$ are continuous, their restrictions $f^{\\prime}: A \\rightarrow Y$ and $g^{\\prime}: B \\rightarrow Y$ are continuous. It follows from the pasting lemma that"
        ],
        [
         "38",
         "Let $\\mathbf{x}_1, \\mathbf{x}_2, \\ldots$ be a sequence of the points of the product space $\\prod X_\\alpha$.  Show that this sequence converges to the point $\\mathbf{x}$ if and only if the sequence $\\pi_\\alpha(\\mathbf{x}_i)$ converges to $\\pi_\\alpha(\\mathbf{x})$ for each $\\alpha$.",
         "\\begin{proof}\n\n    For each $n \\in \\mathbb{Z}_{+}$, we write $\\mathbf{x}_n=\\left(x_n^\\alpha\\right)_\\alpha$, so that $\\pi_\\alpha\\left(\\mathbf{x}_n\\right)=x_n^\\alpha$ for each $\\alpha$.\n\nFirst assume that the sequence $\\mathbf{x}_1, \\mathbf{x}_2, \\ldots$ converges to $\\mathbf{x}=\\left(x_\\alpha\\right)_\\alpha$ in the product space $\\prod_\\alpha X_\\alpha$. Fix an index $\\beta$ and let $U$ be a neighbourhood of $\\pi_\\beta(\\mathbf{x})=x_\\beta$. Let $V=\\prod_\\alpha U_\\alpha$, where $U_\\alpha=X_\\alpha$ for each $\\alpha \\neq \\beta$ and $U_\\beta=U$. Then $V$ is a neighbourhood of $\\mathbf{x}$, so there exists $N \\in \\mathbb{Z}_{+}$such that $\\mathbf{x}_n \\in V$ for all $n \\geq N$. Therefore $\\pi_\\beta\\left(\\mathbf{x}_n\\right)=x_n^\\beta \\in U$ for all $n \\geq N$. Since $U$ was arbitrary, it follows that $\\pi_\\beta\\left(\\mathbf{x}_1\\right), \\pi_\\beta\\left(\\mathbf{x}_2\\right), \\ldots$ converges to $\\pi_\\beta(\\mathbf{x})$. Since $\\beta$ was arbitrary, this holds for all indices $\\alpha$.\n\n\\end{proof}",
         "For each $n \\in \\mathbb{Z}_{+}$, we write $\\mathbf{x}_n=\\left(x_n^\\alpha\\right)_\\alpha$, so that $\\pi_\\alpha\\left(\\mathbf{x}_n\\right)=x_n^\\alpha$ for each $\\alpha$."
        ],
        [
         "39",
         "Define $f_{n}:[0,1] \\rightarrow \\mathbb{R}$ by the equation $f_{n}(x)=x^{n}$. Show that the sequence $\\left(f_{n}(x)\\right)$ converges for each $x \\in[0,1]$.",
         "\\begin{proof}\n\nIf $0 \\leq x<1$ is fixed, then $f_n(x) \\rightarrow 0$ as $n \\rightarrow \\infty$. As $f_n(1)=1$ for all $n, f_n(1) \\rightarrow 1$. Thus $\\left(f_n\\right)_n$ converges to $f:[0,1] \\rightarrow \\mathbb{R}$ given by $f(x)=0$ if $x=0$ and $f(1)=1$. The sequence\n\n\\end{proof}",
         "If $0 \\leq x<1$ is fixed, then $f_n(x) \\rightarrow 0$ as $n \\rightarrow \\infty$. As $f_n(1)=1$ for all $n, f_n(1) \\rightarrow 1$. Thus $\\left(f_n\\right)_n$ converges to $f:[0,1] \\rightarrow \\mathbb{R}$ given by $f(x)=0$ if $x=0$ and $f(1)=1$. The sequence"
        ],
        [
         "40",
         "Let $X$ be a topological space and let $Y$ be a metric space. Let $f_{n}: X \\rightarrow Y$ be a sequence of continuous functions. Let $x_{n}$ be a sequence of points of $X$ converging to $x$. Show that if the sequence $\\left(f_{n}\\right)$ converges uniformly to $f$, then $\\left(f_{n}\\left(x_{n}\\right)\\right)$ converges to $f(x)$.",
         "\\begin{proof}\n\n    Let $d$ be the metric on $Y$. Let $V$ be a neighbourhood of $f(x)$, and let $\\varepsilon>0$ be such that $f(x) \\in B_d(f(x), \\varepsilon) \\subset V$. Since $\\left(f_n\\right)_n$ converges uniformly to $f$, there exists $N_1 \\in \\mathbb{Z}_{+}$such that $d\\left(f_n(x), f(x)\\right)<\\varepsilon / 2$ for all $x \\in X$ and all $n \\geq N_1$, so that $d\\left(f_n\\left(x_n\\right), f\\left(x_n\\right)\\right)<\\varepsilon / 2$ for all $n \\geq N_1$. Moreover, $f$ is continuous, so there exists $N_2 \\in \\mathbb{Z}_{+}$such that $d\\left(f\\left(x_n\\right), f(x)\\right)<\\varepsilon / 2$ for all $n \\geq N_2$. Thus, if $N>\\max \\left\\{N_1, N_2\\right\\}$, then\n\n$$\n\nd\\left(f_n\\left(x_n\\right), f(x)\\right) \\leq d\\left(f_n\\left(x_n\\right), f\\left(x_n\\right)\\right)+d\\left(f\\left(x_n\\right), f(x)\\right)<\\frac{\\varepsilon}{2}+\\frac{\\varepsilon}{2}=\\varepsilon\n\n$$\n\nfor all $n \\geq N$, so $f_n\\left(x_n\\right) \\in V$ for all $n \\geq N$. It follows that $\\left(f_n\\left(x_n\\right)\\right)_n$ converges to $f(x)$.\n\n\\end{proof}",
         "Let $d$ be the metric on $Y$. Let $V$ be a neighbourhood of $f(x)$, and let $\\varepsilon>0$ be such that $f(x) \\in B_d(f(x), \\varepsilon) \\subset V$. Since $\\left(f_n\\right)_n$ converges uniformly to $f$, there exists $N_1 \\in \\mathbb{Z}_{+}$such that $d\\left(f_n(x), f(x)\\right)<\\varepsilon / 2$ for all $x \\in X$ and all $n \\geq N_1$, so that $d\\left(f_n\\left(x_n\\right), f\\left(x_n\\right)\\right)<\\varepsilon / 2$ for all $n \\geq N_1$. Moreover, $f$ is continuous, so there exists $N_2 \\in \\mathbb{Z}_{+}$such that $d\\left(f\\left(x_n\\right), f(x)\\right)<\\varepsilon / 2$ for all $n \\geq N_2$. Thus, if $N>\\max \\left\\{N_1, N_2\\right\\}$, then"
        ],
        [
         "41",
         "If $A \\subset X$, a retraction of $X$ onto $A$ is a continuous map $r: X \\rightarrow A$ such that $r(a)=a$ for each $a \\in A$. Show that a retraction is a quotient map.",
         "\\begin{proof}\n\nThe inclusion map $i: A \\rightarrow X$ is continuous and $r \\circ i=1_A$ is the identity. Thus $r$ is a quotient map by (a).\n\n\\end{proof}",
         "The inclusion map $i: A \\rightarrow X$ is continuous and $r \\circ i=1_A$ is the identity. Thus $r$ is a quotient map by (a)."
        ],
        [
         "42",
         "Let $\\left\\{A_{n}\\right\\}$ be a sequence of connected subspaces of $X$, such that $A_{n} \\cap A_{n+1} \\neq \\varnothing$ for all $n$. Show that $\\bigcup A_{n}$ is connected.",
         "\\begin{proof}\n\n    Suppose that $\\bigcup_n A_n=B \\cup C$, where $B$ and $C$ are disjoint open subsets of $\\bigcup_n A_n$. Since $A_1$ is connected and a subset of $B \\cup C$, by Lemma $23.2$ it lies entirely within either $B$ or $C$. Without any loss of generality, we may assume $A_1 \\subset B$. Note that given $n$, if $A_n \\subset B$ then $A_{n+1} \\subset B$, for if $A_{n+1} \\subset C$ then $A_n \\cap A_{n+1} \\subset B \\cap C=\\emptyset$, in contradiction with the assumption. By induction, $A_n \\subset B$ for all $n \\in \\mathbb{Z}_{+}$, so that $\\bigcup_n A_n \\subset B$. It follows that $\\bigcup_n A_n$ is connected.\n\n\\end{proof}",
         "Suppose that $\\bigcup_n A_n=B \\cup C$, where $B$ and $C$ are disjoint open subsets of $\\bigcup_n A_n$. Since $A_1$ is connected and a subset of $B \\cup C$, by Lemma $23.2$ it lies entirely within either $B$ or $C$. Without any loss of generality, we may assume $A_1 \\subset B$. Note that given $n$, if $A_n \\subset B$ then $A_{n+1} \\subset B$, for if $A_{n+1} \\subset C$ then $A_n \\cap A_{n+1} \\subset B \\cap C=\\emptyset$, in contradiction with the assumption. By induction, $A_n \\subset B$ for all $n \\in \\mathbb{Z}_{+}$, so that $\\bigcup_n A_n \\subset B$. It follows that $\\bigcup_n A_n$ is connected."
        ],
        [
         "43",
         "Show that if $X$ is an infinite set, it is connected in the finite complement topology.",
         "\\begin{proof}\n\n    Suppose that $A$ is a non-empty subset of $X$ that is both open and closed, i.e., $A$ and $X \\backslash A$ are finite or all of $X$. Since $A$ is non-empty, $X \\backslash A$ is finite. Thus $A$ cannot be finite as $X \\backslash A$ is infinite, so $A$ is all of $X$. Therefore $X$ is connected.\n\n\\end{proof}",
         "Suppose that $A$ is a non-empty subset of $X$ that is both open and closed, i.e., $A$ and $X \\backslash A$ are finite or all of $X$. Since $A$ is non-empty, $X \\backslash A$ is finite. Thus $A$ cannot be finite as $X \\backslash A$ is infinite, so $A$ is all of $X$. Therefore $X$ is connected."
        ],
        [
         "44",
         "Let $A$ be a proper subset of $X$, and let $B$ be a proper subset of $Y$. If $X$ and $Y$ are connected, show that $(X \\times Y)-(A \\times B)$ is connected.",
         "\\begin{proof}\n\nThis is similar to the proof of Theorem 23.6. Take $c \\times d \\in(X \\backslash A) \\times(Y \\backslash B)$. For each $x \\in X \\backslash A$, the set\n\n$$\n\nU_x=(X \\times\\{d\\}) \\cup(\\{x\\} \\times Y)\n\n$$\n\nis connected since $X \\times\\{d\\}$ and $\\{x\\} \\times Y$ are connected and have the common point $x \\times d$. Then $U=\\bigcup_{x \\in X \\backslash A} U_x$ is connected because it is the union of the connected spaces $U_x$ which have the point $c \\times d$ in common. Similarly, for each $y \\in Y \\backslash B$ the set\n\n$$\n\nV_y=(X \\times\\{y\\}) \\cup(\\{c\\} \\times Y)\n\n$$\n\nis connected, so $V=\\bigcup_{y \\in Y \\backslash B} V_y$ is connected. Thus $(X \\times Y) \\backslash(A \\times B)=U \\cup V$ is connected since $c \\times d$ is a common point of $U$ and $V$.\n\n\\end{proof}",
         "This is similar to the proof of Theorem 23.6. Take $c \\times d \\in(X \\backslash A) \\times(Y \\backslash B)$. For each $x \\in X \\backslash A$, the set"
        ],
        [
         "45",
         "Let $f: S^{1} \\rightarrow \\mathbb{R}$ be a continuous map. Show there exists a point $x$ of $S^{1}$ such that $f(x)=f(-x)$.",
         "\\begin{proof}\n\n    Let $f: S^1 \\rightarrow \\mathbb{R}$ be continuous. Let $x \\in S^1$. If $f(x)=f(-x)$ we are done, so assume $f(x) \\neq f(-x)$. Define $g: S^1 \\rightarrow \\mathbb{R}$ by setting $g(x)=f(x)-f(-x)$. Then $g$ is continuous. Suppose $f(x)>f(-x)$, so that $g(x)>0$. Then $-x \\in S^1$ and $g(-x)<0$. By the intermediate value theorem, since $S^1$ is connected and $g(-x)<0<g(x)$, there exists $y \\in S^1$ such that $g(y)=0$. i.e, $f(y)=f(-y)$. Similarly, if $f(x)<f(-x)$, then $g(x)<0<g(-x)$ and again the intermediate value theorem gives the result.\n\n\\end{proof}",
         "Let $f: S^1 \\rightarrow \\mathbb{R}$ be continuous. Let $x \\in S^1$. If $f(x)=f(-x)$ we are done, so assume $f(x) \\neq f(-x)$. Define $g: S^1 \\rightarrow \\mathbb{R}$ by setting $g(x)=f(x)-f(-x)$. Then $g$ is continuous. Suppose $f(x)>f(-x)$, so that $g(x)>0$. Then $-x \\in S^1$ and $g(-x)<0$. By the intermediate value theorem, since $S^1$ is connected and $g(-x)<0<g(x)$, there exists $y \\in S^1$ such that $g(y)=0$. i.e, $f(y)=f(-y)$. Similarly, if $f(x)<f(-x)$, then $g(x)<0<g(-x)$ and again the intermediate value theorem gives the result."
        ],
        [
         "46",
         "Let $X$ be locally path connected. Show that every connected open set in $X$ is path connected.",
         "\\begin{proof}\n\n    Let $U$ be a open connected set in $X$. By Theorem 25.4, each path component of $U$ is open in $X$, hence open in $U$. Thus, each path component in $U$ is both open and closed in $U$, so must be empty or all of $U$. It follows that $U$ is path-connected.\n\n\\end{proof}",
         "Let $U$ be a open connected set in $X$. By Theorem 25.4, each path component of $U$ is open in $X$, hence open in $U$. Thus, each path component in $U$ is both open and closed in $U$, so must be empty or all of $U$. It follows that $U$ is path-connected."
        ],
        [
         "47",
         "Let $X$ be a compact Hausdorff space. Let $\\mathcal{A}$ be a collection of closed connected subsets of $X$ that is simply ordered by proper inclusion. Then $Y=\\bigcap_{A \\in \\mathcal{A}} A$ is connected.",
         "\\begin{proof}\n\n Since each $A \\in \\mathcal{A}$ is closed, $Y$ is closed. Suppose that $C$ and $D$ form a separation of $Y$. Then $C$ and $D$ are closed in $Y$, hence closed in $X$. Since $X$ is compact, $C$ and $D$ are compact by Theorem 26.2. Since $X$ is Hausdorff, by Exercise 26.5, there exist $U$ and $V$ open in $X$ and disjoint containing $C$ and $D$, respectively. We show that\n\n$$\n\n\\bigcap_{A \\in \\mathcal{A}}(A \\backslash(U \\cup V))\n\n$$\n\nis not empty. Let $\\left\\{A_1, \\ldots, A_n\\right\\}$ be a finite subcollection of elements of $\\mathcal{A}$. We may assume that $A_i \\subsetneq A_{i+1}$ for all $i=1, \\ldots, n-1$. Then\n\n$$\n\n\\bigcap_{i=1}^n\\left(A_i \\backslash(U \\cup V)\\right)=A_1 \\backslash(U \\cup V) \\text {. }\n\n$$\n\nSuppose that $A_1 \\backslash(U \\cup V)=\\emptyset$. Then $A_1 \\subset U \\cup V$. Since $A_1$ is connected and $U \\cap V=\\emptyset, A_1$ lies within either $U$ or $V$, say $A_1 \\subset U$. Then $Y \\subset A_1 \\subset U$, so that $C=Y \\cap C \\subset Y \\cap V=\\emptyset$, contradicting the fact that $C$ and $D$ form a separation of $Y$. Hence, $\\bigcap_{i=1}^n\\left(A_i \\backslash(U \\cup V)\\right)$ is non-empty. Therefore, the collection $\\{A \\backslash(U \\cup V) \\mid A \\in \\mathcal{A}\\}$ has the finite intersection property, so\n\n$$\n\n\\bigcap_{A \\in \\mathcal{A}}(A \\backslash(U \\cup V))=\\left(\\bigcap_{A \\in \\mathcal{A}} A\\right) \\backslash(U \\cup V)=Y \\backslash(U \\cup V)\n\n$$\n\nis non-empty. So there exists $y \\in Y$ such that $y \\notin U \\cup V \\supset C \\cup D$, contradicting the fact that $C$ and $D$ form a separation of $Y$. We conclude that there is no such separation, so that $Y$ is connected.\n\n\\end{proof}",
         "Since each $A \\in \\mathcal{A}$ is closed, $Y$ is closed. Suppose that $C$ and $D$ form a separation of $Y$. Then $C$ and $D$ are closed in $Y$, hence closed in $X$. Since $X$ is compact, $C$ and $D$ are compact by Theorem 26.2. Since $X$ is Hausdorff, by Exercise 26.5, there exist $U$ and $V$ open in $X$ and disjoint containing $C$ and $D$, respectively. We show that"
        ],
        [
         "48",
         "Show that a connected metric space having more than one point is uncountable.",
         "\\begin{proof}\n\n    The distance function $d: X \\times X \\rightarrow \\mathbb{R}$ is continuous by Exercise 20.3(a), so given $x \\in X$, the function $d_x: X \\rightarrow \\mathbb{R}$ given by $d_x(y)=d(x, y)$ is continuous by Exercise 19.11. Since $X$ is connected, the image $d_x(X)$ is a connected subspace of $\\mathbb{R}$, and contains 0 since $d_x(x)=0$. Thus, if $y \\in X$ and $y \\neq x$, then $d_x(X)$ contains the set $[0, \\delta]$, where $\\delta=d_x(y)>0$. Therefore $X$ must be uncountable.\n\n\\end{proof}",
         "The distance function $d: X \\times X \\rightarrow \\mathbb{R}$ is continuous by Exercise 20.3(a), so given $x \\in X$, the function $d_x: X \\rightarrow \\mathbb{R}$ given by $d_x(y)=d(x, y)$ is continuous by Exercise 19.11. Since $X$ is connected, the image $d_x(X)$ is a connected subspace of $\\mathbb{R}$, and contains 0 since $d_x(x)=0$. Thus, if $y \\in X$ and $y \\neq x$, then $d_x(X)$ contains the set $[0, \\delta]$, where $\\delta=d_x(y)>0$. Therefore $X$ must be uncountable."
        ],
        [
         "49",
         "Show that X is countably compact if and only if every nested sequence $C_1 \\supset C_2 \\supset \\cdots$ of closed nonempty sets of X has a nonempty intersection.",
         "\\begin{proof}\n\nWe could imitate the proof of Theorem 26.9, but we prove directly each direction. First let $X$ be countable compact and let $C_1 \\supset C_2 \\supset \\cdots$ be a nested sequence of closed nonempty sets of $X$. For each $n \\in \\mathbb{Z}_{+}, U_n=X \\backslash C_n$ is open in $X$. Then $\\left\\{U_n\\right\\}_{n \\in \\mathbb{Z}_{+}}$is a countable collection of open sets with no finite subcollection covering $X$, for if $U_{i_1} \\cup \\cdots \\cup U_{1_n}$ covers $X$, then $C_{i_1} \\cap \\cdots \\cap C_{i_n}$ is empty, contrary to the assumption. Hence $\\left\\{U_n\\right\\}_{n \\in \\mathbb{Z}_{+}}$does not cover $X$, so there exist $x \\in X \\backslash \\bigcup_{n \\in \\mathbb{Z}_{+}} U_n=\\bigcap_{n \\in Z_{+}}\\left(X \\backslash U_n\\right)=\\bigcap_{n \\in Z_{+}} C_n$.\n\n\n\nConversely, assume that every nested sequence $C_1 \\supset C_2 \\supset \\cdots$ of closed non-empty sets of $X$ has a non-empty intersection and let $\\left\\{U_n\\right\\}_{n \\in \\mathbb{Z}_{+}}$be a countable open covering of $X$. For each $n$, let $V_n=U_1 \\cup \\cdots \\cup U_n$ and $C_n=X \\backslash V_n$. Suppose that no finite subcollection of $\\left\\{U_n\\right\\}_{n \\in \\mathbb{Z}_{+}}$covers $X$. Then each $C_n$ is non-empty, so $C_1 \\supset C_2 \\supset \\cdots$ is a nested sequence of non-empty closed sets and $\\bigcap_{n \\in \\mathbb{Z}_{+}} C_n$ is non-empty by assumption. Then there exists $x \\in \\bigcap_{n \\in \\mathbb{Z}_{+}} C_n$, so that $x \\notin V_n$ for all $n$, contradicting the fact that $\\left\\{U_n\\right\\}_{n \\in \\mathbb{Z}_{+}}$covers $X$. It follows that there exists $N \\in \\mathbb{Z}_{+}$such that $C_N=\\emptyset$, so that $X=V_N$ and hence some finite subcollection of $\\left\\{U_n\\right\\}_{n \\in \\mathbb{Z}_{+}}$covers $X$. We deduce that $X$ is countable compact.\n\n\\end{proof}",
         "We could imitate the proof of Theorem 26.9, but we prove directly each direction. First let $X$ be countable compact and let $C_1 \\supset C_2 \\supset \\cdots$ be a nested sequence of closed nonempty sets of $X$. For each $n \\in \\mathbb{Z}_{+}, U_n=X \\backslash C_n$ is open in $X$. Then $\\left\\{U_n\\right\\}_{n \\in \\mathbb{Z}_{+}}$is a countable collection of open sets with no finite subcollection covering $X$, for if $U_{i_1} \\cup \\cdots \\cup U_{1_n}$ covers $X$, then $C_{i_1} \\cap \\cdots \\cap C_{i_n}$ is empty, contrary to the assumption. Hence $\\left\\{U_n\\right\\}_{n \\in \\mathbb{Z}_{+}}$does not cover $X$, so there exist $x \\in X \\backslash \\bigcup_{n \\in \\mathbb{Z}_{+}} U_n=\\bigcap_{n \\in Z_{+}}\\left(X \\backslash U_n\\right)=\\bigcap_{n \\in Z_{+}} C_n$."
        ]
       ],
       "shape": {
        "columns": 3,
        "rows": 184
       }
      },
      "text/html": [
       "<div>\n",
       "<style scoped>\n",
       "    .dataframe tbody tr th:only-of-type {\n",
       "        vertical-align: middle;\n",
       "    }\n",
       "\n",
       "    .dataframe tbody tr th {\n",
       "        vertical-align: top;\n",
       "    }\n",
       "\n",
       "    .dataframe thead th {\n",
       "        text-align: right;\n",
       "    }\n",
       "</style>\n",
       "<table border=\"1\" class=\"dataframe\">\n",
       "  <thead>\n",
       "    <tr style=\"text-align: right;\">\n",
       "      <th></th>\n",
       "      <th>nl_statement</th>\n",
       "      <th>nl_proof</th>\n",
       "      <th>first_step</th>\n",
       "    </tr>\n",
       "  </thead>\n",
       "  <tbody>\n",
       "    <tr>\n",
       "      <th>0</th>\n",
       "      <td>If $r$ is rational $(r \\neq 0)$ and $x$ is irr...</td>\n",
       "      <td>\\begin{proof}\\n\\n    If $r$ and $r+x$ were bot...</td>\n",
       "      <td>If $r$ and $r+x$ were both rational, then $x=r...</td>\n",
       "    </tr>\n",
       "    <tr>\n",
       "      <th>1</th>\n",
       "      <td>Prove that there is no rational number whose s...</td>\n",
       "      <td>\\begin{proof}\\n\\n    Suppose $m^2=12 n^2$, whe...</td>\n",
       "      <td>Suppose $m^2=12 n^2$, where $m$ and $n$ have n...</td>\n",
       "    </tr>\n",
       "    <tr>\n",
       "      <th>2</th>\n",
       "      <td>Let $A$ be a nonempty set of real numbers whic...</td>\n",
       "      <td>\\begin{proof}\\n\\n    We need to prove that $-\\...</td>\n",
       "      <td>We need to prove that $-\\sup (-A)$ is the grea...</td>\n",
       "    </tr>\n",
       "    <tr>\n",
       "      <th>3</th>\n",
       "      <td>If $z$ is a complex number, prove that there e...</td>\n",
       "      <td>\\begin{proof}\\n\\n    If $z=0$, we take $r=0, w...</td>\n",
       "      <td>If $z=0$, we take $r=0, w=1$. (In this case $w...</td>\n",
       "    </tr>\n",
       "    <tr>\n",
       "      <th>4</th>\n",
       "      <td>If $x, y$ are complex, prove that $||x|-|y|| \\...</td>\n",
       "      <td>\\begin{proof}\\n\\n    Since $x=x-y+y$, the tria...</td>\n",
       "      <td>Since $x=x-y+y$, the triangle inequality gives</td>\n",
       "    </tr>\n",
       "    <tr>\n",
       "      <th>...</th>\n",
       "      <td>...</td>\n",
       "      <td>...</td>\n",
       "      <td>...</td>\n",
       "    </tr>\n",
       "    <tr>\n",
       "      <th>180</th>\n",
       "      <td>Prove that $(x, y)$ is not a principal ideal i...</td>\n",
       "      <td>\\begin{proof}\\n\\n    Suppose, to the contrary,...</td>\n",
       "      <td>Suppose, to the contrary, that $(x, y)=p$ for ...</td>\n",
       "    </tr>\n",
       "    <tr>\n",
       "      <th>181</th>\n",
       "      <td>Prove that if $f(x)$ and $g(x)$ are polynomial...</td>\n",
       "      <td>\\begin{proof}\\n\\n    Let $f(x), g(x) \\in \\math...</td>\n",
       "      <td>Let $f(x), g(x) \\in \\mathbb{Q}[x]$ be such tha...</td>\n",
       "    </tr>\n",
       "    <tr>\n",
       "      <th>182</th>\n",
       "      <td>Prove that $x^6+30x^5-15x^3 + 6x-120$ is irred...</td>\n",
       "      <td>\\begin{proof}\\n\\n    $$\\n\\nx^6+30 x^5-15 x^3+6...</td>\n",
       "      <td>$$</td>\n",
       "    </tr>\n",
       "    <tr>\n",
       "      <th>183</th>\n",
       "      <td>Prove that $\\frac{(x+2)^p-2^p}{x}$, where $p$ ...</td>\n",
       "      <td>\\begin{proof}\\n\\n$\\frac{(x+2)^p-2^p}{x} \\quad ...</td>\n",
       "      <td>$\\frac{(x+2)^p-2^p}{x} \\quad \\quad p$ is on ad...</td>\n",
       "    </tr>\n",
       "    <tr>\n",
       "      <th>184</th>\n",
       "      <td>Prove that $x^2+y^2-1$ is irreducible in $\\mat...</td>\n",
       "      <td>\\begin{proof}\\n\\n$$\\n\\np(x)=x^2+y^2-1 \\in Q[y]...</td>\n",
       "      <td>$$</td>\n",
       "    </tr>\n",
       "  </tbody>\n",
       "</table>\n",
       "<p>184 rows × 3 columns</p>\n",
       "</div>"
      ],
      "text/plain": [
       "                                          nl_statement  \\\n",
       "0    If $r$ is rational $(r \\neq 0)$ and $x$ is irr...   \n",
       "1    Prove that there is no rational number whose s...   \n",
       "2    Let $A$ be a nonempty set of real numbers whic...   \n",
       "3    If $z$ is a complex number, prove that there e...   \n",
       "4    If $x, y$ are complex, prove that $||x|-|y|| \\...   \n",
       "..                                                 ...   \n",
       "180  Prove that $(x, y)$ is not a principal ideal i...   \n",
       "181  Prove that if $f(x)$ and $g(x)$ are polynomial...   \n",
       "182  Prove that $x^6+30x^5-15x^3 + 6x-120$ is irred...   \n",
       "183  Prove that $\\frac{(x+2)^p-2^p}{x}$, where $p$ ...   \n",
       "184  Prove that $x^2+y^2-1$ is irreducible in $\\mat...   \n",
       "\n",
       "                                              nl_proof  \\\n",
       "0    \\begin{proof}\\n\\n    If $r$ and $r+x$ were bot...   \n",
       "1    \\begin{proof}\\n\\n    Suppose $m^2=12 n^2$, whe...   \n",
       "2    \\begin{proof}\\n\\n    We need to prove that $-\\...   \n",
       "3    \\begin{proof}\\n\\n    If $z=0$, we take $r=0, w...   \n",
       "4    \\begin{proof}\\n\\n    Since $x=x-y+y$, the tria...   \n",
       "..                                                 ...   \n",
       "180  \\begin{proof}\\n\\n    Suppose, to the contrary,...   \n",
       "181  \\begin{proof}\\n\\n    Let $f(x), g(x) \\in \\math...   \n",
       "182  \\begin{proof}\\n\\n    $$\\n\\nx^6+30 x^5-15 x^3+6...   \n",
       "183  \\begin{proof}\\n\\n$\\frac{(x+2)^p-2^p}{x} \\quad ...   \n",
       "184  \\begin{proof}\\n\\n$$\\n\\np(x)=x^2+y^2-1 \\in Q[y]...   \n",
       "\n",
       "                                            first_step  \n",
       "0    If $r$ and $r+x$ were both rational, then $x=r...  \n",
       "1    Suppose $m^2=12 n^2$, where $m$ and $n$ have n...  \n",
       "2    We need to prove that $-\\sup (-A)$ is the grea...  \n",
       "3    If $z=0$, we take $r=0, w=1$. (In this case $w...  \n",
       "4       Since $x=x-y+y$, the triangle inequality gives  \n",
       "..                                                 ...  \n",
       "180  Suppose, to the contrary, that $(x, y)=p$ for ...  \n",
       "181  Let $f(x), g(x) \\in \\mathbb{Q}[x]$ be such tha...  \n",
       "182                                                 $$  \n",
       "183  $\\frac{(x+2)^p-2^p}{x} \\quad \\quad p$ is on ad...  \n",
       "184                                                 $$  \n",
       "\n",
       "[184 rows x 3 columns]"
      ]
     },
     "execution_count": 11,
     "metadata": {},
     "output_type": "execute_result"
    }
   ],
   "source": [
    "proofnet_data"
   ]
  },
  {
   "cell_type": "code",
   "execution_count": 12,
   "id": "ed822435",
   "metadata": {},
   "outputs": [],
   "source": [
    "# set tactic\n",
    "import re\n",
    "\n",
    "TACTIC_PATTERNS = {\n",
    "    \"ASSUME\": [r\"\\bsuppose\\b\", r\"\\bnassume\\b\", r\"\\bif\\b.*then\", r\"\\blet us suppose\\b\"],\n",
    "    \"CONTRADICTION\": [r\"\\bcontradiction\\b\", r\"\\bassume.*not\\b\", r\"\\bsuppose.*not\\b\"],\n",
    "    \"LET\": [r\"^let\\b\", r\"\\bdefine\\b\"],\n",
    "    \"APPLY\": [r\"\\bapply\\b\", r\"\\buse\\b\", r\"from .* it follows\"],\n",
    "    \"INDUCTION\": [r\"\\binduction\\b\", r\"by induction\", r\"base case\"],\n",
    "    \"COMPUTE\": [r\"\\bcompute\\b\", r\"by calculation\", r\"evaluate\"],\n",
    "    \"SIMPLIFY\": [r\"simplify\", r\"clearly\", r\"obviously\"],\n",
    "    \"CONCLUDE\": [r\"\\btherefore\\b\", r\"we conclude\", r\"thus\"],\n",
    "}\n",
    "\n",
    "def get_tactic(first_step: str) -> str:\n",
    "    first_step = first_step.strip().lower()\n",
    "    for tactic, patterns in TACTIC_PATTERNS.items():\n",
    "        for pattern in patterns:\n",
    "            if re.search(pattern, first_step):\n",
    "                return tactic\n",
    "    return \"UNKNOWN\"\n",
    "\n",
    "proofnet_data['tactic'] = proofnet_data['first_step'].apply(get_tactic)"
   ]
  },
  {
   "cell_type": "code",
   "execution_count": 13,
   "id": "4c780b25",
   "metadata": {},
   "outputs": [
    {
     "data": {
      "application/vnd.microsoft.datawrangler.viewer.v0+json": {
       "columns": [
        {
         "name": "index",
         "rawType": "int64",
         "type": "integer"
        },
        {
         "name": "nl_statement",
         "rawType": "object",
         "type": "string"
        },
        {
         "name": "nl_proof",
         "rawType": "object",
         "type": "string"
        },
        {
         "name": "first_step",
         "rawType": "object",
         "type": "string"
        },
        {
         "name": "tactic",
         "rawType": "object",
         "type": "string"
        }
       ],
       "ref": "44094411-56ea-4c1e-9b70-9831a4cfe16d",
       "rows": [
        [
         "0",
         "If $r$ is rational $(r \\neq 0)$ and $x$ is irrational, prove that $r+x$ is irrational.",
         "\\begin{proof}\n\n    If $r$ and $r+x$ were both rational, then $x=r+x-r$ would also be rational.\n\n\\end{proof}",
         "If $r$ and $r+x$ were both rational, then $x=r+x-r$ would also be rational.",
         "ASSUME"
        ],
        [
         "1",
         "Prove that there is no rational number whose square is $12$.",
         "\\begin{proof}\n\n    Suppose $m^2=12 n^2$, where $m$ and $n$ have no common factor. It follows that $m$ must be even, and therefore $n$ must be odd. Let $m=2 r$. Then we have $r^2=3 n^2$, so that $r$ is also odd. Let $r=2 s+1$ and $n=2 t+1$. Then\n\n$$\n\n4 s^2+4 s+1=3\\left(4 t^2+4 t+1\\right)=12 t^2+12 t+3,\n\n$$\n\nso that\n\n$$\n\n4\\left(s^2+s-3 t^2-3 t\\right)=2 .\n\n$$\n\nBut this is absurd, since 2 cannot be a multiple of 4 .\n\n\\end{proof}",
         "Suppose $m^2=12 n^2$, where $m$ and $n$ have no common factor. It follows that $m$ must be even, and therefore $n$ must be odd. Let $m=2 r$. Then we have $r^2=3 n^2$, so that $r$ is also odd. Let $r=2 s+1$ and $n=2 t+1$. Then",
         "ASSUME"
        ],
        [
         "2",
         "Let $A$ be a nonempty set of real numbers which is bounded below. Let $-A$ be the set of all numbers $-x$, where $x \\in A$. Prove that $\\inf A=-\\sup (-A)$.",
         "\\begin{proof}\n\n    We need to prove that $-\\sup (-A)$ is the greatest lower bound of $A$. For brevity, let $\\alpha=-\\sup (-A)$. We need to show that $\\alpha \\leq x$ for all $x \\in A$ and $\\alpha \\geq \\beta$ if $\\beta$ is any lower bound of $A$.\n\n\n\nSuppose $x \\in A$. Then, $-x \\in-A$, and, hence $-x \\leq \\sup (-A)$. It follows that $x \\geq-\\sup (-A)$, i.e., $\\alpha \\leq x$. Thus $\\alpha$ is a lower bound of $A$.\n\n\n\nNow let $\\beta$ be any lower bound of $A$. This means $\\beta \\leq x$ for all $x$ in $A$. Hence $-x \\leq-\\beta$ for all $x \\in A$, which says $y \\leq-\\beta$ for all $y \\in-A$. This means $-\\beta$ is an upper bound of $-A$. Hence $-\\beta \\geq \\sup (-A)$ by definition of sup, i.e., $\\beta \\leq-\\sup (-A)$, and so $-\\sup (-A)$ is the greatest lower bound of $A$.\n\n\\end{proof}",
         "We need to prove that $-\\sup (-A)$ is the greatest lower bound of $A$. For brevity, let $\\alpha=-\\sup (-A)$. We need to show that $\\alpha \\leq x$ for all $x \\in A$ and $\\alpha \\geq \\beta$ if $\\beta$ is any lower bound of $A$.",
         "UNKNOWN"
        ],
        [
         "3",
         "If $z$ is a complex number, prove that there exists an $r\\geq 0$ and a complex number $w$ with $| w | = 1$ such that $z = rw$.",
         "\\begin{proof}\n\n    If $z=0$, we take $r=0, w=1$. (In this case $w$ is not unique.) Otherwise we take $r=|z|$ and $w=z /|z|$, and these choices are unique, since if $z=r w$, we must have $r=r|w|=|r w|=|z|, z / r$\n\n\\end{proof}",
         "If $z=0$, we take $r=0, w=1$. (In this case $w$ is not unique.) Otherwise we take $r=|z|$ and $w=z /|z|$, and these choices are unique, since if $z=r w$, we must have $r=r|w|=|r w|=|z|, z / r$",
         "UNKNOWN"
        ],
        [
         "4",
         "If $x, y$ are complex, prove that $||x|-|y|| \\leq |x-y|$.",
         "\\begin{proof}\n\n    Since $x=x-y+y$, the triangle inequality gives\n\n$$\n\n|x| \\leq|x-y|+|y|\n\n$$\n\nso that $|x|-|y| \\leq|x-y|$. Similarly $|y|-|x| \\leq|x-y|$. Since $|x|-|y|$ is a real number we have either ||$x|-| y||=|x|-|y|$ or ||$x|-| y||=|y|-|x|$. In either case, we have shown that ||$x|-| y|| \\leq|x-y|$.\n\n\\end{proof}",
         "Since $x=x-y+y$, the triangle inequality gives",
         "UNKNOWN"
        ],
        [
         "5",
         "Suppose $k \\geq 3, x, y \\in \\mathbb{R}^k, |x - y| = d > 0$, and $r > 0$. Prove that if $2r > d$, there are infinitely many $z \\in \\mathbb{R}^k$ such that $|z-x|=|z-y|=r$.",
         "\\begin{proof}\n\n    (a) Let w be any vector satisfying the following two equations:\n\n$$\n\n\\begin{aligned}\n\n\\mathbf{w} \\cdot(\\mathbf{x}-\\mathbf{y}) &=0, \\\\\n\n|\\mathbf{w}|^2 &=r^2-\\frac{d^2}{4} .\n\n\\end{aligned}\n\n$$\n\nFrom linear algebra it is known that all but one of the components of a solution $\\mathbf{w}$ of the first equation can be arbitrary. The remaining component is then uniquely determined. Also, if $w$ is any non-zero solution of the first equation, there is a unique positive number $t$ such that $t$ w satisfies both equations. (For example, if $x_1 \\neq y_1$, the first equation is satisfied whenever\n\n$$\n\nz_1=\\frac{z_2\\left(x_2-y_2\\right)+\\cdots+z_k\\left(x_k-y_k\\right)}{y_1-x_1} .\n\n$$\n\nIf $\\left(z_1, z_2, \\ldots, z_k\\right)$ satisfies this equation, so does $\\left(t z_1, t z_2, \\ldots, t z_k\\right)$ for any real number $t$.) Since at least two of these components can vary independently, we can find a solution with these components having any prescribed ratio. This ratio does not change when we multiply by the positive number $t$ to obtain a solution of both equations. Since there are infinitely many ratios, there are infinitely many distinct solutions. For each such solution $\\mathbf{w}$ the vector $\\mathbf{z}=$ $\\frac{1}{2} \\mathrm{x}+\\frac{1}{2} \\mathrm{y}+\\mathrm{w}$ is a solution of the required equation. For\n\n$$\n\n\\begin{aligned}\n\n|\\mathrm{z}-\\mathbf{x}|^2 &=\\left|\\frac{\\mathbf{y}-\\mathbf{x}}{2}+\\mathbf{w}\\right|^2 \\\\\n\n&=\\left|\\frac{\\mathbf{y}-\\mathbf{x}}{2}\\right|^2+2 \\mathbf{w} \\cdot \\frac{\\mathbf{x}-\\mathbf{y}}{2}+|\\mathbf{w}|^2 \\\\\n\n&=\\frac{d^2}{4}+0+r^2-\\frac{d^2}{4} \\\\\n\n&=r^2\n\n\\end{aligned}\n\n$$\n\nand a similar relation holds for $|z-y|^2$.\n\n\\end{proof}",
         "(a) Let w be any vector satisfying the following two equations:",
         "UNKNOWN"
        ],
        [
         "6",
         "If $k \\geq 2$ and $\\mathbf{x} \\in R^{k}$, prove that there exists $\\mathbf{y} \\in R^{k}$ such that $\\mathbf{y} \\neq 0$ but $\\mathbf{x} \\cdot \\mathbf{y}=0$",
         "\\begin{proof}\n\n    If $\\mathbf{x}$ has any components equal to 0 , then $\\mathbf{y}$ can be taken to have the corresponding components equal to 1 and all others equal to 0 . If all the components of $\\mathbf{x}$ are nonzero, $\\mathbf{y}$ can be taken as $\\left(-x_2, x_1, 0, \\ldots, 0\\right)$. This is, of course, not true when $k=1$, since the product of two nonzero real numbers is nonzero.\n\n\\end{proof}",
         "If $\\mathbf{x}$ has any components equal to 0 , then $\\mathbf{y}$ can be taken to have the corresponding components equal to 1 and all others equal to 0 . If all the components of $\\mathbf{x}$ are nonzero, $\\mathbf{y}$ can be taken as $\\left(-x_2, x_1, 0, \\ldots, 0\\right)$. This is, of course, not true when $k=1$, since the product of two nonzero real numbers is nonzero.",
         "ASSUME"
        ],
        [
         "7",
         "Suppose $a, b \\in R^k$. Find $c \\in R^k$ and $r > 0$ such that $|x-a|=2|x-b|$ if and only if $| x - c | = r$. Prove that $3c = 4b - a$ and $3r = 2 |b - a|$.",
         "\\begin{proof}\n\n    Since the solution is given to us, all we have to do is verify it, i.e., we need to show that the equation\n\n$$\n\n|\\mathrm{x}-\\mathrm{a}|=2|\\mathrm{x}-\\mathrm{b}|\n\n$$\n\nis equivalent to $|\\mathrm{x}-\\mathbf{c}|=r$, which says\n\n$$\n\n\\left|\\mathbf{x}-\\frac{4}{3} \\mathbf{b}+\\frac{1}{3} \\mathbf{a}\\right|=\\frac{2}{3}|\\mathbf{b}-\\mathbf{a}| .\n\n$$\n\nIf we square both sides of both equations, we an equivalent pair of equations, the first of which reduces to\n\n$$\n\n3|\\mathbf{x}|^2+2 \\mathbf{a} \\cdot \\mathbf{x}-8 \\mathbf{b} \\cdot \\mathbf{x}-|\\mathbf{a}|^2+4|\\mathbf{b}|^2=0,\n\n$$\n\nand the second of which reduces to this equation divided by 3 . Hence these equations are indeed equivalent.\n\n\\end{proof}",
         "Since the solution is given to us, all we have to do is verify it, i.e., we need to show that the equation",
         "UNKNOWN"
        ],
        [
         "8",
         "Let $X$ be a metric space in which every infinite subset has a limit point. Prove that $X$ is separable.",
         "\\begin{proof}\n\n    We observe that if the process of constructing $x_j$ did not terminate, the result would be an infinite set of points $x_j, j=1,2, \\ldots$, such that $d\\left(x_i, x_j\\right) \\geq \\delta$ for $i \\neq j$. It would then follow that for any $x \\in X$, the open ball $B_{\\frac{\\delta}{2}}(x)$ contains at most one point of the infinite set, hence that no point could be a limit point of this set, contrary to hypothesis. Hence $X$ is totally bounded, i.e., for each $\\delta>0$ there is a finite set $x_1, \\ldots, x_{N\\delta}$such that $X=\\bigcup_{j / 1}^{N\\delta} B_\\delta\\left(x_j\\right)$\n\n\n\nLet $x_{n_1}, \\ldots, x_{n N_n}$ be such that $X=\\bigcup_{j / 1}^{N_n} B_{\\frac{1}{n}}\\left(x_{n j}\\right), n=1,2, \\ldots$ We claim that $\\left\\{x_{n j}: 1 \\leq j \\leq N_n ; n=1,2, \\ldots\\right\\}$ is a countable dense subset of $X$. Indeed\n\n25\n\nif $x \\in X$ and $\\delta>0$, then $x \\in B_{\\frac{1}{n}}\\left(x_{n j}\\right)$ for some $x_{n j}$ for some $n>\\frac{1}{\\delta}$, and hence $d\\left(x, x_{n j}\\right)<\\delta$. By definition, this means that $\\left\\{x_{n j}\\right\\}$ is dense in $X$.\n\n\\end{proof}",
         "We observe that if the process of constructing $x_j$ did not terminate, the result would be an infinite set of points $x_j, j=1,2, \\ldots$, such that $d\\left(x_i, x_j\\right) \\geq \\delta$ for $i \\neq j$. It would then follow that for any $x \\in X$, the open ball $B_{\\frac{\\delta}{2}}(x)$ contains at most one point of the infinite set, hence that no point could be a limit point of this set, contrary to hypothesis. Hence $X$ is totally bounded, i.e., for each $\\delta>0$ there is a finite set $x_1, \\ldots, x_{N\\delta}$such that $X=\\bigcup_{j / 1}^{N\\delta} B_\\delta\\left(x_j\\right)$",
         "ASSUME"
        ],
        [
         "9",
         "Suppose $E\\subset\\mathbb{R}^k$ is uncountable, and let $P$ be the set of condensation points of $E$. Prove that $P$ is perfect.",
         "\\begin{proof}\n\n    We see that $E \\cap W$ is at most countable, being a countable union of at-most-countable sets. It remains to show that $P=W^c$, and that $P$ is perfect.\n\n\\end{proof}",
         "We see that $E \\cap W$ is at most countable, being a countable union of at-most-countable sets. It remains to show that $P=W^c$, and that $P$ is perfect.",
         "UNKNOWN"
        ],
        [
         "10",
         "Prove that every closed set in a separable metric space is the union of a (possibly empty) perfect set and a set which is at most countable.",
         "\\begin{proof}\n\n    If $E$ is closed, it contains all its limit points, and hence certainly all its condensation points. Thus $E=P \\cup(E \\backslash P)$, where $P$ is perfect (the set of all condensation points of $E$ ), and $E \\backslash P$ is at most countable.\n\n\n\nSince a perfect set in a separable metric space has the same cardinality as the real numbers, the set $P$ must be empty if $E$ is countable. The at-mostcountable set $E \\backslash P$ cannot be perfect, hence must have isolated points if it is nonempty.\n\n\\end{proof}",
         "If $E$ is closed, it contains all its limit points, and hence certainly all its condensation points. Thus $E=P \\cup(E \\backslash P)$, where $P$ is perfect (the set of all condensation points of $E$ ), and $E \\backslash P$ is at most countable.",
         "CONCLUDE"
        ],
        [
         "11",
         "Prove that convergence of $\\left\\{s_{n}\\right\\}$ implies convergence of $\\left\\{\\left|s_{n}\\right|\\right\\}$.",
         "\\begin{proof}\n\n    Let $\\varepsilon>0$. Since the sequence $\\left\\{s_n\\right\\}$ is a Cauchy sequence, there exists $N$ such that $\\left|s_m-s_n\\right|<\\varepsilon$ for all $m>N$ and $n>N$. We then have $\\left| |s_m| - |s_n| \\right| \\leq\\left|s_m-s_n\\right|<\\varepsilon$ for all $m>N$ and $n>N$. Hence the sequence $\\left\\{\\left|s_n\\right|\\right\\}$ is also a Cauchy sequence, and therefore must converge.\n\n\\end{proof}",
         "Let $\\varepsilon>0$. Since the sequence $\\left\\{s_n\\right\\}$ is a Cauchy sequence, there exists $N$ such that $\\left|s_m-s_n\\right|<\\varepsilon$ for all $m>N$ and $n>N$. We then have $\\left| |s_m| - |s_n| \\right| \\leq\\left|s_m-s_n\\right|<\\varepsilon$ for all $m>N$ and $n>N$. Hence the sequence $\\left\\{\\left|s_n\\right|\\right\\}$ is also a Cauchy sequence, and therefore must converge.",
         "LET"
        ],
        [
         "12",
         "If $s_{1}=\\sqrt{2}$, and $s_{n+1}=\\sqrt{2+\\sqrt{s_{n}}} \\quad(n=1,2,3, \\ldots),$ prove that $\\left\\{s_{n}\\right\\}$ converges, and that $s_{n}<2$ for $n=1,2,3, \\ldots$.",
         "\\begin{proof}\n\n    Since $\\sqrt{2}<2$, it is manifest that if $s_n<2$, then $s_{n+1}<\\sqrt{2+2}=2$. Hence it follows by induction that $\\sqrt{2}<s_n<2$ for all $n$. In view of this fact,it also follows that $\\left(s_n-2\\right)\\left(s_n+1\\right)<0$ for all $n>1$, i.e., $s_n>s_n^2-2=s_{n-1}$. Hence the sequence is an increasing sequence that is bounded above (by 2 ) and so converges. Since the limit $s$ satisfies $s^2-s-2=0$, it follows that the limit is 2.\n\n\\end{proof}",
         "Since $\\sqrt{2}<2$, it is manifest that if $s_n<2$, then $s_{n+1}<\\sqrt{2+2}=2$. Hence it follows by induction that $\\sqrt{2}<s_n<2$ for all $n$. In view of this fact,it also follows that $\\left(s_n-2\\right)\\left(s_n+1\\right)<0$ for all $n>1$, i.e., $s_n>s_n^2-2=s_{n-1}$. Hence the sequence is an increasing sequence that is bounded above (by 2 ) and so converges. Since the limit $s$ satisfies $s^2-s-2=0$, it follows that the limit is 2.",
         "ASSUME"
        ],
        [
         "13",
         "Prove that $\\lim_{n \\rightarrow \\infty} \\sum_{i<n} a_i = \\infty$, where $a_i = \\sqrt{i + 1} -\\sqrt{i}$.",
         "\\begin{proof}\n\n    (a) Multiplying and dividing $a_n$ by $\\sqrt{n+1}+\\sqrt{n}$, we find that $a_n=\\frac{1}{\\sqrt{n+1}+\\sqrt{n}}$, which is larger than $\\frac{1}{2 \\sqrt{n+1}}$. The series $\\sum a_n$ therefore diverges by comparison with the $p$ series $\\left(p=\\frac{1}{2}\\right)$.\n\n\\end{proof}",
         "(a) Multiplying and dividing $a_n$ by $\\sqrt{n+1}+\\sqrt{n}$, we find that $a_n=\\frac{1}{\\sqrt{n+1}+\\sqrt{n}}$, which is larger than $\\frac{1}{2 \\sqrt{n+1}}$. The series $\\sum a_n$ therefore diverges by comparison with the $p$ series $\\left(p=\\frac{1}{2}\\right)$.",
         "CONCLUDE"
        ],
        [
         "14",
         "If $\\Sigma a_{n}$ converges, and if $\\left\\{b_{n}\\right\\}$ is monotonic and bounded, prove that $\\Sigma a_{n} b_{n}$ converges.",
         "\\begin{proof}\n\n    We shall show that the partial sums of this series form a Cauchy sequence, i.e., given $\\varepsilon>0$ there exists $N$ such that $\\left|\\sum_{k=m+1}^n a_k b_k\\right|\\langle\\varepsilon$ if $n\\rangle$ $m \\geq N$. To do this, let $S_n=\\sum_{k=1}^n a_k\\left(S_0=0\\right)$, so that $a_k=S_k-S_{k-1}$ for $k=1,2, \\ldots$ Let $M$ be an uppper bound for both $\\left|b_n\\right|$ and $\\left|S_n\\right|$, and let $S=\\sum a_n$ and $b=\\lim b_n$. Choose $N$ so large that the following three inequalities hold for all $m>N$ and $n>N$ :\n\n$$\n\n\\left|b_n S_n-b S\\right|<\\frac{\\varepsilon}{3} ; \\quad\\left|b_m S_m-b S\\right|<\\frac{\\varepsilon}{3} ; \\quad\\left|b_m-b_n\\right|<\\frac{\\varepsilon}{3 M} .\n\n$$\n\nThen if $n>m>N$, we have, from the formula for summation by parts,\n\n$$\n\n\\sum_{k=m+1}^n a_n b_n=b_n S_n-b_m S_m+\\sum_{k=m}^{n-1}\\left(b_k-b_{k+1}\\right) S_k\n\n$$\n\nOur assumptions yield immediately that $\\left|b_n S_n-b_m S_m\\right|<\\frac{2 \\varepsilon}{3}$, and\n\n$$\n\n\\left|\\sum_{k=m}^{n-1}\\left(b_k-b_{k+1}\\right) S_k\\right| \\leq M \\sum_{k=m}^{n-1}\\left|b_k-b_{k+1}\\right| .\n\n$$\n\nSince the sequence $\\left\\{b_n\\right\\}$ is monotonic, we have\n\n$$\n\n\\sum_{k=m}^{n-1}\\left|b_k-b_{k+1}\\right|=\\left|\\sum_{k=m}^{n-1}\\left(b_k-b_{k+1}\\right)\\right|=\\left|b_m-b_n\\right|<\\frac{\\varepsilon}{3 M},\n\n$$\n\nfrom which the desired inequality follows.\n\n\\end{proof}",
         "We shall show that the partial sums of this series form a Cauchy sequence, i.e., given $\\varepsilon>0$ there exists $N$ such that $\\left|\\sum_{k=m+1}^n a_k b_k\\right|\\langle\\varepsilon$ if $n\\rangle$ $m \\geq N$. To do this, let $S_n=\\sum_{k=1}^n a_k\\left(S_0=0\\right)$, so that $a_k=S_k-S_{k-1}$ for $k=1,2, \\ldots$ Let $M$ be an uppper bound for both $\\left|b_n\\right|$ and $\\left|S_n\\right|$, and let $S=\\sum a_n$ and $b=\\lim b_n$. Choose $N$ so large that the following three inequalities hold for all $m>N$ and $n>N$ :",
         "UNKNOWN"
        ],
        [
         "15",
         "Suppose $\\left\\{p_{n}\\right\\}$ is a Cauchy sequence in a metric space $X$, and some sequence $\\left\\{p_{n l}\\right\\}$ converges to a point $p \\in X$. Prove that the full sequence $\\left\\{p_{n}\\right\\}$ converges to $p$.",
         "\\begin{proof}\n\n    Let $\\varepsilon>0$. Choose $N_1$ so large that $d\\left(p_m, p_n\\right)<\\frac{\\varepsilon}{2}$ if $m>N_1$ and $n>N_1$. Then choose $N \\geq N_1$ so large that $d\\left(p_{n_k}, p\\right)<\\frac{\\varepsilon}{2}$ if $k>N$. Then if $n>N$, we have\n\n$$\n\nd\\left(p_n, p\\right) \\leq d\\left(p_n, p_{n_{N+1}}\\right)+d\\left(p_{n_{N+1}}, p\\right)<\\varepsilon\n\n$$\n\nFor the first term on the right is less than $\\frac{\\varepsilon}{2}$ since $n>N_1$ and $n_{N+1}>N+1>$ $N_1$. The second term is less than $\\frac{\\varepsilon}{2}$ by the choice of $N$.\n\n\\end{proof}",
         "Let $\\varepsilon>0$. Choose $N_1$ so large that $d\\left(p_m, p_n\\right)<\\frac{\\varepsilon}{2}$ if $m>N_1$ and $n>N_1$. Then choose $N \\geq N_1$ so large that $d\\left(p_{n_k}, p\\right)<\\frac{\\varepsilon}{2}$ if $k>N$. Then if $n>N$, we have",
         "ASSUME"
        ],
        [
         "16",
         "Suppose $X$ is a nonempty complete metric space, and $\\left\\{G_{n}\\right\\}$ is a sequence of dense open sets of $X$. Prove Baire's theorem, namely, that $\\bigcap_{1}^{\\infty} G_{n}$ is not empty.",
         "\\begin{proof}\n\n    Let $F_n$ be the complement of $G_n$, so that $F_n$ is closed and contains no open sets. We shall prove that any nonempty open set $U$ contains a point not in any $F_n$, hence in all $G_n$. To this end, we note that $U$ is not contained in $F_1$, so that there is a point $x_1 \\in U \\backslash F_1$. Since $U \\backslash F_1$ is open, there exists $r_1>0$ such that $B_1$, defined as the open ball of radius $r_1$ about $x_1$, is contained in $U \\backslash F_1$. Let $E_1$ be the open ball of radius $\\frac{r_1}{2}$ about $x_1$, so that the closure of $E_1$ is contained in $B_1$. Now $F_2$ does not contain $E_1$, and so we can find a point $x_2 \\in E_1 \\backslash F_2$. Since $E_1 \\backslash F_2$ is an open set, there exists a positive number $r_2$ such that $B_2$, the open ball of radius $R_2$ about $x_2$, is contained in $E_1 \\backslash F_2$, which in turn is contained in $U \\backslash\\left(F_1 \\cup F_2\\right)$. We let $E_2$ be the open ball of radius $\\frac{r_2}{2}$ about $x_2$, so that $\\bar{E}_2 \\subseteq B_2$. Proceeding in this way, we construct a sequence of open balls $E_j$, such that $E_j \\supseteq \\bar{E}_{j+1}$, and the diameter of $E_j$ tends to zero. By the previous exercise, there is a point $x$ belonging to all the sets $\\bar{E}_j$, hence to all the sets $U \\backslash\\left(F_1 \\cup F_2 \\cup \\cdots \\cup F_n\\right)$. Thus the point $x$ belongs to $U \\cap\\left(\\cap_1^{\\infty} G_n\\right)$.\n\n\\end{proof}",
         "Let $F_n$ be the complement of $G_n$, so that $F_n$ is closed and contains no open sets. We shall prove that any nonempty open set $U$ contains a point not in any $F_n$, hence in all $G_n$. To this end, we note that $U$ is not contained in $F_1$, so that there is a point $x_1 \\in U \\backslash F_1$. Since $U \\backslash F_1$ is open, there exists $r_1>0$ such that $B_1$, defined as the open ball of radius $r_1$ about $x_1$, is contained in $U \\backslash F_1$. Let $E_1$ be the open ball of radius $\\frac{r_1}{2}$ about $x_1$, so that the closure of $E_1$ is contained in $B_1$. Now $F_2$ does not contain $E_1$, and so we can find a point $x_2 \\in E_1 \\backslash F_2$. Since $E_1 \\backslash F_2$ is an open set, there exists a positive number $r_2$ such that $B_2$, the open ball of radius $R_2$ about $x_2$, is contained in $E_1 \\backslash F_2$, which in turn is contained in $U \\backslash\\left(F_1 \\cup F_2\\right)$. We let $E_2$ be the open ball of radius $\\frac{r_2}{2}$ about $x_2$, so that $\\bar{E}_2 \\subseteq B_2$. Proceeding in this way, we construct a sequence of open balls $E_j$, such that $E_j \\supseteq \\bar{E}_{j+1}$, and the diameter of $E_j$ tends to zero. By the previous exercise, there is a point $x$ belonging to all the sets $\\bar{E}_j$, hence to all the sets $U \\backslash\\left(F_1 \\cup F_2 \\cup \\cdots \\cup F_n\\right)$. Thus the point $x$ belongs to $U \\cap\\left(\\cap_1^{\\infty} G_n\\right)$.",
         "LET"
        ],
        [
         "17",
         "If $f$ is a continuous mapping of a metric space $X$ into a metric space $Y$, prove that $f(\\overline{E}) \\subset \\overline{f(E)}$ for every set $E \\subset X$. ($\\overline{E}$ denotes the closure of $E$).",
         "\\begin{proof}\n\n    Let $x \\in \\bar{E}$. We need to show that $f(x) \\in \\overline{f(E)}$. To this end, let $O$ be any neighborhood of $f(x)$. Since $f$ is continuous, $f^{-1}(O)$ contains (is) a neighborhood of $x$. Since $x \\in \\bar{E}$, there is a point $u$ of $E$ in $f^{-1}(O)$. Hence $\\frac{f(u)}{f(E)} \\in O \\cap f(E)$. Since $O$ was any neighborhood of $f(x)$, it follows that $f(x) \\in \\overline{f(E)}$\n\n\\end{proof}",
         "Let $x \\in \\bar{E}$. We need to show that $f(x) \\in \\overline{f(E)}$. To this end, let $O$ be any neighborhood of $f(x)$. Since $f$ is continuous, $f^{-1}(O)$ contains (is) a neighborhood of $x$. Since $x \\in \\bar{E}$, there is a point $u$ of $E$ in $f^{-1}(O)$. Hence $\\frac{f(u)}{f(E)} \\in O \\cap f(E)$. Since $O$ was any neighborhood of $f(x)$, it follows that $f(x) \\in \\overline{f(E)}$",
         "LET"
        ],
        [
         "18",
         "Let $f$ and $g$ be continuous mappings of a metric space $X$ into a metric space $Y$, and let $E$ be a dense subset of $X$. Prove that $f(E)$ is dense in $f(X)$.",
         "\\begin{proof}\n\n    To prove that $f(E)$ is dense in $f(X)$, simply use that $f(X)=f(\\bar{E}) \\subseteq \\overline{f(E)}$.\n\n\\end{proof}",
         "To prove that $f(E)$ is dense in $f(X)$, simply use that $f(X)=f(\\bar{E}) \\subseteq \\overline{f(E)}$.",
         "APPLY"
        ],
        [
         "19",
         "If $f$ is a real continuous function defined on a closed set $E \\subset \\mathbb{R}$, prove that there exist continuous real functions $g$ on $\\mathbb{R}$ such that $g(x)=f(x)$ for all $x \\in E$.",
         "\\begin{proof}\n\nFollowing the hint, let the complement of $E$ consist of a countable collection of finite open intervals $\\left(a_k, b_k\\right)$ together with possibly one or both of the the semi-infinite intervals $(b,+\\infty)$ and $(-\\infty, a)$. The function $f(x)$ is already defined at $a_k$ and $b_k$, as well as at $a$ and $b$ (if these last two points exist). Define $g(x)$ to be $f(b)$ for $x>b$ and $f(a)$ for $x<a$ if $a$ and $b$ exist. On the interval $\\left(a_k, b_k\\right)$ let\n\n$$\n\ng(x)=f\\left(a_k\\right)+\\frac{x-a_k}{b_k-a_k}\\left(f\\left(b_k\\right)-f\\left(a_k\\right)\\right) .\n\n$$\n\nOf course we let $g(x)=f(x)$ for $x \\in E$. It is now fairly clear that $g(x)$ is continuous. A rigorous proof proceeds as follows. Let $\\varepsilon>0$. To choose $\\delta>0$ such that $|x-u|<\\delta$ implies $|g(x)-g(u)|<\\varepsilon$, we consider three cases.\n\ni. If $x>b$, let $\\delta=x-b$. Then if $|x-u|<\\delta$, it follows that $u>b$ also, so that $g(u)=f(b)=g(x)$, and $|g(u)-g(x)|=0<\\varepsilon$. Similarly if $x<a$, let $\\delta=a-x$\n\nii. If $a_k<x<b_k$ and $f\\left(a_k\\right)=f\\left(b_k\\right)$, let $\\delta=\\min \\left(x-a_k, b_k-x\\right)$. Since $|x-u|<\\delta$ implies $a_k<u<b_k$, so that $g(u)=f\\left(a_k\\right)=f\\left(b_k\\right)=g(x)$, we again have $|g(x)-g(u)|=0<\\varepsilon$. If $a_k<x<b_k$ and $f\\left(a_k\\right) \\neq f\\left(b_k\\right)$, let $\\delta=\\min \\left(x-a_k, b_k-x, \\frac{\\left(b_k-a_k\\right) \\varepsilon}{\\left|f\\left(b_k\\right)-f\\left(a_k\\right)\\right|}\\right)$. Then if $|x-u|<\\delta$, we again have $a_k<u<b_k$ and so\n\n$$\n\n|g(x)-g(u)|=\\frac{|x-u|}{b_k-a_k}\\left|f\\left(b_k\\right)-f\\left(a_k\\right)\\right|<\\varepsilon .\n\n$$\n\niii. If $x \\in E$, let $\\delta_1$ be such that $|f(u)-f(x)|<\\varepsilon$ if $u \\in E$ and $|x-u|<\\delta_1$. (Subcase a). If there are points $x_1 \\in E \\cap\\left(x-\\delta_1, x\\right)$ and $x_2 \\in E \\cap\\left(x, x+\\delta_1\\right)$, let $\\delta=\\min \\left(x-x_1, x_2-x\\right)$. If $|u-x|<\\delta$ and $u \\in E$, then $|f(u)-f(x)|<\\varepsilon$ by definition of $\\delta_1$. if $u \\notin E$, then, since $x_1, x$, and $x_2$ are all in $E$, it follows that $u \\in\\left(a_k, b_k\\right)$, where $a_k \\in E, b_k \\in E$, and $\\left|a_k-x\\right|<\\delta$ and $\\left|b_k-x\\right|<\\delta$, so that $\\left|f\\left(a_k\\right)-f(x)\\right|<\\varepsilon$ and $\\left|f\\left(b_k\\right)-f(x)\\right|<\\varepsilon$. If $f\\left(a_k\\right)=f\\left(b_k\\right)$, then $f(u)=f\\left(a_k\\right)$ also, and we have $|f(u)-f(x)|<\\varepsilon$. If $f\\left(a_k\\right) \\neq f\\left(b_k\\right)$, then\n\n$$\n\n\\begin{aligned}\n\n|f(u)-f(x)| & =\\left|f\\left(a_k\\right)-f(x)+\\frac{u-a_k}{b_k-a_k}\\left(f\\left(b_k\\right)-f\\left(a_k\\right)\\right)\\right| \\\\\n\n& =\\left|\\frac{b_k-u}{b_k-a_k}\\left(f\\left(a_k\\right)-f(x)\\right)+\\frac{u-a_k}{b_k-a_k}\\left(f\\left(b_k\\right)-f(x)\\right)\\right| \\\\\n\n& <\\frac{b_k-u}{b_k-a_k} \\varepsilon+\\frac{u-a_k}{b_k-a_k} \\varepsilon \\\\\n\n& =\\varepsilon\n\n\\end{aligned}\n\n$$\n\n(Subcase b). Suppose $x_2$ does not exist, i.e., either $x=a_k$ or $x=a_k$ and $b_k>a_k+\\delta_1$. Let us consider the second of these cases and show how to get $|f(u)-f(x)|<\\varepsilon$ for $x<u<x+\\delta$. If $f\\left(a_k\\right)=f\\left(b_k\\right)$, let $\\delta=\\delta_1$. If $u>x$ we have $a_k<u<b_k$ and $f(u)=f\\left(a_k\\right)=f(x)$. If $f\\left(a_k\\right) \\neq f\\left(b_k\\right)$, let $\\delta=$ $\\min \\left(\\delta_1, \\frac{\\left(b_k-a_k\\right) \\varepsilon}{\\left|f\\left(b_k\\right)-f\\left(a_k\\right)\\right|}\\right)$. Then, just as in Subcase a, we have $|f(u)-f(x)|<\\varepsilon$.\n\nThe case when $x=b_k$ for some $k$ and $a_k<x-\\delta_1$ is handled in exactly the same way.\n\n\\end{proof}",
         "Following the hint, let the complement of $E$ consist of a countable collection of finite open intervals $\\left(a_k, b_k\\right)$ together with possibly one or both of the the semi-infinite intervals $(b,+\\infty)$ and $(-\\infty, a)$. The function $f(x)$ is already defined at $a_k$ and $b_k$, as well as at $a$ and $b$ (if these last two points exist). Define $g(x)$ to be $f(b)$ for $x>b$ and $f(a)$ for $x<a$ if $a$ and $b$ exist. On the interval $\\left(a_k, b_k\\right)$ let",
         "LET"
        ],
        [
         "20",
         "If $f$ is defined on $E$, the graph of $f$ is the set of points $(x, f(x))$, for $x \\in E$. In particular, if $E$ is a set of real numbers, and $f$ is real-valued, the graph of $f$ is a subset of the plane. Suppose $E$ is compact, and prove that $f$ is continuous on $E$ if and only if its graph is compact.",
         "\\begin{proof}\n\n    Let $Y$ be the co-domain of the function $f$. We invent a new metric space $E \\times Y$ as the set of pairs of points $(x, y), x \\in E, y \\in Y$, with the metric $\\rho\\left(\\left(x_1, y_1\\right),\\left(x_2, y_2\\right)\\right)=d_E\\left(x_1, x_2\\right)+d_Y\\left(y_1, y_2\\right)$. The function $\\varphi(x)=(x, f(x))$ is then a mapping of $E$ into $E \\times Y$.\n\n\n\nWe claim that the mapping $\\varphi$ is continuous if $f$ is continuous. Indeed, let $x \\in X$ and $\\varepsilon>0$ be given. Choose $\\eta>0$ so that $d_Y(f(x), f(u))<\\frac{\\varepsilon}{2}$ if $d_E(x, y)<\\eta$. Then let $\\delta=\\min \\left(\\eta, \\frac{\\varepsilon}{2}\\right)$. It is easy to see that $\\rho(\\varphi(x), \\varphi(u))<\\varepsilon$ if $d_E(x, u)<\\delta$. Conversely if $\\varphi$ is continuous, it is obvious from the inequality $\\rho(\\varphi(x), \\varphi(u)) \\geq d_Y(f(x), f(u))$ that $f$ is continuous.\n\n\n\nFrom these facts we deduce immediately that the graph of a continuous function $f$ on a compact set $E$ is compact, being the image of $E$ under the continuous mapping $\\varphi$. Conversely, if $f$ is not continuous at some point $x$, there is a sequence of points $x_n$ converging to $x$ such that $f\\left(x_n\\right)$ does not converge to $f(x)$. If no subsequence of $f\\left(x_n\\right)$ converges, then the sequence $\\left\\{\\left(x_n, f\\left(x_n\\right)\\right\\}_{n=1}^{\\infty}\\right.$ has no convergent subsequence, and so the graph is not compact. If some subsequence of $f\\left(x_n\\right)$ converges, say $f\\left(x_{n_k}\\right) \\rightarrow z$, but $z \\neq f(x)$, then the graph of $f$ fails to contain the limit point $(x, z)$, and hence is not closed. A fortiori it is not compact.\n\n\\end{proof}",
         "Let $Y$ be the co-domain of the function $f$. We invent a new metric space $E \\times Y$ as the set of pairs of points $(x, y), x \\in E, y \\in Y$, with the metric $\\rho\\left(\\left(x_1, y_1\\right),\\left(x_2, y_2\\right)\\right)=d_E\\left(x_1, x_2\\right)+d_Y\\left(y_1, y_2\\right)$. The function $\\varphi(x)=(x, f(x))$ is then a mapping of $E$ into $E \\times Y$.",
         "LET"
        ],
        [
         "21",
         "Let $E$ be a bounded set in $R^{1}$. Prove that there exists a real function $f$ such that $f$ is uniformly continuous and is not bounded on $E$.",
         "\\begin{proof}\n\n    The function $f(x)=x$ is uniformly continuous on the entire line, but not bounded.\n\n\\end{proof}",
         "The function $f(x)=x$ is uniformly continuous on the entire line, but not bounded.",
         "UNKNOWN"
        ],
        [
         "22",
         "A uniformly continuous function of a uniformly continuous function is uniformly continuous.",
         "\\begin{proof}\n\n    Let $f: X \\rightarrow Y$ and $g: Y \\rightarrow Z$ be uniformly continuous. Then $g \\circ f: X \\rightarrow Z$ is uniformly continuous, where $g \\circ f(x)=g(f(x))$ for all $x \\in X$.\n\nTo prove this fact, let $\\varepsilon>0$ be given. Then, since $g$ is uniformly continuous, there exists $\\eta>0$ such that $d_Z(g(u), g(v))<\\varepsilon$ if $d_Y(u, v)<\\eta$. Since $f$ is uniformly continuous, there exists $\\delta>0$ such that $d_Y(f(x), f(y))<\\eta$ if $d_X(x, y)<\\delta$\n\n\n\nIt is then obvious that $d_Z(g(f(x)), g(f(y)))<\\varepsilon$ if $d_X(x, y)<\\delta$, so that $g \\circ f$ is uniformly continuous.\n\n\\end{proof}",
         "Let $f: X \\rightarrow Y$ and $g: Y \\rightarrow Z$ be uniformly continuous. Then $g \\circ f: X \\rightarrow Z$ is uniformly continuous, where $g \\circ f(x)=g(f(x))$ for all $x \\in X$.",
         "LET"
        ],
        [
         "23",
         "Suppose $f$ is a real function with domain $R^{1}$ which has the intermediate value property: if $f(a)<c<f(b)$, then $f(x)=c$ for some $x$ between $a$ and $b$. Suppose also, for every rational $r$, that the set of all $x$ with $f(x)=r$ is closed. Prove that $f$ is continuous.",
         "\\begin{proof}\n\n    The contradiction is evidently that $x_0$ is a limit point of the set of $t$ such that $f(t)=r$, yet, $x_0$ does not belong to this set. This contradicts the hypothesis that the set is closed.\n\n\\end{proof}",
         "The contradiction is evidently that $x_0$ is a limit point of the set of $t$ such that $f(t)=r$, yet, $x_0$ does not belong to this set. This contradicts the hypothesis that the set is closed.",
         "CONTRADICTION"
        ],
        [
         "24",
         "Assume that $f$ is a continuous real function defined in $(a, b)$ such that $f\\left(\\frac{x+y}{2}\\right) \\leq \\frac{f(x)+f(y)}{2}$ for all $x, y \\in(a, b)$. Prove that $f$ is convex.",
         "\\begin{proof}\n\n    We shall prove that\n\n$$\n\nf(\\lambda x+(1-\\lambda) y) \\leq \\lambda f(x)+(1-\\lambda) f(y)\n\n$$\n\nfor all \"dyadic rational\" numbers, i.e., all numbers of the form $\\lambda=\\frac{k}{2^n}$, where $k$ is a nonnegative integer not larger than $2^n$. We do this by induction on $n$. The case $n=0$ is trivial (since $\\lambda=0$ or $\\lambda=1$ ). In the case $n=1$ we have $\\lambda=0$ or $\\lambda=1$ or $\\lambda=\\frac{1}{2}$. The first two cases are again trivial, and the third is precisely the hypothesis of the theorem. Suppose the result is proved for $n \\leq r$, and consider $\\lambda=\\frac{k}{2^{r+1}}$. If $k$ is even, say $k=2 l$, then $\\frac{k}{2^{r+1}}=\\frac{l}{2^r}$, and we can appeal to the induction hypothesis. Now suppose $k$ is odd. Then $1 \\leq k \\leq 2^{r+1}-1$, and so the numbers $l=\\frac{k-1}{2}$ and $m=\\frac{k+1}{2}$ are integers with $0 \\leq l<m \\leq 2^r$. We can now write\n\n$$\n\n\\lambda=\\frac{s+t}{2},\n\n$$\n\nwhere $s=\\frac{k-1}{2^{r+1}}=\\frac{l}{2^r}$ and $t=\\frac{k+1}{2^{r+1}}=\\frac{m}{2^r}$. We then have\n\n$$\n\n\\lambda x+(1-\\lambda) y=\\frac{[s x+(1-s) y]+[t x+(1-t) y]}{2}\n\n$$\n\nHence by the hypothesis of the theorem and the induction hypothesis we have\n\n$$\n\n\\begin{aligned}\n\nf(\\lambda x+(1-\\lambda) y) & \\leq \\frac{f(s x+(1-s) y)+f(t x+(1-t) y)}{2} \\\\\n\n& \\leq \\frac{s f(x)+(1-s) f(y)+t f(x)+(1-t) f(y)}{2} \\\\\n\n&=\\left(\\frac{s+t}{2}\\right) f(x)+\\left(1-\\frac{s+t}{2}\\right) f(y) \\\\\n\n&=\\lambda f(x)+(1-\\lambda) f(y)\n\n\\end{aligned}\n\n$$\n\nThis completes the induction.\n\nNow for each fixed $x$ and $y$ both sides of the inequality\n\n$$\n\nf(\\lambda x+(1-\\lambda) y) \\leq \\lambda f(x)+(1-\\lambda) f(y)\n\n$$\n\nare continuous functions of $\\lambda$. Hence the set on which this inequality holds (the inverse image of the closed set $[0, \\infty)$ under the mapping $\\lambda \\mapsto \\lambda f(x)+(1-$ $\\lambda) f(y)-f(\\lambda x+(1-\\lambda) y))$ is a closed set. Since it contains all the points $\\frac{k}{2^n}$, $0 \\leq k \\leq n, n=1,2, \\ldots$, it must contain the closure of this set of points, i.e., it must contain all of $[0,1]$. Thus $f$ is convex.\n\n\\end{proof}",
         "We shall prove that",
         "UNKNOWN"
        ],
        [
         "25",
         "Suppose $f^{\\prime}(x)>0$ in $(a, b)$. Prove that $f$ is strictly increasing in $(a, b)$, and let $g$ be its inverse function. Prove that $g$ is differentiable, and that $g^{\\prime}(f(x))=\\frac{1}{f^{\\prime}(x)} \\quad(a<x<b)$.",
         "\\begin{proof}\n\n   For any $c, d$ with $a<c<d<b$ there exists a point $p \\in(c, d)$ such that $f(d)-f(c)=f^{\\prime}(p)(d-c)>0$. Hence $f(c)<f(d)$\n\n\n\nWe know from Theorem $4.17$ that the inverse function $g$ is continuous. (Its restriction to each closed subinterval $[c, d]$ is continuous, and that is sufficient.) Now observe that if $f(x)=y$ and $f(x+h)=y+k$, we have\n\n$$\n\n\\frac{g(y+k)-g(y)}{k}-\\frac{1}{f^{\\prime}(x)}=\\frac{1}{\\frac{f(x+h)-f(x)}{h}}-\\frac{1}{f^{\\prime}(x)}\n\n$$\n\nSince we know $\\lim \\frac{1}{\\varphi(t)}=\\frac{1}{\\lim \\varphi(t)}$ provided $\\lim \\varphi(t) \\neq 0$, it follows that for any $\\varepsilon>0$ there exists $\\eta>0$ such that\n\n$$\n\n\\left|\\frac{1}{\\frac{f(x+h)-f(x)}{h}}-\\frac{1}{f^{\\prime}(x)}\\right|<\\varepsilon\n\n$$\n\nif $0<|h|<\\eta$. Since $h=g(y+k)-g(y)$, there exists $\\delta>0$ such that $0<|h|<\\eta$ if $0<|k|<\\delta$. The proof is now complete. \n\n\\end{proof}",
         "For any $c, d$ with $a<c<d<b$ there exists a point $p \\in(c, d)$ such that $f(d)-f(c)=f^{\\prime}(p)(d-c)>0$. Hence $f(c)<f(d)$",
         "UNKNOWN"
        ],
        [
         "26",
         "If $C_{0}+\\frac{C_{1}}{2}+\\cdots+\\frac{C_{n-1}}{n}+\\frac{C_{n}}{n+1}=0,$ where $C_{0}, \\ldots, C_{n}$ are real constants, prove that the equation $C_{0}+C_{1} x+\\cdots+C_{n-1} x^{n-1}+C_{n} x^{n}=0$ has at least one real root between 0 and 1.",
         "\\begin{proof}\n\n    Consider the polynomial\n\n$$\n\np(x)=C_0 x+\\frac{C_1}{2} x^2+\\cdots+\\frac{C_{n-1}}{n} x^n+\\frac{C_n}{n+1} x^{n+1},\n\n$$\n\nwhose derivative is\n\n$$\n\np^{\\prime}(x)=C_0+C_1 x+\\cdots+C_{n-1} x^{n-1}+C_n x^n .\n\n$$\n\nIt is obvious that $p(0)=0$, and the hypothesis of the problem is that $p(1)=0$. Hence Rolle's theorem implies that $p^{\\prime}(x)=0$ for some $x$ between 0 and 1 .\n\n\\end{proof}",
         "Consider the polynomial",
         "UNKNOWN"
        ],
        [
         "27",
         "Suppose (a) $f$ is continuous for $x \\geq 0$, (b) $f^{\\prime}(x)$ exists for $x>0$, (c) $f(0)=0$, (d) $f^{\\prime}$ is monotonically increasing. Put $g(x)=\\frac{f(x)}{x} \\quad(x>0)$ and prove that $g$ is monotonically increasing.",
         "\\begin{proof}\n\n    Put\n\n$$\n\ng(x)=\\frac{f(x)}{x} \\quad(x>0)\n\n$$\n\nand prove that $g$ is monotonically increasing.\n\nBy the mean-value theorem\n\n$$\n\nf(x)=f(x)-f(0)=f^{\\prime}(c) x\n\n$$\n\nfor some $c \\in(0, x)$. Since $f^{\\prime}$ is monotonically increasing, this result implies that $f(x)<x f^{\\prime}(x)$. It therefore follows that\n\n$$\n\ng^{\\prime}(x)=\\frac{x f^{\\prime}(x)-f(x)}{x^2}>0,\n\n$$\n\nso that $g$ is also monotonically increasing.\n\n\\end{proof}",
         "Put",
         "UNKNOWN"
        ],
        [
         "28",
         "Suppose $a \\in R^{1}, f$ is a twice-differentiable real function on $(a, \\infty)$, and $M_{0}, M_{1}, M_{2}$ are the least upper bounds of $|f(x)|,\\left|f^{\\prime}(x)\\right|,\\left|f^{\\prime \\prime}(x)\\right|$, respectively, on $(a, \\infty)$. Prove that $M_{1}^{2} \\leq 4 M_{0} M_{2} .$",
         "\\begin{proof}\n\n    The inequality is obvious if $M_0=+\\infty$ or $M_2=+\\infty$, so we shall assume that $M_0$ and $M_2$ are both finite. We need to show that\n\n$$\n\n\\left|f^{\\prime}(x)\\right| \\leq 2 \\sqrt{M_0 M_2}\n\n$$\n\nfor all $x>a$. We note that this is obvious if $M_2=0$, since in that case $f^{\\prime}(x)$ is constant, $f(x)$ is a linear function, and the only bounded linear function is a constant, whose derivative is zero. Hence we shall assume from now on that $0<M_2<+\\infty$ and $0<M_0<+\\infty$.\n\nFollowing the hint, we need only choose $h=\\sqrt{\\frac{M_0}{M_2}}$, and we obtain\n\n$$\n\n\\left|f^{\\prime}(x)\\right| \\leq 2 \\sqrt{M_0 M_2},\n\n$$\n\nwhich is precisely the desired inequality.\n\nThe case of equality follows, since the example proposed satisfies\n\n$$\n\nf(x)=1-\\frac{2}{x^2+1}\n\n$$\n\nfor $x \\geq 0$. We see easily that $|f(x)| \\leq 1$ for all $x>-1$. Now $f^{\\prime}(x)=\\frac{4 x}{\\left(x^2+1\\right)^2}$ for $x>0$ and $f^{\\prime}(x)=4 x$ for $x<0$. It thus follows from Exercise 9 above that $f^{\\prime}(0)=0$, and that $f^{\\prime}(x)$ is continuous. Likewise $f^{\\prime \\prime}(x)=4$ for $x<0$ and $f^{\\prime \\prime}(x)=\\frac{4-4 x^2}{\\left(x^2+1\\right)^3}=-4 \\frac{x^2-1}{\\left(x^2+1\\right)^3}$. This shows that $\\left|f^{\\prime \\prime}(x)\\right|<4$ for $x>0$ and also that $\\lim _{x \\rightarrow 0} f^{\\prime \\prime}(x)=4$. Hence Exercise 9 again implies that $f^{\\prime \\prime}(x)$ is continuous and $f^{\\prime \\prime}(0)=4$.\n\n\n\nOn $n$-dimensional space let $\\mathbf{f}(x)=\\left(f_1(x), \\ldots, f_n(x)\\right), M_0=\\sup |\\mathbf{f}(x)|$, $M_1=\\sup \\left|\\mathbf{f}^{\\prime}(x)\\right|$, and $M_2=\\sup \\left|\\mathbf{f}^{\\prime \\prime}(x)\\right|$. Just as in the numerical case, there is nothing to prove if $M_2=0$ or $M_0=+\\infty$ or $M_2=+\\infty$, and so we assume $0<M_0<+\\infty$ and $0<M_2<\\infty$. Let $a$ be any positive number less than $M_1$, let $x_0$ be such that $\\left|\\mathbf{f}^{\\prime}\\left(x_0\\right)\\right|>a$, and let $\\mathbf{u}=\\frac{1}{\\left|\\mathbf{f}^{\\prime}\\left(x_0\\right)\\right|} \\mathbf{f}^{\\prime}\\left(x_0\\right)$. Consider the real-valued function $\\varphi(x)=\\mathrm{u} \\cdot \\mathrm{f}(x)$. Let $N_0, N_1$, and $N_2$ be the suprema of $|\\varphi(x)|,\\left|\\varphi^{\\prime}(x)\\right|$, and $\\left|\\varphi^{\\prime \\prime}(x)\\right|$ respectively. By the Schwarz inequality we have (since $|\\mathbf{u}|=1) N_0 \\leq M_0$ and $N_2 \\leq M_2$, while $N_1 \\geq \\varphi\\left(x_0\\right)=\\left|\\mathbf{f}^{\\prime}\\left(x_0\\right)\\right|>a$. We therefore have $a^2<4 N_0 N_2 \\leq 4 M_0 M_2$. Since $a$ was any positive number less than $M_1$, we have $M_1^2 \\leq 4 M_0 M_2$, i.e., the result holds also for vector-valued functions.\n\n\n\nEquality can hold on any $R^n$, as we see by taking $\\mathbf{f}(x)=(f(x), 0, \\ldots, 0)$ or $\\mathbf{f}(x)=(f(x), f(x), \\ldots, f(x))$, where $f(x)$ is a real-valued function for which equality holds.\n\n\n\n\\end{proof}",
         "The inequality is obvious if $M_0=+\\infty$ or $M_2=+\\infty$, so we shall assume that $M_0$ and $M_2$ are both finite. We need to show that",
         "UNKNOWN"
        ],
        [
         "29",
         "Let $X$ be a topological space; let $A$ be a subset of $X$. Suppose that for each $x \\in A$ there is an open set $U$ containing $x$ such that $U \\subset A$. Show that $A$ is open in $X$.",
         "\\begin{proof}\n\n    Since, from the given hypothesis given any $x \\in A$ there exists an open set containing $x$ say, $U_x$ such that $U_x \\subset A$. Thus, we claim that\n\n$$\n\nA=\\bigcup_{x \\in A} U_x\n\n$$\n\nObserve that if we prove the above claim, then $A$ will be open, being a union of arbitrary open sets. Since, for each $x \\in A, U_x \\subset A \\Longrightarrow \\cup U_x \\subset A$. For the converse, observe that given any $x \\in A, x \\in U_x$ and hence in the union. Thus we proved our claim, and hence $A$ is an open set.\n\n\\end{proof}",
         "Since, from the given hypothesis given any $x \\in A$ there exists an open set containing $x$ say, $U_x$ such that $U_x \\subset A$. Thus, we claim that",
         "CONCLUDE"
        ],
        [
         "30",
         "If $\\mathcal{T}_\\alpha$ is a family of topologies on $X$, show that $\\bigcap \\mathcal{T}_\\alpha$ is a topology on $X$.",
         "\\begin{proof}\n\n    Since $\\emptyset$ and $X$ belong to $\\mathcal{T}_\\alpha$ for each $\\alpha$, they belong to $\\bigcap_\\alpha \\mathcal{T}_\\alpha$. Let $\\left\\{V_\\beta\\right\\}_\\beta$ be a collection of open sets in $\\bigcap_\\alpha \\mathcal{T}_\\alpha$. For any fixed $\\alpha$ we have $\\cup_\\beta V_\\beta \\in \\mathcal{T}_\\alpha$ since $\\mathcal{T}_\\alpha$ is a topology on $X$, so $\\bigcup_\\beta V_\\beta \\in \\bigcap_\\alpha \\mathcal{T}_\\alpha$. Similarly, if $U_1, \\ldots, U_n$ are elements of $\\bigcap_\\alpha \\mathcal{T}_\\alpha$, then for each $\\alpha$ we have $\\bigcup_{i=1}^n U_i \\in \\mathcal{T}_\\alpha$ and therefore $\\bigcup_{i=1}^n U_i \\in \\bigcap_\\alpha \\mathcal{T}_\\alpha$. It follows that $\\bigcap_\\alpha \\mathcal{T}_\\alpha$ is a topology on $X$.\n\n\\end{proof}",
         "Since $\\emptyset$ and $X$ belong to $\\mathcal{T}_\\alpha$ for each $\\alpha$, they belong to $\\bigcap_\\alpha \\mathcal{T}_\\alpha$. Let $\\left\\{V_\\beta\\right\\}_\\beta$ be a collection of open sets in $\\bigcap_\\alpha \\mathcal{T}_\\alpha$. For any fixed $\\alpha$ we have $\\cup_\\beta V_\\beta \\in \\mathcal{T}_\\alpha$ since $\\mathcal{T}_\\alpha$ is a topology on $X$, so $\\bigcup_\\beta V_\\beta \\in \\bigcap_\\alpha \\mathcal{T}_\\alpha$. Similarly, if $U_1, \\ldots, U_n$ are elements of $\\bigcap_\\alpha \\mathcal{T}_\\alpha$, then for each $\\alpha$ we have $\\bigcup_{i=1}^n U_i \\in \\mathcal{T}_\\alpha$ and therefore $\\bigcup_{i=1}^n U_i \\in \\bigcap_\\alpha \\mathcal{T}_\\alpha$. It follows that $\\bigcap_\\alpha \\mathcal{T}_\\alpha$ is a topology on $X$.",
         "ASSUME"
        ],
        [
         "31",
         "Let $\\mathcal{T}_\\alpha$ be a family of topologies on $X$. Show that there is a unique smallest topology on $X$ containing all the collections $\\mathcal{T}_\\alpha$.",
         "\\begin{proof}\n\n    (b) First we prove that there is a unique smallest topology on $X$ containing all the collections $\\mathcal{T}_\\alpha$. Uniqueness of such topology is clear. For each $\\alpha$ let $\\mathcal{B}_\\alpha$ be a basis for $\\mathcal{T}_\\alpha$. Let $\\mathcal{T}$ be the topology generated by the subbasis $\\mathcal{S}=\\bigcup_\\alpha \\mathcal{B}_\\alpha$. Then the collection $\\mathcal{B}$ of all finite intersections of elements of $\\mathcal{S}$ is a basis for $\\mathcal{T}$. Clearly $\\mathcal{T}_\\alpha \\subset \\mathcal{T}$ for all $\\alpha$. We now prove that if $\\mathcal{O}$ is a topology on $X$ such that $\\mathcal{T}_\\alpha \\subset \\mathcal{O}$ for all $\\alpha$, then $\\mathcal{T} \\subset \\mathcal{O}$. Given such $\\mathcal{O}$, we have $\\mathcal{B}_\\alpha \\subset \\mathcal{O}$ for all $\\alpha$, so $\\mathcal{S} \\subset \\mathcal{O}$. Since $\\mathcal{O}$ is a topology, it must contain all finite intersections of elements of $\\mathcal{S}$, so $\\mathcal{B} \\subset \\mathcal{O}$ and hence $\\mathcal{T} \\subset \\mathcal{O}$. We conclude that the topology $\\mathcal{T}$ generated by the subbasis $\\mathcal{S}=\\cup_\\alpha \\mathcal{B}_\\alpha$ is the unique smallest topology on $X$ containing all the collections $\\mathcal{T}_\\alpha$.\n\n\\end{proof}",
         "(b) First we prove that there is a unique smallest topology on $X$ containing all the collections $\\mathcal{T}_\\alpha$. Uniqueness of such topology is clear. For each $\\alpha$ let $\\mathcal{B}_\\alpha$ be a basis for $\\mathcal{T}_\\alpha$. Let $\\mathcal{T}$ be the topology generated by the subbasis $\\mathcal{S}=\\bigcup_\\alpha \\mathcal{B}_\\alpha$. Then the collection $\\mathcal{B}$ of all finite intersections of elements of $\\mathcal{S}$ is a basis for $\\mathcal{T}$. Clearly $\\mathcal{T}_\\alpha \\subset \\mathcal{T}$ for all $\\alpha$. We now prove that if $\\mathcal{O}$ is a topology on $X$ such that $\\mathcal{T}_\\alpha \\subset \\mathcal{O}$ for all $\\alpha$, then $\\mathcal{T} \\subset \\mathcal{O}$. Given such $\\mathcal{O}$, we have $\\mathcal{B}_\\alpha \\subset \\mathcal{O}$ for all $\\alpha$, so $\\mathcal{S} \\subset \\mathcal{O}$. Since $\\mathcal{O}$ is a topology, it must contain all finite intersections of elements of $\\mathcal{S}$, so $\\mathcal{B} \\subset \\mathcal{O}$ and hence $\\mathcal{T} \\subset \\mathcal{O}$. We conclude that the topology $\\mathcal{T}$ generated by the subbasis $\\mathcal{S}=\\cup_\\alpha \\mathcal{B}_\\alpha$ is the unique smallest topology on $X$ containing all the collections $\\mathcal{T}_\\alpha$.",
         "ASSUME"
        ],
        [
         "32",
         "Show that if $\\mathcal{A}$ is a basis for a topology on $X$, then the topology generated by $\\mathcal{A}$ equals the intersection of all topologies on $X$ that contain $\\mathcal{A}$.",
         "\\begin{proof}\n\n    Let $\\mathcal{T}$ be the topology generated by $\\mathcal{A}$ and let $\\mathcal{O}$ be the intersection of all topologies on $X$ that contains $\\mathcal{A}$. Clearly $\\mathcal{O} \\subset \\mathcal{T}$ since $\\mathcal{T}$ is a topology on $X$ that contain $\\mathcal{A}$. Conversely, let $U \\in \\mathcal{T}$, so that $U$ is a union of elements of $\\mathcal{A}$. Since each of this elements is also an element of $\\mathcal{O}$, their union $U$ belongs to $\\mathcal{O}$. Thus $\\mathcal{T} \\subset \\mathcal{O}$ and the equality holds.\n\n\\end{proof}",
         "Let $\\mathcal{T}$ be the topology generated by $\\mathcal{A}$ and let $\\mathcal{O}$ be the intersection of all topologies on $X$ that contains $\\mathcal{A}$. Clearly $\\mathcal{O} \\subset \\mathcal{T}$ since $\\mathcal{T}$ is a topology on $X$ that contain $\\mathcal{A}$. Conversely, let $U \\in \\mathcal{T}$, so that $U$ is a union of elements of $\\mathcal{A}$. Since each of this elements is also an element of $\\mathcal{O}$, their union $U$ belongs to $\\mathcal{O}$. Thus $\\mathcal{T} \\subset \\mathcal{O}$ and the equality holds.",
         "LET"
        ],
        [
         "33",
         "Show that the lower limit topology $\\mathbb{R}_l$ and $K$-topology $\\mathbb{R}_K$ are not comparable.",
         "\\begin{proof}\n\n    Let $\\mathcal{T}_{\\ell}$ and $\\mathcal{T}_K$ denote the topologies of $\\mathbb{R}_{\\ell}$ and $\\mathbb{R}_K$ respectively. Given the basis element $[0,1)$ for $\\mathcal{T}_{\\ell}$, there is no basis element for $\\mathcal{T}_K$ containing 0 and contained in $[0,1)$, so $\\mathcal{T}_{\\ell} \\not \\subset \\mathcal{T}_K$. Similarly, given the basis element $(-1,1) \\backslash K$ for $\\mathcal{T}_K$, there is no basis element for $\\mathcal{T}_{\\ell}$ containing 0 contained in $(-1,1) \\backslash K$, so $\\mathcal{T}_K \\not \\subset \\mathcal{T}_{\\ell}$.\n\n\\end{proof}",
         "Let $\\mathcal{T}_{\\ell}$ and $\\mathcal{T}_K$ denote the topologies of $\\mathbb{R}_{\\ell}$ and $\\mathbb{R}_K$ respectively. Given the basis element $[0,1)$ for $\\mathcal{T}_{\\ell}$, there is no basis element for $\\mathcal{T}_K$ containing 0 and contained in $[0,1)$, so $\\mathcal{T}_{\\ell} \\not \\subset \\mathcal{T}_K$. Similarly, given the basis element $(-1,1) \\backslash K$ for $\\mathcal{T}_K$, there is no basis element for $\\mathcal{T}_{\\ell}$ containing 0 contained in $(-1,1) \\backslash K$, so $\\mathcal{T}_K \\not \\subset \\mathcal{T}_{\\ell}$.",
         "LET"
        ],
        [
         "34",
         "Show that the collection $\\{(a,b) \\mid a < b, a \\text{ and } b \\text{ rational}\\}$ is a basis that generates a topology different from the lower limit topology on $\\mathbb{R}$.",
         "\\begin{proof}\n\n    (b) $\\mathcal{C}$ is a basis for a topology on $\\mathbb{R}$ since the union of its elements is $\\mathbb{R}$ and the intersection of two elements of $\\mathcal{C}$ is either empty or another element of $\\mathcal{C}$. Now consider $[r, s)$ where $r$ is any irrational number and $s$ is any real number greater than $r$. Then $[r, s)$ is a basis element for the topology of $\\mathbb{R}_{\\ell}$, but $[r, s)$ is not a union of elements of $\\mathcal{C}$. Indeed, suppose that $[r, s)=\\cup_\\alpha\\left[a_\\alpha, b_\\alpha\\right)$ for rationals $a_\\alpha, b_\\alpha$. Then $r \\in\\left[a_\\alpha, b_\\alpha\\right)$ for some $\\alpha$. Since $r$ is irrational we must have $a_\\alpha<r$, but then $a_\\alpha \\notin[r, s)$, a contradiction. It follows that the topology generated by $\\mathcal{C}$ is strictly coarser than the lower limit topology on $\\mathbb{R}$.\n\n\\end{proof}",
         "(b) $\\mathcal{C}$ is a basis for a topology on $\\mathbb{R}$ since the union of its elements is $\\mathbb{R}$ and the intersection of two elements of $\\mathcal{C}$ is either empty or another element of $\\mathcal{C}$. Now consider $[r, s)$ where $r$ is any irrational number and $s$ is any real number greater than $r$. Then $[r, s)$ is a basis element for the topology of $\\mathbb{R}_{\\ell}$, but $[r, s)$ is not a union of elements of $\\mathcal{C}$. Indeed, suppose that $[r, s)=\\cup_\\alpha\\left[a_\\alpha, b_\\alpha\\right)$ for rationals $a_\\alpha, b_\\alpha$. Then $r \\in\\left[a_\\alpha, b_\\alpha\\right)$ for some $\\alpha$. Since $r$ is irrational we must have $a_\\alpha<r$, but then $a_\\alpha \\notin[r, s)$, a contradiction. It follows that the topology generated by $\\mathcal{C}$ is strictly coarser than the lower limit topology on $\\mathbb{R}$.",
         "ASSUME"
        ],
        [
         "35",
         "A map $f: X \\rightarrow Y$ is said to be an open map if for every open set $U$ of $X$, the set $f(U)$ is open in $Y$. Show that $\\pi_{1}: X \\times Y \\rightarrow X$ and $\\pi_{2}: X \\times Y \\rightarrow Y$ are open maps.",
         "\\begin{proof}\n\n    Exercise 16.4. Let $U \\times V$ be a (standard) basis element for $X \\times Y$, so that $U$ is open in $X$ and $V$ is open in $Y$. Then $\\pi_1(U \\times V)=U$ is open in $X$ and $\\pi_2(U \\times V)=V$ is open in $Y$. Since arbitrary maps and unions satisfy $f\\left(\\bigcup_\\alpha W_\\alpha\\right)=\\bigcup_\\alpha f\\left(W_\\alpha\\right)$, it follows that $\\pi_1$ and $\\pi_2$ are open maps.\n\n\\end{proof}",
         "Exercise 16.4. Let $U \\times V$ be a (standard) basis element for $X \\times Y$, so that $U$ is open in $X$ and $V$ is open in $Y$. Then $\\pi_1(U \\times V)=U$ is open in $X$ and $\\pi_2(U \\times V)=V$ is open in $Y$. Since arbitrary maps and unions satisfy $f\\left(\\bigcup_\\alpha W_\\alpha\\right)=\\bigcup_\\alpha f\\left(W_\\alpha\\right)$, it follows that $\\pi_1$ and $\\pi_2$ are open maps.",
         "UNKNOWN"
        ],
        [
         "36",
         "Show that if $U$ is open in $X$ and $A$ is closed in $X$, then $U-A$ is open in $X$, and $A-U$ is closed in $X$.",
         "\\begin{proof}\n\nSince\n\n$$\n\nX \\backslash(U \\backslash A)=(X \\backslash U) \\cup A \\text { and } \\quad X \\backslash(A \\backslash U)=(X \\backslash A) \\cup U,\n\n$$\n\nit follows that $X \\backslash(U \\backslash A)$ is closed in $X$ and $X \\backslash(A \\backslash U)$ is open in $X$.\n\n\\end{proof}",
         "Since",
         "UNKNOWN"
        ],
        [
         "37",
         "Let $Y$ be an ordered set in the order topology. Let $f, g: X \\rightarrow Y$ be continuous. Let $h: X \\rightarrow Y$ be the function $h(x)=\\min \\{f(x), g(x)\\}.$ Show that $h$ is continuous.",
         "\\begin{proof}\n\n    Let $A=\\{x \\mid f(x) \\leq g(x)\\}$ and $B=\\{x \\mid g(x) \\leq f(x)\\}$. Then $A$ and $B$ are closed in $X$ by (a), $A \\cap B=\\{x \\mid f(x)=g(x)\\}$, and $X=A \\cup B$. Since $f$ and $g$ are continuous, their restrictions $f^{\\prime}: A \\rightarrow Y$ and $g^{\\prime}: B \\rightarrow Y$ are continuous. It follows from the pasting lemma that\n\n$$\n\nh: X \\rightarrow Y, \\quad h(x)=\\min \\{f(x), g(x)\\}= \\begin{cases}f^{\\prime}(x) & \\text { if } x \\in A \\\\ g^{\\prime}(x) & \\text { if } x \\in B\\end{cases}\n\n$$\n\nis continuous\n\n\\end{proof}",
         "Let $A=\\{x \\mid f(x) \\leq g(x)\\}$ and $B=\\{x \\mid g(x) \\leq f(x)\\}$. Then $A$ and $B$ are closed in $X$ by (a), $A \\cap B=\\{x \\mid f(x)=g(x)\\}$, and $X=A \\cup B$. Since $f$ and $g$ are continuous, their restrictions $f^{\\prime}: A \\rightarrow Y$ and $g^{\\prime}: B \\rightarrow Y$ are continuous. It follows from the pasting lemma that",
         "LET"
        ],
        [
         "38",
         "Let $\\mathbf{x}_1, \\mathbf{x}_2, \\ldots$ be a sequence of the points of the product space $\\prod X_\\alpha$.  Show that this sequence converges to the point $\\mathbf{x}$ if and only if the sequence $\\pi_\\alpha(\\mathbf{x}_i)$ converges to $\\pi_\\alpha(\\mathbf{x})$ for each $\\alpha$.",
         "\\begin{proof}\n\n    For each $n \\in \\mathbb{Z}_{+}$, we write $\\mathbf{x}_n=\\left(x_n^\\alpha\\right)_\\alpha$, so that $\\pi_\\alpha\\left(\\mathbf{x}_n\\right)=x_n^\\alpha$ for each $\\alpha$.\n\nFirst assume that the sequence $\\mathbf{x}_1, \\mathbf{x}_2, \\ldots$ converges to $\\mathbf{x}=\\left(x_\\alpha\\right)_\\alpha$ in the product space $\\prod_\\alpha X_\\alpha$. Fix an index $\\beta$ and let $U$ be a neighbourhood of $\\pi_\\beta(\\mathbf{x})=x_\\beta$. Let $V=\\prod_\\alpha U_\\alpha$, where $U_\\alpha=X_\\alpha$ for each $\\alpha \\neq \\beta$ and $U_\\beta=U$. Then $V$ is a neighbourhood of $\\mathbf{x}$, so there exists $N \\in \\mathbb{Z}_{+}$such that $\\mathbf{x}_n \\in V$ for all $n \\geq N$. Therefore $\\pi_\\beta\\left(\\mathbf{x}_n\\right)=x_n^\\beta \\in U$ for all $n \\geq N$. Since $U$ was arbitrary, it follows that $\\pi_\\beta\\left(\\mathbf{x}_1\\right), \\pi_\\beta\\left(\\mathbf{x}_2\\right), \\ldots$ converges to $\\pi_\\beta(\\mathbf{x})$. Since $\\beta$ was arbitrary, this holds for all indices $\\alpha$.\n\n\\end{proof}",
         "For each $n \\in \\mathbb{Z}_{+}$, we write $\\mathbf{x}_n=\\left(x_n^\\alpha\\right)_\\alpha$, so that $\\pi_\\alpha\\left(\\mathbf{x}_n\\right)=x_n^\\alpha$ for each $\\alpha$.",
         "UNKNOWN"
        ],
        [
         "39",
         "Define $f_{n}:[0,1] \\rightarrow \\mathbb{R}$ by the equation $f_{n}(x)=x^{n}$. Show that the sequence $\\left(f_{n}(x)\\right)$ converges for each $x \\in[0,1]$.",
         "\\begin{proof}\n\nIf $0 \\leq x<1$ is fixed, then $f_n(x) \\rightarrow 0$ as $n \\rightarrow \\infty$. As $f_n(1)=1$ for all $n, f_n(1) \\rightarrow 1$. Thus $\\left(f_n\\right)_n$ converges to $f:[0,1] \\rightarrow \\mathbb{R}$ given by $f(x)=0$ if $x=0$ and $f(1)=1$. The sequence\n\n\\end{proof}",
         "If $0 \\leq x<1$ is fixed, then $f_n(x) \\rightarrow 0$ as $n \\rightarrow \\infty$. As $f_n(1)=1$ for all $n, f_n(1) \\rightarrow 1$. Thus $\\left(f_n\\right)_n$ converges to $f:[0,1] \\rightarrow \\mathbb{R}$ given by $f(x)=0$ if $x=0$ and $f(1)=1$. The sequence",
         "ASSUME"
        ],
        [
         "40",
         "Let $X$ be a topological space and let $Y$ be a metric space. Let $f_{n}: X \\rightarrow Y$ be a sequence of continuous functions. Let $x_{n}$ be a sequence of points of $X$ converging to $x$. Show that if the sequence $\\left(f_{n}\\right)$ converges uniformly to $f$, then $\\left(f_{n}\\left(x_{n}\\right)\\right)$ converges to $f(x)$.",
         "\\begin{proof}\n\n    Let $d$ be the metric on $Y$. Let $V$ be a neighbourhood of $f(x)$, and let $\\varepsilon>0$ be such that $f(x) \\in B_d(f(x), \\varepsilon) \\subset V$. Since $\\left(f_n\\right)_n$ converges uniformly to $f$, there exists $N_1 \\in \\mathbb{Z}_{+}$such that $d\\left(f_n(x), f(x)\\right)<\\varepsilon / 2$ for all $x \\in X$ and all $n \\geq N_1$, so that $d\\left(f_n\\left(x_n\\right), f\\left(x_n\\right)\\right)<\\varepsilon / 2$ for all $n \\geq N_1$. Moreover, $f$ is continuous, so there exists $N_2 \\in \\mathbb{Z}_{+}$such that $d\\left(f\\left(x_n\\right), f(x)\\right)<\\varepsilon / 2$ for all $n \\geq N_2$. Thus, if $N>\\max \\left\\{N_1, N_2\\right\\}$, then\n\n$$\n\nd\\left(f_n\\left(x_n\\right), f(x)\\right) \\leq d\\left(f_n\\left(x_n\\right), f\\left(x_n\\right)\\right)+d\\left(f\\left(x_n\\right), f(x)\\right)<\\frac{\\varepsilon}{2}+\\frac{\\varepsilon}{2}=\\varepsilon\n\n$$\n\nfor all $n \\geq N$, so $f_n\\left(x_n\\right) \\in V$ for all $n \\geq N$. It follows that $\\left(f_n\\left(x_n\\right)\\right)_n$ converges to $f(x)$.\n\n\\end{proof}",
         "Let $d$ be the metric on $Y$. Let $V$ be a neighbourhood of $f(x)$, and let $\\varepsilon>0$ be such that $f(x) \\in B_d(f(x), \\varepsilon) \\subset V$. Since $\\left(f_n\\right)_n$ converges uniformly to $f$, there exists $N_1 \\in \\mathbb{Z}_{+}$such that $d\\left(f_n(x), f(x)\\right)<\\varepsilon / 2$ for all $x \\in X$ and all $n \\geq N_1$, so that $d\\left(f_n\\left(x_n\\right), f\\left(x_n\\right)\\right)<\\varepsilon / 2$ for all $n \\geq N_1$. Moreover, $f$ is continuous, so there exists $N_2 \\in \\mathbb{Z}_{+}$such that $d\\left(f\\left(x_n\\right), f(x)\\right)<\\varepsilon / 2$ for all $n \\geq N_2$. Thus, if $N>\\max \\left\\{N_1, N_2\\right\\}$, then",
         "ASSUME"
        ],
        [
         "41",
         "If $A \\subset X$, a retraction of $X$ onto $A$ is a continuous map $r: X \\rightarrow A$ such that $r(a)=a$ for each $a \\in A$. Show that a retraction is a quotient map.",
         "\\begin{proof}\n\nThe inclusion map $i: A \\rightarrow X$ is continuous and $r \\circ i=1_A$ is the identity. Thus $r$ is a quotient map by (a).\n\n\\end{proof}",
         "The inclusion map $i: A \\rightarrow X$ is continuous and $r \\circ i=1_A$ is the identity. Thus $r$ is a quotient map by (a).",
         "CONCLUDE"
        ],
        [
         "42",
         "Let $\\left\\{A_{n}\\right\\}$ be a sequence of connected subspaces of $X$, such that $A_{n} \\cap A_{n+1} \\neq \\varnothing$ for all $n$. Show that $\\bigcup A_{n}$ is connected.",
         "\\begin{proof}\n\n    Suppose that $\\bigcup_n A_n=B \\cup C$, where $B$ and $C$ are disjoint open subsets of $\\bigcup_n A_n$. Since $A_1$ is connected and a subset of $B \\cup C$, by Lemma $23.2$ it lies entirely within either $B$ or $C$. Without any loss of generality, we may assume $A_1 \\subset B$. Note that given $n$, if $A_n \\subset B$ then $A_{n+1} \\subset B$, for if $A_{n+1} \\subset C$ then $A_n \\cap A_{n+1} \\subset B \\cap C=\\emptyset$, in contradiction with the assumption. By induction, $A_n \\subset B$ for all $n \\in \\mathbb{Z}_{+}$, so that $\\bigcup_n A_n \\subset B$. It follows that $\\bigcup_n A_n$ is connected.\n\n\\end{proof}",
         "Suppose that $\\bigcup_n A_n=B \\cup C$, where $B$ and $C$ are disjoint open subsets of $\\bigcup_n A_n$. Since $A_1$ is connected and a subset of $B \\cup C$, by Lemma $23.2$ it lies entirely within either $B$ or $C$. Without any loss of generality, we may assume $A_1 \\subset B$. Note that given $n$, if $A_n \\subset B$ then $A_{n+1} \\subset B$, for if $A_{n+1} \\subset C$ then $A_n \\cap A_{n+1} \\subset B \\cap C=\\emptyset$, in contradiction with the assumption. By induction, $A_n \\subset B$ for all $n \\in \\mathbb{Z}_{+}$, so that $\\bigcup_n A_n \\subset B$. It follows that $\\bigcup_n A_n$ is connected.",
         "ASSUME"
        ],
        [
         "43",
         "Show that if $X$ is an infinite set, it is connected in the finite complement topology.",
         "\\begin{proof}\n\n    Suppose that $A$ is a non-empty subset of $X$ that is both open and closed, i.e., $A$ and $X \\backslash A$ are finite or all of $X$. Since $A$ is non-empty, $X \\backslash A$ is finite. Thus $A$ cannot be finite as $X \\backslash A$ is infinite, so $A$ is all of $X$. Therefore $X$ is connected.\n\n\\end{proof}",
         "Suppose that $A$ is a non-empty subset of $X$ that is both open and closed, i.e., $A$ and $X \\backslash A$ are finite or all of $X$. Since $A$ is non-empty, $X \\backslash A$ is finite. Thus $A$ cannot be finite as $X \\backslash A$ is infinite, so $A$ is all of $X$. Therefore $X$ is connected.",
         "ASSUME"
        ],
        [
         "44",
         "Let $A$ be a proper subset of $X$, and let $B$ be a proper subset of $Y$. If $X$ and $Y$ are connected, show that $(X \\times Y)-(A \\times B)$ is connected.",
         "\\begin{proof}\n\nThis is similar to the proof of Theorem 23.6. Take $c \\times d \\in(X \\backslash A) \\times(Y \\backslash B)$. For each $x \\in X \\backslash A$, the set\n\n$$\n\nU_x=(X \\times\\{d\\}) \\cup(\\{x\\} \\times Y)\n\n$$\n\nis connected since $X \\times\\{d\\}$ and $\\{x\\} \\times Y$ are connected and have the common point $x \\times d$. Then $U=\\bigcup_{x \\in X \\backslash A} U_x$ is connected because it is the union of the connected spaces $U_x$ which have the point $c \\times d$ in common. Similarly, for each $y \\in Y \\backslash B$ the set\n\n$$\n\nV_y=(X \\times\\{y\\}) \\cup(\\{c\\} \\times Y)\n\n$$\n\nis connected, so $V=\\bigcup_{y \\in Y \\backslash B} V_y$ is connected. Thus $(X \\times Y) \\backslash(A \\times B)=U \\cup V$ is connected since $c \\times d$ is a common point of $U$ and $V$.\n\n\\end{proof}",
         "This is similar to the proof of Theorem 23.6. Take $c \\times d \\in(X \\backslash A) \\times(Y \\backslash B)$. For each $x \\in X \\backslash A$, the set",
         "UNKNOWN"
        ],
        [
         "45",
         "Let $f: S^{1} \\rightarrow \\mathbb{R}$ be a continuous map. Show there exists a point $x$ of $S^{1}$ such that $f(x)=f(-x)$.",
         "\\begin{proof}\n\n    Let $f: S^1 \\rightarrow \\mathbb{R}$ be continuous. Let $x \\in S^1$. If $f(x)=f(-x)$ we are done, so assume $f(x) \\neq f(-x)$. Define $g: S^1 \\rightarrow \\mathbb{R}$ by setting $g(x)=f(x)-f(-x)$. Then $g$ is continuous. Suppose $f(x)>f(-x)$, so that $g(x)>0$. Then $-x \\in S^1$ and $g(-x)<0$. By the intermediate value theorem, since $S^1$ is connected and $g(-x)<0<g(x)$, there exists $y \\in S^1$ such that $g(y)=0$. i.e, $f(y)=f(-y)$. Similarly, if $f(x)<f(-x)$, then $g(x)<0<g(-x)$ and again the intermediate value theorem gives the result.\n\n\\end{proof}",
         "Let $f: S^1 \\rightarrow \\mathbb{R}$ be continuous. Let $x \\in S^1$. If $f(x)=f(-x)$ we are done, so assume $f(x) \\neq f(-x)$. Define $g: S^1 \\rightarrow \\mathbb{R}$ by setting $g(x)=f(x)-f(-x)$. Then $g$ is continuous. Suppose $f(x)>f(-x)$, so that $g(x)>0$. Then $-x \\in S^1$ and $g(-x)<0$. By the intermediate value theorem, since $S^1$ is connected and $g(-x)<0<g(x)$, there exists $y \\in S^1$ such that $g(y)=0$. i.e, $f(y)=f(-y)$. Similarly, if $f(x)<f(-x)$, then $g(x)<0<g(-x)$ and again the intermediate value theorem gives the result.",
         "ASSUME"
        ],
        [
         "46",
         "Let $X$ be locally path connected. Show that every connected open set in $X$ is path connected.",
         "\\begin{proof}\n\n    Let $U$ be a open connected set in $X$. By Theorem 25.4, each path component of $U$ is open in $X$, hence open in $U$. Thus, each path component in $U$ is both open and closed in $U$, so must be empty or all of $U$. It follows that $U$ is path-connected.\n\n\\end{proof}",
         "Let $U$ be a open connected set in $X$. By Theorem 25.4, each path component of $U$ is open in $X$, hence open in $U$. Thus, each path component in $U$ is both open and closed in $U$, so must be empty or all of $U$. It follows that $U$ is path-connected.",
         "LET"
        ],
        [
         "47",
         "Let $X$ be a compact Hausdorff space. Let $\\mathcal{A}$ be a collection of closed connected subsets of $X$ that is simply ordered by proper inclusion. Then $Y=\\bigcap_{A \\in \\mathcal{A}} A$ is connected.",
         "\\begin{proof}\n\n Since each $A \\in \\mathcal{A}$ is closed, $Y$ is closed. Suppose that $C$ and $D$ form a separation of $Y$. Then $C$ and $D$ are closed in $Y$, hence closed in $X$. Since $X$ is compact, $C$ and $D$ are compact by Theorem 26.2. Since $X$ is Hausdorff, by Exercise 26.5, there exist $U$ and $V$ open in $X$ and disjoint containing $C$ and $D$, respectively. We show that\n\n$$\n\n\\bigcap_{A \\in \\mathcal{A}}(A \\backslash(U \\cup V))\n\n$$\n\nis not empty. Let $\\left\\{A_1, \\ldots, A_n\\right\\}$ be a finite subcollection of elements of $\\mathcal{A}$. We may assume that $A_i \\subsetneq A_{i+1}$ for all $i=1, \\ldots, n-1$. Then\n\n$$\n\n\\bigcap_{i=1}^n\\left(A_i \\backslash(U \\cup V)\\right)=A_1 \\backslash(U \\cup V) \\text {. }\n\n$$\n\nSuppose that $A_1 \\backslash(U \\cup V)=\\emptyset$. Then $A_1 \\subset U \\cup V$. Since $A_1$ is connected and $U \\cap V=\\emptyset, A_1$ lies within either $U$ or $V$, say $A_1 \\subset U$. Then $Y \\subset A_1 \\subset U$, so that $C=Y \\cap C \\subset Y \\cap V=\\emptyset$, contradicting the fact that $C$ and $D$ form a separation of $Y$. Hence, $\\bigcap_{i=1}^n\\left(A_i \\backslash(U \\cup V)\\right)$ is non-empty. Therefore, the collection $\\{A \\backslash(U \\cup V) \\mid A \\in \\mathcal{A}\\}$ has the finite intersection property, so\n\n$$\n\n\\bigcap_{A \\in \\mathcal{A}}(A \\backslash(U \\cup V))=\\left(\\bigcap_{A \\in \\mathcal{A}} A\\right) \\backslash(U \\cup V)=Y \\backslash(U \\cup V)\n\n$$\n\nis non-empty. So there exists $y \\in Y$ such that $y \\notin U \\cup V \\supset C \\cup D$, contradicting the fact that $C$ and $D$ form a separation of $Y$. We conclude that there is no such separation, so that $Y$ is connected.\n\n\\end{proof}",
         "Since each $A \\in \\mathcal{A}$ is closed, $Y$ is closed. Suppose that $C$ and $D$ form a separation of $Y$. Then $C$ and $D$ are closed in $Y$, hence closed in $X$. Since $X$ is compact, $C$ and $D$ are compact by Theorem 26.2. Since $X$ is Hausdorff, by Exercise 26.5, there exist $U$ and $V$ open in $X$ and disjoint containing $C$ and $D$, respectively. We show that",
         "ASSUME"
        ],
        [
         "48",
         "Show that a connected metric space having more than one point is uncountable.",
         "\\begin{proof}\n\n    The distance function $d: X \\times X \\rightarrow \\mathbb{R}$ is continuous by Exercise 20.3(a), so given $x \\in X$, the function $d_x: X \\rightarrow \\mathbb{R}$ given by $d_x(y)=d(x, y)$ is continuous by Exercise 19.11. Since $X$ is connected, the image $d_x(X)$ is a connected subspace of $\\mathbb{R}$, and contains 0 since $d_x(x)=0$. Thus, if $y \\in X$ and $y \\neq x$, then $d_x(X)$ contains the set $[0, \\delta]$, where $\\delta=d_x(y)>0$. Therefore $X$ must be uncountable.\n\n\\end{proof}",
         "The distance function $d: X \\times X \\rightarrow \\mathbb{R}$ is continuous by Exercise 20.3(a), so given $x \\in X$, the function $d_x: X \\rightarrow \\mathbb{R}$ given by $d_x(y)=d(x, y)$ is continuous by Exercise 19.11. Since $X$ is connected, the image $d_x(X)$ is a connected subspace of $\\mathbb{R}$, and contains 0 since $d_x(x)=0$. Thus, if $y \\in X$ and $y \\neq x$, then $d_x(X)$ contains the set $[0, \\delta]$, where $\\delta=d_x(y)>0$. Therefore $X$ must be uncountable.",
         "ASSUME"
        ],
        [
         "49",
         "Show that X is countably compact if and only if every nested sequence $C_1 \\supset C_2 \\supset \\cdots$ of closed nonempty sets of X has a nonempty intersection.",
         "\\begin{proof}\n\nWe could imitate the proof of Theorem 26.9, but we prove directly each direction. First let $X$ be countable compact and let $C_1 \\supset C_2 \\supset \\cdots$ be a nested sequence of closed nonempty sets of $X$. For each $n \\in \\mathbb{Z}_{+}, U_n=X \\backslash C_n$ is open in $X$. Then $\\left\\{U_n\\right\\}_{n \\in \\mathbb{Z}_{+}}$is a countable collection of open sets with no finite subcollection covering $X$, for if $U_{i_1} \\cup \\cdots \\cup U_{1_n}$ covers $X$, then $C_{i_1} \\cap \\cdots \\cap C_{i_n}$ is empty, contrary to the assumption. Hence $\\left\\{U_n\\right\\}_{n \\in \\mathbb{Z}_{+}}$does not cover $X$, so there exist $x \\in X \\backslash \\bigcup_{n \\in \\mathbb{Z}_{+}} U_n=\\bigcap_{n \\in Z_{+}}\\left(X \\backslash U_n\\right)=\\bigcap_{n \\in Z_{+}} C_n$.\n\n\n\nConversely, assume that every nested sequence $C_1 \\supset C_2 \\supset \\cdots$ of closed non-empty sets of $X$ has a non-empty intersection and let $\\left\\{U_n\\right\\}_{n \\in \\mathbb{Z}_{+}}$be a countable open covering of $X$. For each $n$, let $V_n=U_1 \\cup \\cdots \\cup U_n$ and $C_n=X \\backslash V_n$. Suppose that no finite subcollection of $\\left\\{U_n\\right\\}_{n \\in \\mathbb{Z}_{+}}$covers $X$. Then each $C_n$ is non-empty, so $C_1 \\supset C_2 \\supset \\cdots$ is a nested sequence of non-empty closed sets and $\\bigcap_{n \\in \\mathbb{Z}_{+}} C_n$ is non-empty by assumption. Then there exists $x \\in \\bigcap_{n \\in \\mathbb{Z}_{+}} C_n$, so that $x \\notin V_n$ for all $n$, contradicting the fact that $\\left\\{U_n\\right\\}_{n \\in \\mathbb{Z}_{+}}$covers $X$. It follows that there exists $N \\in \\mathbb{Z}_{+}$such that $C_N=\\emptyset$, so that $X=V_N$ and hence some finite subcollection of $\\left\\{U_n\\right\\}_{n \\in \\mathbb{Z}_{+}}$covers $X$. We deduce that $X$ is countable compact.\n\n\\end{proof}",
         "We could imitate the proof of Theorem 26.9, but we prove directly each direction. First let $X$ be countable compact and let $C_1 \\supset C_2 \\supset \\cdots$ be a nested sequence of closed nonempty sets of $X$. For each $n \\in \\mathbb{Z}_{+}, U_n=X \\backslash C_n$ is open in $X$. Then $\\left\\{U_n\\right\\}_{n \\in \\mathbb{Z}_{+}}$is a countable collection of open sets with no finite subcollection covering $X$, for if $U_{i_1} \\cup \\cdots \\cup U_{1_n}$ covers $X$, then $C_{i_1} \\cap \\cdots \\cap C_{i_n}$ is empty, contrary to the assumption. Hence $\\left\\{U_n\\right\\}_{n \\in \\mathbb{Z}_{+}}$does not cover $X$, so there exist $x \\in X \\backslash \\bigcup_{n \\in \\mathbb{Z}_{+}} U_n=\\bigcap_{n \\in Z_{+}}\\left(X \\backslash U_n\\right)=\\bigcap_{n \\in Z_{+}} C_n$.",
         "ASSUME"
        ]
       ],
       "shape": {
        "columns": 4,
        "rows": 184
       }
      },
      "text/html": [
       "<div>\n",
       "<style scoped>\n",
       "    .dataframe tbody tr th:only-of-type {\n",
       "        vertical-align: middle;\n",
       "    }\n",
       "\n",
       "    .dataframe tbody tr th {\n",
       "        vertical-align: top;\n",
       "    }\n",
       "\n",
       "    .dataframe thead th {\n",
       "        text-align: right;\n",
       "    }\n",
       "</style>\n",
       "<table border=\"1\" class=\"dataframe\">\n",
       "  <thead>\n",
       "    <tr style=\"text-align: right;\">\n",
       "      <th></th>\n",
       "      <th>nl_statement</th>\n",
       "      <th>nl_proof</th>\n",
       "      <th>first_step</th>\n",
       "      <th>tactic</th>\n",
       "    </tr>\n",
       "  </thead>\n",
       "  <tbody>\n",
       "    <tr>\n",
       "      <th>0</th>\n",
       "      <td>If $r$ is rational $(r \\neq 0)$ and $x$ is irr...</td>\n",
       "      <td>\\begin{proof}\\n\\n    If $r$ and $r+x$ were bot...</td>\n",
       "      <td>If $r$ and $r+x$ were both rational, then $x=r...</td>\n",
       "      <td>ASSUME</td>\n",
       "    </tr>\n",
       "    <tr>\n",
       "      <th>1</th>\n",
       "      <td>Prove that there is no rational number whose s...</td>\n",
       "      <td>\\begin{proof}\\n\\n    Suppose $m^2=12 n^2$, whe...</td>\n",
       "      <td>Suppose $m^2=12 n^2$, where $m$ and $n$ have n...</td>\n",
       "      <td>ASSUME</td>\n",
       "    </tr>\n",
       "    <tr>\n",
       "      <th>2</th>\n",
       "      <td>Let $A$ be a nonempty set of real numbers whic...</td>\n",
       "      <td>\\begin{proof}\\n\\n    We need to prove that $-\\...</td>\n",
       "      <td>We need to prove that $-\\sup (-A)$ is the grea...</td>\n",
       "      <td>UNKNOWN</td>\n",
       "    </tr>\n",
       "    <tr>\n",
       "      <th>3</th>\n",
       "      <td>If $z$ is a complex number, prove that there e...</td>\n",
       "      <td>\\begin{proof}\\n\\n    If $z=0$, we take $r=0, w...</td>\n",
       "      <td>If $z=0$, we take $r=0, w=1$. (In this case $w...</td>\n",
       "      <td>UNKNOWN</td>\n",
       "    </tr>\n",
       "    <tr>\n",
       "      <th>4</th>\n",
       "      <td>If $x, y$ are complex, prove that $||x|-|y|| \\...</td>\n",
       "      <td>\\begin{proof}\\n\\n    Since $x=x-y+y$, the tria...</td>\n",
       "      <td>Since $x=x-y+y$, the triangle inequality gives</td>\n",
       "      <td>UNKNOWN</td>\n",
       "    </tr>\n",
       "    <tr>\n",
       "      <th>...</th>\n",
       "      <td>...</td>\n",
       "      <td>...</td>\n",
       "      <td>...</td>\n",
       "      <td>...</td>\n",
       "    </tr>\n",
       "    <tr>\n",
       "      <th>180</th>\n",
       "      <td>Prove that $(x, y)$ is not a principal ideal i...</td>\n",
       "      <td>\\begin{proof}\\n\\n    Suppose, to the contrary,...</td>\n",
       "      <td>Suppose, to the contrary, that $(x, y)=p$ for ...</td>\n",
       "      <td>ASSUME</td>\n",
       "    </tr>\n",
       "    <tr>\n",
       "      <th>181</th>\n",
       "      <td>Prove that if $f(x)$ and $g(x)$ are polynomial...</td>\n",
       "      <td>\\begin{proof}\\n\\n    Let $f(x), g(x) \\in \\math...</td>\n",
       "      <td>Let $f(x), g(x) \\in \\mathbb{Q}[x]$ be such tha...</td>\n",
       "      <td>LET</td>\n",
       "    </tr>\n",
       "    <tr>\n",
       "      <th>182</th>\n",
       "      <td>Prove that $x^6+30x^5-15x^3 + 6x-120$ is irred...</td>\n",
       "      <td>\\begin{proof}\\n\\n    $$\\n\\nx^6+30 x^5-15 x^3+6...</td>\n",
       "      <td>$$</td>\n",
       "      <td>UNKNOWN</td>\n",
       "    </tr>\n",
       "    <tr>\n",
       "      <th>183</th>\n",
       "      <td>Prove that $\\frac{(x+2)^p-2^p}{x}$, where $p$ ...</td>\n",
       "      <td>\\begin{proof}\\n\\n$\\frac{(x+2)^p-2^p}{x} \\quad ...</td>\n",
       "      <td>$\\frac{(x+2)^p-2^p}{x} \\quad \\quad p$ is on ad...</td>\n",
       "      <td>UNKNOWN</td>\n",
       "    </tr>\n",
       "    <tr>\n",
       "      <th>184</th>\n",
       "      <td>Prove that $x^2+y^2-1$ is irreducible in $\\mat...</td>\n",
       "      <td>\\begin{proof}\\n\\n$$\\n\\np(x)=x^2+y^2-1 \\in Q[y]...</td>\n",
       "      <td>$$</td>\n",
       "      <td>UNKNOWN</td>\n",
       "    </tr>\n",
       "  </tbody>\n",
       "</table>\n",
       "<p>184 rows × 4 columns</p>\n",
       "</div>"
      ],
      "text/plain": [
       "                                          nl_statement  \\\n",
       "0    If $r$ is rational $(r \\neq 0)$ and $x$ is irr...   \n",
       "1    Prove that there is no rational number whose s...   \n",
       "2    Let $A$ be a nonempty set of real numbers whic...   \n",
       "3    If $z$ is a complex number, prove that there e...   \n",
       "4    If $x, y$ are complex, prove that $||x|-|y|| \\...   \n",
       "..                                                 ...   \n",
       "180  Prove that $(x, y)$ is not a principal ideal i...   \n",
       "181  Prove that if $f(x)$ and $g(x)$ are polynomial...   \n",
       "182  Prove that $x^6+30x^5-15x^3 + 6x-120$ is irred...   \n",
       "183  Prove that $\\frac{(x+2)^p-2^p}{x}$, where $p$ ...   \n",
       "184  Prove that $x^2+y^2-1$ is irreducible in $\\mat...   \n",
       "\n",
       "                                              nl_proof  \\\n",
       "0    \\begin{proof}\\n\\n    If $r$ and $r+x$ were bot...   \n",
       "1    \\begin{proof}\\n\\n    Suppose $m^2=12 n^2$, whe...   \n",
       "2    \\begin{proof}\\n\\n    We need to prove that $-\\...   \n",
       "3    \\begin{proof}\\n\\n    If $z=0$, we take $r=0, w...   \n",
       "4    \\begin{proof}\\n\\n    Since $x=x-y+y$, the tria...   \n",
       "..                                                 ...   \n",
       "180  \\begin{proof}\\n\\n    Suppose, to the contrary,...   \n",
       "181  \\begin{proof}\\n\\n    Let $f(x), g(x) \\in \\math...   \n",
       "182  \\begin{proof}\\n\\n    $$\\n\\nx^6+30 x^5-15 x^3+6...   \n",
       "183  \\begin{proof}\\n\\n$\\frac{(x+2)^p-2^p}{x} \\quad ...   \n",
       "184  \\begin{proof}\\n\\n$$\\n\\np(x)=x^2+y^2-1 \\in Q[y]...   \n",
       "\n",
       "                                            first_step   tactic  \n",
       "0    If $r$ and $r+x$ were both rational, then $x=r...   ASSUME  \n",
       "1    Suppose $m^2=12 n^2$, where $m$ and $n$ have n...   ASSUME  \n",
       "2    We need to prove that $-\\sup (-A)$ is the grea...  UNKNOWN  \n",
       "3    If $z=0$, we take $r=0, w=1$. (In this case $w...  UNKNOWN  \n",
       "4       Since $x=x-y+y$, the triangle inequality gives  UNKNOWN  \n",
       "..                                                 ...      ...  \n",
       "180  Suppose, to the contrary, that $(x, y)=p$ for ...   ASSUME  \n",
       "181  Let $f(x), g(x) \\in \\mathbb{Q}[x]$ be such tha...      LET  \n",
       "182                                                 $$  UNKNOWN  \n",
       "183  $\\frac{(x+2)^p-2^p}{x} \\quad \\quad p$ is on ad...  UNKNOWN  \n",
       "184                                                 $$  UNKNOWN  \n",
       "\n",
       "[184 rows x 4 columns]"
      ]
     },
     "execution_count": 13,
     "metadata": {},
     "output_type": "execute_result"
    }
   ],
   "source": [
    "proofnet_data"
   ]
  },
  {
   "cell_type": "code",
   "execution_count": 14,
   "id": "37161ca4",
   "metadata": {},
   "outputs": [],
   "source": [
    "proofnet_data.to_csv(\"proofnet.csv\", index=False)"
   ]
  },
  {
   "cell_type": "code",
   "execution_count": null,
   "id": "e202ede3",
   "metadata": {},
   "outputs": [],
   "source": []
  }
 ],
 "metadata": {
  "kernelspec": {
   "display_name": "3.11.6",
   "language": "python",
   "name": "python3"
  },
  "language_info": {
   "codemirror_mode": {
    "name": "ipython",
    "version": 3
   },
   "file_extension": ".py",
   "mimetype": "text/x-python",
   "name": "python",
   "nbconvert_exporter": "python",
   "pygments_lexer": "ipython3",
   "version": "3.11.6"
  }
 },
 "nbformat": 4,
 "nbformat_minor": 5
}
